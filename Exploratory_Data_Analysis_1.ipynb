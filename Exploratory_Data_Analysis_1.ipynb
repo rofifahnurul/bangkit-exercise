{
 "cells": [
  {
   "cell_type": "markdown",
   "metadata": {
    "id": "view-in-github"
   },
   "source": [
    "<a href=\"https://colab.research.google.com/github/google/applied-machine-learning-intensive/blob/master/content/02_data/05_exploratory_data_analysis/colab-part1.ipynb\" target=\"_parent\"><img src=\"https://colab.research.google.com/assets/colab-badge.svg\" alt=\"Open In Colab\"/></a>"
   ]
  },
  {
   "cell_type": "markdown",
   "metadata": {
    "id": "copyright"
   },
   "source": [
    "#### Copyright 2020 Google LLC."
   ]
  },
  {
   "cell_type": "code",
   "execution_count": null,
   "metadata": {
    "id": "jHUQ8PUGZh8y"
   },
   "outputs": [],
   "source": [
    "# Licensed under the Apache License, Version 2.0 (the \"License\");\n",
    "# you may not use this file except in compliance with the License.\n",
    "# You may obtain a copy of the License at\n",
    "#\n",
    "# https://www.apache.org/licenses/LICENSE-2.0\n",
    "#\n",
    "# Unless required by applicable law or agreed to in writing, software\n",
    "# distributed under the License is distributed on an \"AS IS\" BASIS,\n",
    "# WITHOUT WARRANTIES OR CONDITIONS OF ANY KIND, either express or implied.\n",
    "# See the License for the specific language governing permissions and\n",
    "# limitations under the License."
   ]
  },
  {
   "cell_type": "markdown",
   "metadata": {
    "id": "HQswfu6M_ZBR"
   },
   "source": [
    "# Exploratory Data Analysis"
   ]
  },
  {
   "cell_type": "markdown",
   "metadata": {
    "id": "invE35z3n2Yn"
   },
   "source": [
    "[Exploratory Data Analysis](https://en.wikipedia.org/wiki/Exploratory_data_analysis), often shortened to EDA, is a term that you'll hear quite a bit in the field of data science. EDA is the process of examining a dataset to find facts about the data and communicating those facts, often through visualizations.\n",
    "\n",
    "In order to explore the data and visualize it, some modifications might need to be made to the data along the way. This is often referred to as *data preprocessing*. Though data preprocessing is technically different from EDA, EDA often exposes problems with the data that need to be fixed in order to continue exploring. Because of this tight coupling, we'll clean the data as necessary to help understand the data.\n",
    "\n",
    "In this lab we will apply our Pandas knowledge to explore a dataset about chocolate. Part 1 of the lab will explore each column in our dataset individually. Part 2 will take the results of our preprocessed data and search for patterns across columns and rows."
   ]
  },
  {
   "cell_type": "markdown",
   "metadata": {
    "id": "bIxZkNQzBiyc"
   },
   "source": [
    "## Introduction\n",
    "\n"
   ]
  },
  {
   "cell_type": "markdown",
   "metadata": {
    "id": "U4nDJfscDH9o"
   },
   "source": [
    "### The Dataset: Chocolate Bar Ratings\n",
    "\n",
    "In this lab we will use a [chocolate bar ratings dataset](https://www.kaggle.com/rtatman/chocolate-bar-ratings). The dataset is from the [Flavors of Cacao](http://flavorsofcacao.com/flavor.html) data.\n",
    "\n",
    "On the [Kaggle page for the dataset](https://www.kaggle.com/rtatman/chocolate-bar-ratings), we can find some basic information about the dataset. For instance, there are over 1,700 chocolate bars that have been rated. We can also preview the columns found in the dataset:\n",
    "\n",
    "Column | Data Type | Description\n",
    "-------|-----------|-------------\n",
    "Company (Maker-if known) | String | Name of the company manufacturing the bar.\n",
    "Specific Bean Origin or Bar Name | String | The specific geo-region of origin for the bar.\n",
    "REF | Number | A value linked to when the review was entered in the database. Higher = more recent.\n",
    "Review Date | Number | Date of publication of the review.\n",
    "Cocoa Percent | String | Cocoa percentage (darkness) of the chocolate bar being reviewed.\n",
    "Company Location | String | Manufacturer base country.\n",
    "Rating | Number | Expert rating for the bar.\n",
    "BeanType | String | The variety (breed) of bean used, if provided.\n",
    "Broad Bean Origin | String | The broad geo-region of origin for the bean.\n",
    "\n",
    "This is an interesting dataset. Think of the questions that you might be able to answer! A few could be:\n",
    "\n",
    "*   Is there a relationship between numeric rating and properties such as percentage of cocoa, bean type, origin, and maker?\n",
    "*   Are some of the properties of cacao beans correlated?\n",
    "*   Where are the top chocolate bars from?\n",
    "*   Are there multiple entries for the same bar from the same maker, but with different ratings over the years? If so, has there been any change in the chocolate bar that could account for the differences?\n",
    "*   Do makers who produce a wide variety of bars have a higher chance of creating a top-rated chocolate bar?\n",
    "\n",
    "I'm sure you can think of even more. So, what are we waiting for? Let's load the data!"
   ]
  },
  {
   "cell_type": "markdown",
   "metadata": {
    "id": "GP-kRR_72562"
   },
   "source": [
    "## Acquiring the Data\n",
    "\n",
    "The data is hosted on Kaggle, so we can use our Kaggle credentials to download the data into the lab. The dataset is located at [https://www.kaggle.com/rtatman/chocolate-bar-ratings](https://www.kaggle.com/rtatman/chocolate-bar-ratings). We can use the `kaggle` command line utility to do this.\n",
    "\n",
    "First off, upload your `kaggle.json` file into the lab now.\n",
    "\n",
    "Next, run the following command to get the credential files set to the right permissions and located in the correct spot."
   ]
  },
  {
   "cell_type": "code",
   "execution_count": null,
   "metadata": {
    "id": "-UuViqN232cr"
   },
   "outputs": [],
   "source": [
    "#! chmod 600 kaggle.json && (ls ~/.kaggle 2>/dev/null || mkdir ~/.kaggle) && mv kaggle.json ~/.kaggle/ && echo 'Done'"
   ]
  },
  {
   "cell_type": "markdown",
   "metadata": {
    "id": "gCMEX2915D1Y"
   },
   "source": [
    "Now we can run the `kaggle` command to actually download the data."
   ]
  },
  {
   "cell_type": "code",
   "execution_count": null,
   "metadata": {
    "id": "Mo1mS1Jp4c5W"
   },
   "outputs": [],
   "source": [
    "#! kaggle datasets download rtatman/chocolate-bar-ratings\n",
    "#! ls"
   ]
  },
  {
   "cell_type": "markdown",
   "metadata": {
    "id": "PytnXVWU7Lom"
   },
   "source": [
    "We now have our data downloaded to our virtual machine and stored in the file `chocolate-bar-ratings.zip`."
   ]
  },
  {
   "cell_type": "markdown",
   "metadata": {
    "id": "A8pOhe8_7YOt"
   },
   "source": [
    "## Creating a `DataFrame`\n",
    "\n",
    "We now need to load the data into memory. We can do this easily using Pandas' `read_csv()` function."
   ]
  },
  {
   "cell_type": "code",
   "execution_count": 117,
   "metadata": {
    "id": "dEDlbe_L7LEl"
   },
   "outputs": [
    {
     "data": {
      "text/html": [
       "<div>\n",
       "<style scoped>\n",
       "    .dataframe tbody tr th:only-of-type {\n",
       "        vertical-align: middle;\n",
       "    }\n",
       "\n",
       "    .dataframe tbody tr th {\n",
       "        vertical-align: top;\n",
       "    }\n",
       "\n",
       "    .dataframe thead th {\n",
       "        text-align: right;\n",
       "    }\n",
       "</style>\n",
       "<table border=\"1\" class=\"dataframe\">\n",
       "  <thead>\n",
       "    <tr style=\"text-align: right;\">\n",
       "      <th></th>\n",
       "      <th>Company \\n(Maker-if known)</th>\n",
       "      <th>Specific Bean Origin\\nor Bar Name</th>\n",
       "      <th>REF</th>\n",
       "      <th>Review\\nDate</th>\n",
       "      <th>Cocoa\\nPercent</th>\n",
       "      <th>Company\\nLocation</th>\n",
       "      <th>Rating</th>\n",
       "      <th>Bean\\nType</th>\n",
       "      <th>Broad Bean\\nOrigin</th>\n",
       "    </tr>\n",
       "  </thead>\n",
       "  <tbody>\n",
       "    <tr>\n",
       "      <td>0</td>\n",
       "      <td>A. Morin</td>\n",
       "      <td>Agua Grande</td>\n",
       "      <td>1876</td>\n",
       "      <td>2016</td>\n",
       "      <td>63%</td>\n",
       "      <td>France</td>\n",
       "      <td>3.75</td>\n",
       "      <td></td>\n",
       "      <td>Sao Tome</td>\n",
       "    </tr>\n",
       "    <tr>\n",
       "      <td>1</td>\n",
       "      <td>A. Morin</td>\n",
       "      <td>Kpime</td>\n",
       "      <td>1676</td>\n",
       "      <td>2015</td>\n",
       "      <td>70%</td>\n",
       "      <td>France</td>\n",
       "      <td>2.75</td>\n",
       "      <td></td>\n",
       "      <td>Togo</td>\n",
       "    </tr>\n",
       "    <tr>\n",
       "      <td>2</td>\n",
       "      <td>A. Morin</td>\n",
       "      <td>Atsane</td>\n",
       "      <td>1676</td>\n",
       "      <td>2015</td>\n",
       "      <td>70%</td>\n",
       "      <td>France</td>\n",
       "      <td>3.00</td>\n",
       "      <td></td>\n",
       "      <td>Togo</td>\n",
       "    </tr>\n",
       "    <tr>\n",
       "      <td>3</td>\n",
       "      <td>A. Morin</td>\n",
       "      <td>Akata</td>\n",
       "      <td>1680</td>\n",
       "      <td>2015</td>\n",
       "      <td>70%</td>\n",
       "      <td>France</td>\n",
       "      <td>3.50</td>\n",
       "      <td></td>\n",
       "      <td>Togo</td>\n",
       "    </tr>\n",
       "    <tr>\n",
       "      <td>4</td>\n",
       "      <td>A. Morin</td>\n",
       "      <td>Quilla</td>\n",
       "      <td>1704</td>\n",
       "      <td>2015</td>\n",
       "      <td>70%</td>\n",
       "      <td>France</td>\n",
       "      <td>3.50</td>\n",
       "      <td></td>\n",
       "      <td>Peru</td>\n",
       "    </tr>\n",
       "    <tr>\n",
       "      <td>...</td>\n",
       "      <td>...</td>\n",
       "      <td>...</td>\n",
       "      <td>...</td>\n",
       "      <td>...</td>\n",
       "      <td>...</td>\n",
       "      <td>...</td>\n",
       "      <td>...</td>\n",
       "      <td>...</td>\n",
       "      <td>...</td>\n",
       "    </tr>\n",
       "    <tr>\n",
       "      <td>1790</td>\n",
       "      <td>Zotter</td>\n",
       "      <td>Peru</td>\n",
       "      <td>647</td>\n",
       "      <td>2011</td>\n",
       "      <td>70%</td>\n",
       "      <td>Austria</td>\n",
       "      <td>3.75</td>\n",
       "      <td></td>\n",
       "      <td>Peru</td>\n",
       "    </tr>\n",
       "    <tr>\n",
       "      <td>1791</td>\n",
       "      <td>Zotter</td>\n",
       "      <td>Congo</td>\n",
       "      <td>749</td>\n",
       "      <td>2011</td>\n",
       "      <td>65%</td>\n",
       "      <td>Austria</td>\n",
       "      <td>3.00</td>\n",
       "      <td>Forastero</td>\n",
       "      <td>Congo</td>\n",
       "    </tr>\n",
       "    <tr>\n",
       "      <td>1792</td>\n",
       "      <td>Zotter</td>\n",
       "      <td>Kerala State</td>\n",
       "      <td>749</td>\n",
       "      <td>2011</td>\n",
       "      <td>65%</td>\n",
       "      <td>Austria</td>\n",
       "      <td>3.50</td>\n",
       "      <td>Forastero</td>\n",
       "      <td>India</td>\n",
       "    </tr>\n",
       "    <tr>\n",
       "      <td>1793</td>\n",
       "      <td>Zotter</td>\n",
       "      <td>Kerala State</td>\n",
       "      <td>781</td>\n",
       "      <td>2011</td>\n",
       "      <td>62%</td>\n",
       "      <td>Austria</td>\n",
       "      <td>3.25</td>\n",
       "      <td></td>\n",
       "      <td>India</td>\n",
       "    </tr>\n",
       "    <tr>\n",
       "      <td>1794</td>\n",
       "      <td>Zotter</td>\n",
       "      <td>Brazil, Mitzi Blue</td>\n",
       "      <td>486</td>\n",
       "      <td>2010</td>\n",
       "      <td>65%</td>\n",
       "      <td>Austria</td>\n",
       "      <td>3.00</td>\n",
       "      <td></td>\n",
       "      <td>Brazil</td>\n",
       "    </tr>\n",
       "  </tbody>\n",
       "</table>\n",
       "<p>1795 rows × 9 columns</p>\n",
       "</div>"
      ],
      "text/plain": [
       "     Company \\n(Maker-if known) Specific Bean Origin\\nor Bar Name   REF  \\\n",
       "0                      A. Morin                       Agua Grande  1876   \n",
       "1                      A. Morin                             Kpime  1676   \n",
       "2                      A. Morin                            Atsane  1676   \n",
       "3                      A. Morin                             Akata  1680   \n",
       "4                      A. Morin                            Quilla  1704   \n",
       "...                         ...                               ...   ...   \n",
       "1790                     Zotter                              Peru   647   \n",
       "1791                     Zotter                             Congo   749   \n",
       "1792                     Zotter                      Kerala State   749   \n",
       "1793                     Zotter                      Kerala State   781   \n",
       "1794                     Zotter                Brazil, Mitzi Blue   486   \n",
       "\n",
       "      Review\\nDate Cocoa\\nPercent Company\\nLocation  Rating Bean\\nType  \\\n",
       "0             2016            63%            France    3.75              \n",
       "1             2015            70%            France    2.75              \n",
       "2             2015            70%            France    3.00              \n",
       "3             2015            70%            France    3.50              \n",
       "4             2015            70%            France    3.50              \n",
       "...            ...            ...               ...     ...        ...   \n",
       "1790          2011            70%           Austria    3.75              \n",
       "1791          2011            65%           Austria    3.00  Forastero   \n",
       "1792          2011            65%           Austria    3.50  Forastero   \n",
       "1793          2011            62%           Austria    3.25              \n",
       "1794          2010            65%           Austria    3.00              \n",
       "\n",
       "     Broad Bean\\nOrigin  \n",
       "0              Sao Tome  \n",
       "1                  Togo  \n",
       "2                  Togo  \n",
       "3                  Togo  \n",
       "4                  Peru  \n",
       "...                 ...  \n",
       "1790               Peru  \n",
       "1791              Congo  \n",
       "1792              India  \n",
       "1793              India  \n",
       "1794             Brazil  \n",
       "\n",
       "[1795 rows x 9 columns]"
      ]
     },
     "execution_count": 117,
     "metadata": {},
     "output_type": "execute_result"
    }
   ],
   "source": [
    "import pandas as pd\n",
    "\n",
    "#df = pd.read_csv('chocolate-bar-ratings.zip')\n",
    "df = pd.read_csv('data/flavors_of_cacao.csv')\n",
    "df"
   ]
  },
  {
   "cell_type": "markdown",
   "metadata": {
    "id": "BNK6_wRAUK8g"
   },
   "source": [
    "Let's also make sure that our data types match what was documented:"
   ]
  },
  {
   "cell_type": "code",
   "execution_count": 118,
   "metadata": {
    "id": "igRLU1b4UOaK"
   },
   "outputs": [
    {
     "data": {
      "text/plain": [
       "Company \\n(Maker-if known)            object\n",
       "Specific Bean Origin\\nor Bar Name     object\n",
       "REF                                    int64\n",
       "Review\\nDate                           int64\n",
       "Cocoa\\nPercent                        object\n",
       "Company\\nLocation                     object\n",
       "Rating                               float64\n",
       "Bean\\nType                            object\n",
       "Broad Bean\\nOrigin                    object\n",
       "dtype: object"
      ]
     },
     "execution_count": 118,
     "metadata": {},
     "output_type": "execute_result"
    }
   ],
   "source": [
    "df.dtypes"
   ]
  },
  {
   "cell_type": "markdown",
   "metadata": {
    "id": "RwASf5wWUQvK"
   },
   "source": [
    "In this output, `object` types are strings while `int64` types are whole numbers and `float64` types are fractional numbers. This seems to match the documentation that we saw for the dataset."
   ]
  },
  {
   "cell_type": "markdown",
   "metadata": {
    "id": "oHYaN8iV7v8_"
   },
   "source": [
    "From just a glance at the `DataFrame`, we can see a few facts about our data:\n",
    "\n",
    "* There are 1,795 rows and 9 columns.\n",
    "* The columns are the columns we expected based on the documentation, though some have `\\n` (new line) embedded in them. We'll need to clean that up.\n",
    "* The data seems to be sorted by the 'Company' column.\n",
    "* There is definitely some missing data, as we can see in the 'Bean Type' column.\n",
    "\n",
    "We will look more closely at each column throughout this lab."
   ]
  },
  {
   "cell_type": "markdown",
   "metadata": {
    "id": "2rQzustf9B4b"
   },
   "source": [
    "## Cleaning Up Column Names\n",
    "\n",
    "One of the more frustrating aspects of this dataset is the poor format of the column names. Typing 'Specific Bean Origin\\nor Bar Name' in order to access the column is painful.\n",
    "\n",
    "So our first order of business will be to update the column names."
   ]
  },
  {
   "cell_type": "code",
   "execution_count": 119,
   "metadata": {
    "id": "iBb6frD19ZEp"
   },
   "outputs": [
    {
     "data": {
      "text/html": [
       "<div>\n",
       "<style scoped>\n",
       "    .dataframe tbody tr th:only-of-type {\n",
       "        vertical-align: middle;\n",
       "    }\n",
       "\n",
       "    .dataframe tbody tr th {\n",
       "        vertical-align: top;\n",
       "    }\n",
       "\n",
       "    .dataframe thead th {\n",
       "        text-align: right;\n",
       "    }\n",
       "</style>\n",
       "<table border=\"1\" class=\"dataframe\">\n",
       "  <thead>\n",
       "    <tr style=\"text-align: right;\">\n",
       "      <th></th>\n",
       "      <th>Company</th>\n",
       "      <th>Specific Bean Origin</th>\n",
       "      <th>REF</th>\n",
       "      <th>Review Date</th>\n",
       "      <th>Cocoa Percent</th>\n",
       "      <th>Company Location</th>\n",
       "      <th>Rating</th>\n",
       "      <th>Bean Type</th>\n",
       "      <th>Broad Bean Origin</th>\n",
       "    </tr>\n",
       "  </thead>\n",
       "  <tbody>\n",
       "    <tr>\n",
       "      <td>0</td>\n",
       "      <td>A. Morin</td>\n",
       "      <td>Agua Grande</td>\n",
       "      <td>1876</td>\n",
       "      <td>2016</td>\n",
       "      <td>63%</td>\n",
       "      <td>France</td>\n",
       "      <td>3.75</td>\n",
       "      <td></td>\n",
       "      <td>Sao Tome</td>\n",
       "    </tr>\n",
       "    <tr>\n",
       "      <td>1</td>\n",
       "      <td>A. Morin</td>\n",
       "      <td>Kpime</td>\n",
       "      <td>1676</td>\n",
       "      <td>2015</td>\n",
       "      <td>70%</td>\n",
       "      <td>France</td>\n",
       "      <td>2.75</td>\n",
       "      <td></td>\n",
       "      <td>Togo</td>\n",
       "    </tr>\n",
       "    <tr>\n",
       "      <td>2</td>\n",
       "      <td>A. Morin</td>\n",
       "      <td>Atsane</td>\n",
       "      <td>1676</td>\n",
       "      <td>2015</td>\n",
       "      <td>70%</td>\n",
       "      <td>France</td>\n",
       "      <td>3.00</td>\n",
       "      <td></td>\n",
       "      <td>Togo</td>\n",
       "    </tr>\n",
       "    <tr>\n",
       "      <td>3</td>\n",
       "      <td>A. Morin</td>\n",
       "      <td>Akata</td>\n",
       "      <td>1680</td>\n",
       "      <td>2015</td>\n",
       "      <td>70%</td>\n",
       "      <td>France</td>\n",
       "      <td>3.50</td>\n",
       "      <td></td>\n",
       "      <td>Togo</td>\n",
       "    </tr>\n",
       "    <tr>\n",
       "      <td>4</td>\n",
       "      <td>A. Morin</td>\n",
       "      <td>Quilla</td>\n",
       "      <td>1704</td>\n",
       "      <td>2015</td>\n",
       "      <td>70%</td>\n",
       "      <td>France</td>\n",
       "      <td>3.50</td>\n",
       "      <td></td>\n",
       "      <td>Peru</td>\n",
       "    </tr>\n",
       "    <tr>\n",
       "      <td>...</td>\n",
       "      <td>...</td>\n",
       "      <td>...</td>\n",
       "      <td>...</td>\n",
       "      <td>...</td>\n",
       "      <td>...</td>\n",
       "      <td>...</td>\n",
       "      <td>...</td>\n",
       "      <td>...</td>\n",
       "      <td>...</td>\n",
       "    </tr>\n",
       "    <tr>\n",
       "      <td>1790</td>\n",
       "      <td>Zotter</td>\n",
       "      <td>Peru</td>\n",
       "      <td>647</td>\n",
       "      <td>2011</td>\n",
       "      <td>70%</td>\n",
       "      <td>Austria</td>\n",
       "      <td>3.75</td>\n",
       "      <td></td>\n",
       "      <td>Peru</td>\n",
       "    </tr>\n",
       "    <tr>\n",
       "      <td>1791</td>\n",
       "      <td>Zotter</td>\n",
       "      <td>Congo</td>\n",
       "      <td>749</td>\n",
       "      <td>2011</td>\n",
       "      <td>65%</td>\n",
       "      <td>Austria</td>\n",
       "      <td>3.00</td>\n",
       "      <td>Forastero</td>\n",
       "      <td>Congo</td>\n",
       "    </tr>\n",
       "    <tr>\n",
       "      <td>1792</td>\n",
       "      <td>Zotter</td>\n",
       "      <td>Kerala State</td>\n",
       "      <td>749</td>\n",
       "      <td>2011</td>\n",
       "      <td>65%</td>\n",
       "      <td>Austria</td>\n",
       "      <td>3.50</td>\n",
       "      <td>Forastero</td>\n",
       "      <td>India</td>\n",
       "    </tr>\n",
       "    <tr>\n",
       "      <td>1793</td>\n",
       "      <td>Zotter</td>\n",
       "      <td>Kerala State</td>\n",
       "      <td>781</td>\n",
       "      <td>2011</td>\n",
       "      <td>62%</td>\n",
       "      <td>Austria</td>\n",
       "      <td>3.25</td>\n",
       "      <td></td>\n",
       "      <td>India</td>\n",
       "    </tr>\n",
       "    <tr>\n",
       "      <td>1794</td>\n",
       "      <td>Zotter</td>\n",
       "      <td>Brazil, Mitzi Blue</td>\n",
       "      <td>486</td>\n",
       "      <td>2010</td>\n",
       "      <td>65%</td>\n",
       "      <td>Austria</td>\n",
       "      <td>3.00</td>\n",
       "      <td></td>\n",
       "      <td>Brazil</td>\n",
       "    </tr>\n",
       "  </tbody>\n",
       "</table>\n",
       "<p>1795 rows × 9 columns</p>\n",
       "</div>"
      ],
      "text/plain": [
       "       Company Specific Bean Origin   REF  Review Date Cocoa Percent  \\\n",
       "0     A. Morin          Agua Grande  1876         2016           63%   \n",
       "1     A. Morin                Kpime  1676         2015           70%   \n",
       "2     A. Morin               Atsane  1676         2015           70%   \n",
       "3     A. Morin                Akata  1680         2015           70%   \n",
       "4     A. Morin               Quilla  1704         2015           70%   \n",
       "...        ...                  ...   ...          ...           ...   \n",
       "1790    Zotter                 Peru   647         2011           70%   \n",
       "1791    Zotter                Congo   749         2011           65%   \n",
       "1792    Zotter         Kerala State   749         2011           65%   \n",
       "1793    Zotter         Kerala State   781         2011           62%   \n",
       "1794    Zotter   Brazil, Mitzi Blue   486         2010           65%   \n",
       "\n",
       "     Company Location  Rating  Bean Type Broad Bean Origin  \n",
       "0              France    3.75                     Sao Tome  \n",
       "1              France    2.75                         Togo  \n",
       "2              France    3.00                         Togo  \n",
       "3              France    3.50                         Togo  \n",
       "4              France    3.50                         Peru  \n",
       "...               ...     ...        ...               ...  \n",
       "1790          Austria    3.75                         Peru  \n",
       "1791          Austria    3.00  Forastero             Congo  \n",
       "1792          Austria    3.50  Forastero             India  \n",
       "1793          Austria    3.25                        India  \n",
       "1794          Austria    3.00                       Brazil  \n",
       "\n",
       "[1795 rows x 9 columns]"
      ]
     },
     "execution_count": 119,
     "metadata": {},
     "output_type": "execute_result"
    }
   ],
   "source": [
    "df.columns = [\n",
    "  'Company',\n",
    "  'Specific Bean Origin',\n",
    "  'REF',\n",
    "  'Review Date',\n",
    "  'Cocoa Percent',\n",
    "  'Company Location',\n",
    "  'Rating',\n",
    "  'Bean Type',\n",
    "  'Broad Bean Origin'\n",
    "]\n",
    "\n",
    "df"
   ]
  },
  {
   "cell_type": "markdown",
   "metadata": {
    "id": "Pac1xBZk_TtO"
   },
   "source": [
    "That's much better, but the columns are also in an odd order. Information about the company is spread across the columns, and so is the information about the cacao bean. Let's order the columns a little more meaningfully.\n",
    "\n",
    "This order makes a little more sense:\n",
    "\n",
    "**Company Information:**\n",
    "* Company\n",
    "* Company Location\n",
    "\n",
    "**Chocolate Bar Information**\n",
    "* Bean Type\n",
    "* Specific Bean Origin\n",
    "* Broad Bean Origin\n",
    "* Cocoa Percent\n",
    "\n",
    "**Review Information**\n",
    "* REF\n",
    "* Review Date\n",
    "* Rating\n",
    "\n",
    "We can reorder the columns by specifically selecting the columns in order and reassigning them to the `df` variable:"
   ]
  },
  {
   "cell_type": "code",
   "execution_count": 120,
   "metadata": {
    "id": "8OzxV-x66YKS"
   },
   "outputs": [
    {
     "data": {
      "text/html": [
       "<div>\n",
       "<style scoped>\n",
       "    .dataframe tbody tr th:only-of-type {\n",
       "        vertical-align: middle;\n",
       "    }\n",
       "\n",
       "    .dataframe tbody tr th {\n",
       "        vertical-align: top;\n",
       "    }\n",
       "\n",
       "    .dataframe thead th {\n",
       "        text-align: right;\n",
       "    }\n",
       "</style>\n",
       "<table border=\"1\" class=\"dataframe\">\n",
       "  <thead>\n",
       "    <tr style=\"text-align: right;\">\n",
       "      <th></th>\n",
       "      <th>Company</th>\n",
       "      <th>Company Location</th>\n",
       "      <th>Bean Type</th>\n",
       "      <th>Specific Bean Origin</th>\n",
       "      <th>Broad Bean Origin</th>\n",
       "      <th>Cocoa Percent</th>\n",
       "      <th>REF</th>\n",
       "      <th>Review Date</th>\n",
       "      <th>Rating</th>\n",
       "    </tr>\n",
       "  </thead>\n",
       "  <tbody>\n",
       "    <tr>\n",
       "      <td>0</td>\n",
       "      <td>A. Morin</td>\n",
       "      <td>France</td>\n",
       "      <td></td>\n",
       "      <td>Agua Grande</td>\n",
       "      <td>Sao Tome</td>\n",
       "      <td>63%</td>\n",
       "      <td>1876</td>\n",
       "      <td>2016</td>\n",
       "      <td>3.75</td>\n",
       "    </tr>\n",
       "    <tr>\n",
       "      <td>1</td>\n",
       "      <td>A. Morin</td>\n",
       "      <td>France</td>\n",
       "      <td></td>\n",
       "      <td>Kpime</td>\n",
       "      <td>Togo</td>\n",
       "      <td>70%</td>\n",
       "      <td>1676</td>\n",
       "      <td>2015</td>\n",
       "      <td>2.75</td>\n",
       "    </tr>\n",
       "    <tr>\n",
       "      <td>2</td>\n",
       "      <td>A. Morin</td>\n",
       "      <td>France</td>\n",
       "      <td></td>\n",
       "      <td>Atsane</td>\n",
       "      <td>Togo</td>\n",
       "      <td>70%</td>\n",
       "      <td>1676</td>\n",
       "      <td>2015</td>\n",
       "      <td>3.00</td>\n",
       "    </tr>\n",
       "    <tr>\n",
       "      <td>3</td>\n",
       "      <td>A. Morin</td>\n",
       "      <td>France</td>\n",
       "      <td></td>\n",
       "      <td>Akata</td>\n",
       "      <td>Togo</td>\n",
       "      <td>70%</td>\n",
       "      <td>1680</td>\n",
       "      <td>2015</td>\n",
       "      <td>3.50</td>\n",
       "    </tr>\n",
       "    <tr>\n",
       "      <td>4</td>\n",
       "      <td>A. Morin</td>\n",
       "      <td>France</td>\n",
       "      <td></td>\n",
       "      <td>Quilla</td>\n",
       "      <td>Peru</td>\n",
       "      <td>70%</td>\n",
       "      <td>1704</td>\n",
       "      <td>2015</td>\n",
       "      <td>3.50</td>\n",
       "    </tr>\n",
       "    <tr>\n",
       "      <td>...</td>\n",
       "      <td>...</td>\n",
       "      <td>...</td>\n",
       "      <td>...</td>\n",
       "      <td>...</td>\n",
       "      <td>...</td>\n",
       "      <td>...</td>\n",
       "      <td>...</td>\n",
       "      <td>...</td>\n",
       "      <td>...</td>\n",
       "    </tr>\n",
       "    <tr>\n",
       "      <td>1790</td>\n",
       "      <td>Zotter</td>\n",
       "      <td>Austria</td>\n",
       "      <td></td>\n",
       "      <td>Peru</td>\n",
       "      <td>Peru</td>\n",
       "      <td>70%</td>\n",
       "      <td>647</td>\n",
       "      <td>2011</td>\n",
       "      <td>3.75</td>\n",
       "    </tr>\n",
       "    <tr>\n",
       "      <td>1791</td>\n",
       "      <td>Zotter</td>\n",
       "      <td>Austria</td>\n",
       "      <td>Forastero</td>\n",
       "      <td>Congo</td>\n",
       "      <td>Congo</td>\n",
       "      <td>65%</td>\n",
       "      <td>749</td>\n",
       "      <td>2011</td>\n",
       "      <td>3.00</td>\n",
       "    </tr>\n",
       "    <tr>\n",
       "      <td>1792</td>\n",
       "      <td>Zotter</td>\n",
       "      <td>Austria</td>\n",
       "      <td>Forastero</td>\n",
       "      <td>Kerala State</td>\n",
       "      <td>India</td>\n",
       "      <td>65%</td>\n",
       "      <td>749</td>\n",
       "      <td>2011</td>\n",
       "      <td>3.50</td>\n",
       "    </tr>\n",
       "    <tr>\n",
       "      <td>1793</td>\n",
       "      <td>Zotter</td>\n",
       "      <td>Austria</td>\n",
       "      <td></td>\n",
       "      <td>Kerala State</td>\n",
       "      <td>India</td>\n",
       "      <td>62%</td>\n",
       "      <td>781</td>\n",
       "      <td>2011</td>\n",
       "      <td>3.25</td>\n",
       "    </tr>\n",
       "    <tr>\n",
       "      <td>1794</td>\n",
       "      <td>Zotter</td>\n",
       "      <td>Austria</td>\n",
       "      <td></td>\n",
       "      <td>Brazil, Mitzi Blue</td>\n",
       "      <td>Brazil</td>\n",
       "      <td>65%</td>\n",
       "      <td>486</td>\n",
       "      <td>2010</td>\n",
       "      <td>3.00</td>\n",
       "    </tr>\n",
       "  </tbody>\n",
       "</table>\n",
       "<p>1795 rows × 9 columns</p>\n",
       "</div>"
      ],
      "text/plain": [
       "       Company Company Location  Bean Type Specific Bean Origin  \\\n",
       "0     A. Morin           France                     Agua Grande   \n",
       "1     A. Morin           France                           Kpime   \n",
       "2     A. Morin           France                          Atsane   \n",
       "3     A. Morin           France                           Akata   \n",
       "4     A. Morin           France                          Quilla   \n",
       "...        ...              ...        ...                  ...   \n",
       "1790    Zotter          Austria                            Peru   \n",
       "1791    Zotter          Austria  Forastero                Congo   \n",
       "1792    Zotter          Austria  Forastero         Kerala State   \n",
       "1793    Zotter          Austria                    Kerala State   \n",
       "1794    Zotter          Austria              Brazil, Mitzi Blue   \n",
       "\n",
       "     Broad Bean Origin Cocoa Percent   REF  Review Date  Rating  \n",
       "0             Sao Tome           63%  1876         2016    3.75  \n",
       "1                 Togo           70%  1676         2015    2.75  \n",
       "2                 Togo           70%  1676         2015    3.00  \n",
       "3                 Togo           70%  1680         2015    3.50  \n",
       "4                 Peru           70%  1704         2015    3.50  \n",
       "...                ...           ...   ...          ...     ...  \n",
       "1790              Peru           70%   647         2011    3.75  \n",
       "1791             Congo           65%   749         2011    3.00  \n",
       "1792             India           65%   749         2011    3.50  \n",
       "1793             India           62%   781         2011    3.25  \n",
       "1794            Brazil           65%   486         2010    3.00  \n",
       "\n",
       "[1795 rows x 9 columns]"
      ]
     },
     "execution_count": 120,
     "metadata": {},
     "output_type": "execute_result"
    }
   ],
   "source": [
    "df = df[[\n",
    "  'Company',\n",
    "  'Company Location',\n",
    "  'Bean Type',\n",
    "  'Specific Bean Origin',\n",
    "  'Broad Bean Origin',\n",
    "  'Cocoa Percent',\n",
    "  'REF',\n",
    "  'Review Date',\n",
    "  'Rating',\n",
    "]]\n",
    "\n",
    "df"
   ]
  },
  {
   "cell_type": "markdown",
   "metadata": {
    "id": "y-gRkwD89Ycv"
   },
   "source": [
    "## Examining Each Column\n",
    "\n",
    "\n",
    "In this section we will examine each column to learn about the data in the column. We will also make changes to the data as needed."
   ]
  },
  {
   "cell_type": "markdown",
   "metadata": {
    "id": "dEe__vNL_pA4"
   },
   "source": [
    "### Column: Company"
   ]
  },
  {
   "cell_type": "markdown",
   "metadata": {
    "id": "uA6heaR7TlmX"
   },
   "source": [
    "The 'Company' column is the first in the list, so let's look at it first.\n",
    "\n",
    "We can tell that the column contains string values. Let's see if any are missing:"
   ]
  },
  {
   "cell_type": "code",
   "execution_count": 121,
   "metadata": {
    "id": "UWkigEjU_3cn"
   },
   "outputs": [
    {
     "data": {
      "text/plain": [
       "False"
      ]
     },
     "execution_count": 121,
     "metadata": {},
     "output_type": "execute_result"
    }
   ],
   "source": [
    "df['Company'].isnull().any()"
   ]
  },
  {
   "cell_type": "markdown",
   "metadata": {
    "id": "8qyTNSA3AOWe"
   },
   "source": [
    "No data is missing. Let's now see how many distinct values there are:"
   ]
  },
  {
   "cell_type": "code",
   "execution_count": 122,
   "metadata": {
    "id": "O-nr1--gATSg"
   },
   "outputs": [
    {
     "data": {
      "text/plain": [
       "416"
      ]
     },
     "execution_count": 122,
     "metadata": {},
     "output_type": "execute_result"
    }
   ],
   "source": [
    "df['Company'].unique().size"
   ]
  },
  {
   "cell_type": "markdown",
   "metadata": {
    "id": "PjeigrI6AZgo"
   },
   "source": [
    "A few hundred is not a terribly long list. Let's print the list in alphabetical order to see how it looks."
   ]
  },
  {
   "cell_type": "code",
   "execution_count": 123,
   "metadata": {
    "id": "_POI-9fCAgAi"
   },
   "outputs": [
    {
     "name": "stdout",
     "output_type": "stream",
     "text": [
      "A. Morin\n",
      "AMMA\n",
      "Acalli\n",
      "Adi\n",
      "Aequare (Gianduja)\n",
      "Ah Cacao\n",
      "Akesson's (Pralus)\n",
      "Alain Ducasse\n",
      "Alexandre\n",
      "Altus aka Cao Artisan\n",
      "Amano\n",
      "Amatller (Simon Coll)\n",
      "Amazona\n",
      "Ambrosia\n",
      "Amedei\n",
      "Anahata\n",
      "Animas\n",
      "Ara\n",
      "Arete\n",
      "Artisan du Chocolat\n",
      "Artisan du Chocolat (Casa Luker)\n",
      "Askinosie\n",
      "Bahen & Co.\n",
      "Bakau\n",
      "Bar Au Chocolat\n",
      "Baravelli's\n",
      "Batch\n",
      "Beau Cacao\n",
      "Beehive\n",
      "Belcolade\n",
      "Bellflower\n",
      "Belyzium\n",
      "Benoit Nihant\n",
      "Bernachon\n",
      "Beschle (Felchlin)\n",
      "Bisou\n",
      "Bittersweet Origins\n",
      "Black Mountain\n",
      "Black River (A. Morin)\n",
      "Blanxart\n",
      "Blue Bandana\n",
      "Bonnat\n",
      "Bouga Cacao (Tulicorp)\n",
      "Bowler Man\n",
      "Brasstown aka It's Chocolate\n",
      "Brazen\n",
      "Breeze Mill\n",
      "Bright\n",
      "Britarev\n",
      "Bronx Grrl Chocolate\n",
      "Burnt Fork Bend\n",
      "C-Amaro\n",
      "Cacao Arabuco\n",
      "Cacao Atlanta\n",
      "Cacao Barry\n",
      "Cacao Hunters\n",
      "Cacao Market\n",
      "Cacao Prieto\n",
      "Cacao Sampaka\n",
      "Cacao Store\n",
      "Cacao de Origen\n",
      "Cacao de Origin\n",
      "Cacaosuyo (Theobroma Inversiones)\n",
      "Cacaoyere (Ecuatoriana)\n",
      "Callebaut\n",
      "Cao\n",
      "Caoni (Tulicorp)\n",
      "Captain Pembleton\n",
      "Caribeans\n",
      "Carlotta Chocolat\n",
      "Castronovo\n",
      "Cello\n",
      "Cemoi\n",
      "Chaleur B\n",
      "Charm School\n",
      "Chchukululu (Tulicorp)\n",
      "Chequessett\n",
      "Chloe Chocolat\n",
      "Chocablog\n",
      "Choco Del Sol\n",
      "Choco Dong\n",
      "ChocoReko\n",
      "Chocola'te\n",
      "Chocolarder\n",
      "Chocolate Alchemist-Philly\n",
      "Chocolate Con Amor\n",
      "Chocolate Conspiracy\n",
      "Chocolate Makers\n",
      "Chocolate Tree, The\n",
      "Chocolats Privilege\n",
      "Chocosol\n",
      "Chocovic\n",
      "Chocovivo\n",
      "Choklat\n",
      "Chokolat Elot (Girard)\n",
      "Choocsol\n",
      "Christopher Morel (Felchlin)\n",
      "Chuao Chocolatier\n",
      "Chuao Chocolatier (Pralus)\n",
      "Claudio Corallo\n",
      "Cloudforest\n",
      "Coleman & Davis\n",
      "Compania de Chocolate (Salgado)\n",
      "Condor\n",
      "Confluence\n",
      "Coppeneur\n",
      "Cote d' Or (Kraft)\n",
      "Cravve\n",
      "Creo\n",
      "DAR\n",
      "Daintree\n",
      "Dalloway\n",
      "Damson\n",
      "Dandelion\n",
      "Danta\n",
      "Dark Forest\n",
      "Davis\n",
      "De Mendes\n",
      "De Villiers\n",
      "DeVries\n",
      "Dean and Deluca (Belcolade)\n",
      "Debauve & Gallais (Michel Cluizel)\n",
      "Desbarres\n",
      "Dick Taylor\n",
      "Doble & Bignall\n",
      "Dole (Guittard)\n",
      "Dolfin (Belcolade)\n",
      "Domori\n",
      "Dormouse\n",
      "Duffy's\n",
      "Dulcinea\n",
      "Durand\n",
      "Durci\n",
      "ENNA\n",
      "East Van Roasters\n",
      "Eau de Rose\n",
      "Eclat (Felchlin)\n",
      "Edelmond\n",
      "El Ceibo\n",
      "El Rey\n",
      "Emerald Estate\n",
      "Emily's\n",
      "Enric Rovira (Claudio Corallo)\n",
      "Erithaj (A. Morin)\n",
      "Escazu\n",
      "Ethel's Artisan (Mars)\n",
      "Ethereal\n",
      "Fearless (AMMA)\n",
      "Feitoria Cacao\n",
      "Felchlin\n",
      "Finca\n",
      "Forever Cacao\n",
      "Forteza (Cortes)\n",
      "Fossa\n",
      "Franceschi\n",
      "Frederic Blondeel\n",
      "French Broad\n",
      "Fresco\n",
      "Friis Holm\n",
      "Friis Holm (Bonnat)\n",
      "Fruition\n",
      "Garden Island\n",
      "Georgia Ramon\n",
      "Glennmade\n",
      "Goodnow Farms\n",
      "Grand Place\n",
      "Green & Black's (ICAM)\n",
      "Green Bean to Bar\n",
      "Grenada Chocolate Co.\n",
      "Guido Castagna\n",
      "Guittard\n",
      "Habitual\n",
      "Hachez\n",
      "Hacienda El Castillo\n",
      "Haigh\n",
      "Harper Macaw\n",
      "Heilemann\n",
      "Heirloom Cacao Preservation (Brasstown)\n",
      "Heirloom Cacao Preservation (Fruition)\n",
      "Heirloom Cacao Preservation (Guittard)\n",
      "Heirloom Cacao Preservation (Manoa)\n",
      "Heirloom Cacao Preservation (Millcreek)\n",
      "Heirloom Cacao Preservation (Mindo)\n",
      "Heirloom Cacao Preservation (Zokoko)\n",
      "Hogarth\n",
      "Hoja Verde (Tulicorp)\n",
      "Holy Cacao\n",
      "Honest\n",
      "Hotel Chocolat\n",
      "Hotel Chocolat (Coppeneur)\n",
      "Hummingbird\n",
      "Idilio (Felchlin)\n",
      "Indah\n",
      "Indaphoria\n",
      "Indi\n",
      "Isidro\n",
      "Izard\n",
      "Jacque Torres\n",
      "Jordis\n",
      "Just Good Chocolate\n",
      "K'ul\n",
      "Kah Kow\n",
      "Kakao\n",
      "Kallari (Ecuatoriana)\n",
      "Kaoka (Cemoi)\n",
      "Kerchner\n",
      "Ki' Xocolatl\n",
      "Kiskadee\n",
      "Kto\n",
      "Kyya\n",
      "L'Amourette\n",
      "L.A. Burdick (Felchlin)\n",
      "La Chocolaterie Nanairo\n",
      "La Maison du Chocolat (Valrhona)\n",
      "La Oroquidea\n",
      "La Pepa de Oro\n",
      "Laia aka Chat-Noir\n",
      "Lajedo do Ouro\n",
      "Lake Champlain (Callebaut)\n",
      "Letterpress\n",
      "Levy\n",
      "Lilla\n",
      "Lillie Belle\n",
      "Lindt & Sprungli\n",
      "Loiza\n",
      "Lonohana\n",
      "Love Bar\n",
      "Luker\n",
      "Machu Picchu Trading Co.\n",
      "Madecasse (Cinagra)\n",
      "Madre\n",
      "Maglio\n",
      "Majani\n",
      "Malagasy (Chocolaterie Robert)\n",
      "Malagos\n",
      "Malie Kai (Guittard)\n",
      "Malmo\n",
      "Mana\n",
      "Manifesto Cacao\n",
      "Manoa\n",
      "Manufaktura Czekolady\n",
      "Map Chocolate\n",
      "Marana\n",
      "Marigold's Finest\n",
      "Marou\n",
      "Mars\n",
      "Marsatta\n",
      "Martin Mayer\n",
      "Mast Brothers\n",
      "Matale\n",
      "Maverick\n",
      "Mayacama\n",
      "Meadowlands\n",
      "Menakao (aka Cinagra)\n",
      "Mesocacao\n",
      "Metiisto\n",
      "Metropolitan\n",
      "Michel Cluizel\n",
      "Middlebury\n",
      "Millcreek Cacao Roasters\n",
      "Mindo\n",
      "Minimal\n",
      "Mission\n",
      "Mita\n",
      "Moho\n",
      "Molucca\n",
      "Momotombo\n",
      "Monarque\n",
      "Monsieur Truffe\n",
      "Montecristi\n",
      "Muchomas (Mesocacao)\n",
      "Mutari\n",
      "Nahua\n",
      "Naive\n",
      "Nanea\n",
      "Nathan Miller\n",
      "Na�ve\n",
      "Neuhaus (Callebaut)\n",
      "Nibble\n",
      "Night Owl\n",
      "Noble Bean aka Jerjobo\n",
      "Noir d' Ebine\n",
      "Nova Monda\n",
      "Nuance\n",
      "Nugali\n",
      "Oakland Chocolate Co.\n",
      "Obolo\n",
      "Ocelot\n",
      "Ocho\n",
      "Ohiyo\n",
      "Oialla by Bojessen (Malmo)\n",
      "Olive and Sinclair\n",
      "Olivia\n",
      "Omanhene\n",
      "Omnom\n",
      "Original Beans (Felchlin)\n",
      "Original Hawaiin Chocolate Factory\n",
      "Orquidea\n",
      "Pacari\n",
      "Palette de Bine\n",
      "Pangea\n",
      "Park 75\n",
      "Parliament\n",
      "Pascha\n",
      "Patric\n",
      "Paul Young\n",
      "Peppalo\n",
      "Pierre Marcolini\n",
      "Pinellas\n",
      "Pitch Dark\n",
      "Pomm (aka Dead Dog)\n",
      "Potomac\n",
      "Pralus\n",
      "Pump Street Bakery\n",
      "Pura Delizia\n",
      "Q Chocolate\n",
      "Quetzalli (Wolter)\n",
      "Raaka\n",
      "Rain Republic\n",
      "Rancho San Jacinto\n",
      "Ranger\n",
      "Raoul Boulanger\n",
      "Raw Cocoa\n",
      "Republica del Cacao (aka Confecta)\n",
      "Ritual\n",
      "Roasting Masters\n",
      "Robert (aka Chocolaterie Robert)\n",
      "Rococo (Grenada Chocolate Co.)\n",
      "Rogue\n",
      "Rozsavolgyi\n",
      "S.A.I.D.\n",
      "SRSLY\n",
      "Sacred\n",
      "Salgado\n",
      "Santander (Compania Nacional)\n",
      "Santome\n",
      "Scharffen Berger\n",
      "Seaforth\n",
      "Shark Mountain\n",
      "Shark's\n",
      "Shattel\n",
      "Shattell\n",
      "Sibu\n",
      "Sibu Sura\n",
      "Silvio Bessone\n",
      "Sirene\n",
      "Sjolinds\n",
      "Smooth Chocolator, The\n",
      "Snake & Butterfly\n",
      "Sol Cacao\n",
      "Solkiki\n",
      "Solomons Gold\n",
      "Solstice\n",
      "Soma\n",
      "Somerville\n",
      "Soul\n",
      "Spagnvola\n",
      "Spencer\n",
      "Sprungli (Felchlin)\n",
      "StRita Supreme\n",
      "Starchild\n",
      "Stella (aka Bernrain)\n",
      "Stone Grindz\n",
      "Sublime Origins\n",
      "Summerbird\n",
      "Suruca Chocolate\n",
      "Svenska Kakaobolaget\n",
      "Szanto Tibor\n",
      "TCHO\n",
      "Tabal\n",
      "Tablette (aka Vanillabeans)\n",
      "Tan Ban Skrati\n",
      "Taza\n",
      "Tejas\n",
      "Terroir\n",
      "The Barn\n",
      "Theo\n",
      "Theobroma\n",
      "Timo A. Meyer\n",
      "To'ak (Ecuatoriana)\n",
      "Tobago Estate (Pralus)\n",
      "Tocoti\n",
      "Treehouse\n",
      "Tsara (Cinagra)\n",
      "Two Ravens\n",
      "Un Dimanche A Paris\n",
      "Undone\n",
      "Upchurch\n",
      "Urzi\n",
      "Valrhona\n",
      "Vanleer (Barry Callebaut)\n",
      "Vao Vao (Chocolaterie Robert)\n",
      "Vicuna\n",
      "Videri\n",
      "Vietcacao (A. Morin)\n",
      "Vintage Plantations\n",
      "Vintage Plantations (Tulicorp)\n",
      "Violet Sky\n",
      "Vivra\n",
      "Wellington Chocolate Factory\n",
      "Whittakers\n",
      "Wilkie's Organic\n",
      "Willie's Cacao\n",
      "Wm\n",
      "Woodblock\n",
      "Xocolat\n",
      "Xocolla\n",
      "Zak's\n",
      "Zart Pralinen\n",
      "Zokoko\n",
      "Zotter\n",
      "hello cocoa\n",
      "hexx\n",
      "iQ Chocolate\n",
      "organicfair\n",
      "twenty-four blackbirds\n"
     ]
    }
   ],
   "source": [
    "for company in sorted(df['Company'].unique()):\n",
    "  print(company)"
   ]
  },
  {
   "cell_type": "markdown",
   "metadata": {
    "id": "k8E5wwxVCFqd"
   },
   "source": [
    "This is some interesting data. Looking at it raises many questions. For instance:\n",
    "\n",
    "* Should company names like 'Vintage Plantations' and 'Vintage Plantations (Tulicorp)' be changed to the same name?\n",
    "* Is 'Cacao de Origin' a misspelling of 'Cacao de Origen'?\n",
    "* Is 'Shattel' a misspelling of 'Shattell'?\n",
    "\n",
    "These are the types of things you'll see and questions you'll ask when you encounter a new dataset. Rarely is the data in perfect condition. Often you'll spend a considerable amount of time researching topics related to the data in order to make a call about repairing aspects of the data.\n",
    "\n",
    "In this particular case, it would be great if we could find a master list of all of the chocolate makers in the world. We could then cross reference the names in the dataset with the names in the master list.\n",
    "\n",
    "Unfortunately, we don't have a master list of chocolate makers. Instead, we will have to rely on manually inspecting the data and researching when things don't look right.\n",
    "\n",
    "Let's say that for now we are confident that 'Cacao de Origin' and 'Shattel' are misspellings, so we will correct that data. We aren't confident enough to change any of the names with parentheses in them though.\n",
    "\n",
    "Let's fix our misspellings!"
   ]
  },
  {
   "cell_type": "markdown",
   "metadata": {
    "id": "2Vc78yFJFLw5"
   },
   "source": [
    "#### Exercise 1: Fixing Misspellings\n",
    "\n",
    "We have decided that we would like to change every instance of 'Cacao de Origin' to 'Cacao de Origen' and every instance of 'Shattel' to 'Shattell' in the 'Company' column of our dataset. Write the code to modify the values. Make sure your code doesn't have any warnings. At the end of the code block, print the number of unique company names when you are done. There should be two less columns than what you saw above."
   ]
  },
  {
   "cell_type": "markdown",
   "metadata": {
    "id": "Pag-PfyLG69x"
   },
   "source": [
    "**Student Solution**"
   ]
  },
  {
   "cell_type": "code",
   "execution_count": 124,
   "metadata": {
    "id": "p4pKMDONG9Z4"
   },
   "outputs": [
    {
     "data": {
      "text/html": [
       "<div>\n",
       "<style scoped>\n",
       "    .dataframe tbody tr th:only-of-type {\n",
       "        vertical-align: middle;\n",
       "    }\n",
       "\n",
       "    .dataframe tbody tr th {\n",
       "        vertical-align: top;\n",
       "    }\n",
       "\n",
       "    .dataframe thead th {\n",
       "        text-align: right;\n",
       "    }\n",
       "</style>\n",
       "<table border=\"1\" class=\"dataframe\">\n",
       "  <thead>\n",
       "    <tr style=\"text-align: right;\">\n",
       "      <th></th>\n",
       "      <th>Company</th>\n",
       "      <th>Company Location</th>\n",
       "      <th>Bean Type</th>\n",
       "      <th>Specific Bean Origin</th>\n",
       "      <th>Broad Bean Origin</th>\n",
       "      <th>Cocoa Percent</th>\n",
       "      <th>REF</th>\n",
       "      <th>Review Date</th>\n",
       "      <th>Rating</th>\n",
       "    </tr>\n",
       "  </thead>\n",
       "  <tbody>\n",
       "    <tr>\n",
       "      <td>0</td>\n",
       "      <td>A. Morin</td>\n",
       "      <td>France</td>\n",
       "      <td></td>\n",
       "      <td>Agua Grande</td>\n",
       "      <td>Sao Tome</td>\n",
       "      <td>63%</td>\n",
       "      <td>1876</td>\n",
       "      <td>2016</td>\n",
       "      <td>3.75</td>\n",
       "    </tr>\n",
       "    <tr>\n",
       "      <td>1</td>\n",
       "      <td>A. Morin</td>\n",
       "      <td>France</td>\n",
       "      <td></td>\n",
       "      <td>Kpime</td>\n",
       "      <td>Togo</td>\n",
       "      <td>70%</td>\n",
       "      <td>1676</td>\n",
       "      <td>2015</td>\n",
       "      <td>2.75</td>\n",
       "    </tr>\n",
       "    <tr>\n",
       "      <td>2</td>\n",
       "      <td>A. Morin</td>\n",
       "      <td>France</td>\n",
       "      <td></td>\n",
       "      <td>Atsane</td>\n",
       "      <td>Togo</td>\n",
       "      <td>70%</td>\n",
       "      <td>1676</td>\n",
       "      <td>2015</td>\n",
       "      <td>3.00</td>\n",
       "    </tr>\n",
       "    <tr>\n",
       "      <td>3</td>\n",
       "      <td>A. Morin</td>\n",
       "      <td>France</td>\n",
       "      <td></td>\n",
       "      <td>Akata</td>\n",
       "      <td>Togo</td>\n",
       "      <td>70%</td>\n",
       "      <td>1680</td>\n",
       "      <td>2015</td>\n",
       "      <td>3.50</td>\n",
       "    </tr>\n",
       "    <tr>\n",
       "      <td>4</td>\n",
       "      <td>A. Morin</td>\n",
       "      <td>France</td>\n",
       "      <td></td>\n",
       "      <td>Quilla</td>\n",
       "      <td>Peru</td>\n",
       "      <td>70%</td>\n",
       "      <td>1704</td>\n",
       "      <td>2015</td>\n",
       "      <td>3.50</td>\n",
       "    </tr>\n",
       "    <tr>\n",
       "      <td>...</td>\n",
       "      <td>...</td>\n",
       "      <td>...</td>\n",
       "      <td>...</td>\n",
       "      <td>...</td>\n",
       "      <td>...</td>\n",
       "      <td>...</td>\n",
       "      <td>...</td>\n",
       "      <td>...</td>\n",
       "      <td>...</td>\n",
       "    </tr>\n",
       "    <tr>\n",
       "      <td>1790</td>\n",
       "      <td>Zotter</td>\n",
       "      <td>Austria</td>\n",
       "      <td></td>\n",
       "      <td>Peru</td>\n",
       "      <td>Peru</td>\n",
       "      <td>70%</td>\n",
       "      <td>647</td>\n",
       "      <td>2011</td>\n",
       "      <td>3.75</td>\n",
       "    </tr>\n",
       "    <tr>\n",
       "      <td>1791</td>\n",
       "      <td>Zotter</td>\n",
       "      <td>Austria</td>\n",
       "      <td>Forastero</td>\n",
       "      <td>Congo</td>\n",
       "      <td>Congo</td>\n",
       "      <td>65%</td>\n",
       "      <td>749</td>\n",
       "      <td>2011</td>\n",
       "      <td>3.00</td>\n",
       "    </tr>\n",
       "    <tr>\n",
       "      <td>1792</td>\n",
       "      <td>Zotter</td>\n",
       "      <td>Austria</td>\n",
       "      <td>Forastero</td>\n",
       "      <td>Kerala State</td>\n",
       "      <td>India</td>\n",
       "      <td>65%</td>\n",
       "      <td>749</td>\n",
       "      <td>2011</td>\n",
       "      <td>3.50</td>\n",
       "    </tr>\n",
       "    <tr>\n",
       "      <td>1793</td>\n",
       "      <td>Zotter</td>\n",
       "      <td>Austria</td>\n",
       "      <td></td>\n",
       "      <td>Kerala State</td>\n",
       "      <td>India</td>\n",
       "      <td>62%</td>\n",
       "      <td>781</td>\n",
       "      <td>2011</td>\n",
       "      <td>3.25</td>\n",
       "    </tr>\n",
       "    <tr>\n",
       "      <td>1794</td>\n",
       "      <td>Zotter</td>\n",
       "      <td>Austria</td>\n",
       "      <td></td>\n",
       "      <td>Brazil, Mitzi Blue</td>\n",
       "      <td>Brazil</td>\n",
       "      <td>65%</td>\n",
       "      <td>486</td>\n",
       "      <td>2010</td>\n",
       "      <td>3.00</td>\n",
       "    </tr>\n",
       "  </tbody>\n",
       "</table>\n",
       "<p>1795 rows × 9 columns</p>\n",
       "</div>"
      ],
      "text/plain": [
       "       Company Company Location  Bean Type Specific Bean Origin  \\\n",
       "0     A. Morin           France                     Agua Grande   \n",
       "1     A. Morin           France                           Kpime   \n",
       "2     A. Morin           France                          Atsane   \n",
       "3     A. Morin           France                           Akata   \n",
       "4     A. Morin           France                          Quilla   \n",
       "...        ...              ...        ...                  ...   \n",
       "1790    Zotter          Austria                            Peru   \n",
       "1791    Zotter          Austria  Forastero                Congo   \n",
       "1792    Zotter          Austria  Forastero         Kerala State   \n",
       "1793    Zotter          Austria                    Kerala State   \n",
       "1794    Zotter          Austria              Brazil, Mitzi Blue   \n",
       "\n",
       "     Broad Bean Origin Cocoa Percent   REF  Review Date  Rating  \n",
       "0             Sao Tome           63%  1876         2016    3.75  \n",
       "1                 Togo           70%  1676         2015    2.75  \n",
       "2                 Togo           70%  1676         2015    3.00  \n",
       "3                 Togo           70%  1680         2015    3.50  \n",
       "4                 Peru           70%  1704         2015    3.50  \n",
       "...                ...           ...   ...          ...     ...  \n",
       "1790              Peru           70%   647         2011    3.75  \n",
       "1791             Congo           65%   749         2011    3.00  \n",
       "1792             India           65%   749         2011    3.50  \n",
       "1793             India           62%   781         2011    3.25  \n",
       "1794            Brazil           65%   486         2010    3.00  \n",
       "\n",
       "[1795 rows x 9 columns]"
      ]
     },
     "execution_count": 124,
     "metadata": {},
     "output_type": "execute_result"
    }
   ],
   "source": [
    "import pandas as pd\n",
    "\n",
    "df = pd.read_csv('data/flavors_of_cacao.csv')\n",
    "df.columns = ['Company', 'Specific Bean Origin', 'REF', 'Review Date',\n",
    "              'Cocoa Percent', 'Company Location', 'Rating', 'Bean Type',\n",
    "              'Broad Bean Origin']\n",
    "df = df[['Company', 'Company Location', 'Bean Type', 'Specific Bean Origin',\n",
    "         'Broad Bean Origin', 'Cocoa Percent', 'REF', 'Review Date', 'Rating']]\n",
    "\n",
    "# Change 'Shattel' to 'Shattell'\n",
    "df.loc[df['Company'] == \"Shattel\", 'Company'] = \\\n",
    "  df.loc[df['Company'] == \"Shattel\", 'Company'].apply(lambda x: \"Shattell\")\n",
    "\n",
    "# Change 'Cacao de Origin' to 'Cacao de Origen'\n",
    "df.loc[df['Company'] == \"Cacao de Origin\", 'Company'] = \\\n",
    "  df.loc[df['Company'] == \"Cacao de Origin\", 'Company'].apply(lambda x: \"Cacao de Origen\")\n",
    "\n",
    "# Print the number of unique company names\n",
    "df['Company'].unique().size\n",
    "\n",
    "#for company in sorted(df['Company'].unique()):\n",
    "#  print(company)\n",
    "df"
   ]
  },
  {
   "cell_type": "markdown",
   "metadata": {
    "id": "dIAOmyuWHMa_"
   },
   "source": [
    "---"
   ]
  },
  {
   "cell_type": "markdown",
   "metadata": {
    "id": "ac0L7_QP7OTm"
   },
   "source": [
    "### Column: Company Location"
   ]
  },
  {
   "cell_type": "markdown",
   "metadata": {
    "id": "84LQDf9d7OTk"
   },
   "source": [
    "The [documentation](https://www.kaggle.com/rtatman/chocolate-bar-ratings) describes the 'Company Location' column as \"*Manufacturer base country*.\"\n",
    "\n",
    "Let's take a look at the data. As always, we'll first check to see if any data is missing."
   ]
  },
  {
   "cell_type": "code",
   "execution_count": 125,
   "metadata": {
    "id": "oTTcRMFq7OTe"
   },
   "outputs": [
    {
     "data": {
      "text/plain": [
       "False"
      ]
     },
     "execution_count": 125,
     "metadata": {},
     "output_type": "execute_result"
    }
   ],
   "source": [
    "df['Company Location'].isna().any()"
   ]
  },
  {
   "cell_type": "markdown",
   "metadata": {
    "id": "NjjMjZqj7OTc"
   },
   "source": [
    "No missing data.\n",
    "\n",
    "Now we can see how many unique values there are:"
   ]
  },
  {
   "cell_type": "code",
   "execution_count": 126,
   "metadata": {
    "id": "aSzY7dlr7OTT"
   },
   "outputs": [
    {
     "data": {
      "text/plain": [
       "(60,)"
      ]
     },
     "execution_count": 126,
     "metadata": {},
     "output_type": "execute_result"
    }
   ],
   "source": [
    "df['Company Location'].unique().shape"
   ]
  },
  {
   "cell_type": "markdown",
   "metadata": {
    "id": "MLjkdqps7OTN"
   },
   "source": [
    "There are just 60 locations, which is small enough that we can manually inspect the values. Let's print the data."
   ]
  },
  {
   "cell_type": "code",
   "execution_count": 127,
   "metadata": {
    "id": "nGFKHE2B7OS5"
   },
   "outputs": [
    {
     "name": "stdout",
     "output_type": "stream",
     "text": [
      "Amsterdam\n",
      "Argentina\n",
      "Australia\n",
      "Austria\n",
      "Belgium\n",
      "Bolivia\n",
      "Brazil\n",
      "Canada\n",
      "Chile\n",
      "Colombia\n",
      "Costa Rica\n",
      "Czech Republic\n",
      "Denmark\n",
      "Domincan Republic\n",
      "Ecuador\n",
      "Eucador\n",
      "Fiji\n",
      "Finland\n",
      "France\n",
      "Germany\n",
      "Ghana\n",
      "Grenada\n",
      "Guatemala\n",
      "Honduras\n",
      "Hungary\n",
      "Iceland\n",
      "India\n",
      "Ireland\n",
      "Israel\n",
      "Italy\n",
      "Japan\n",
      "Lithuania\n",
      "Madagascar\n",
      "Martinique\n",
      "Mexico\n",
      "Netherlands\n",
      "New Zealand\n",
      "Niacragua\n",
      "Nicaragua\n",
      "Peru\n",
      "Philippines\n",
      "Poland\n",
      "Portugal\n",
      "Puerto Rico\n",
      "Russia\n",
      "Sao Tome\n",
      "Scotland\n",
      "Singapore\n",
      "South Africa\n",
      "South Korea\n",
      "Spain\n",
      "St. Lucia\n",
      "Suriname\n",
      "Sweden\n",
      "Switzerland\n",
      "U.K.\n",
      "U.S.A.\n",
      "Venezuela\n",
      "Vietnam\n",
      "Wales\n"
     ]
    }
   ],
   "source": [
    "for location in sorted(df['Company Location'].unique()):\n",
    "  print(location)"
   ]
  },
  {
   "cell_type": "markdown",
   "metadata": {
    "id": "sJqm2iCU7OSt"
   },
   "source": [
    "Overall, the data looks pretty clean. The column is supposed to contain countries and *most* entries are countries. There are a few problems with the country data though. We found at least five errors in the data. Let's see what you can find."
   ]
  },
  {
   "cell_type": "markdown",
   "metadata": {
    "id": "_d7_RrV_-DPP"
   },
   "source": [
    "#### Exercise 2: Fixing Company Location Data\n",
    "\n",
    "There are at least five errors in the company location data that need to be fixed. Some are fairly easy to spot (spelling errors), but some do require knowledge of what constitutes a country. Take some time to look at the data, and see if you can spot at least two of the issues. Write code to fix the issues."
   ]
  },
  {
   "cell_type": "markdown",
   "metadata": {
    "id": "p2uvJNxo-DD8"
   },
   "source": [
    "**Student Solution**"
   ]
  },
  {
   "cell_type": "code",
   "execution_count": 128,
   "metadata": {
    "id": "1eBSJfCp-C4-",
    "scrolled": true
   },
   "outputs": [
    {
     "data": {
      "text/plain": [
       "402     Netherlands\n",
       "403     Netherlands\n",
       "404     Netherlands\n",
       "1110    Netherlands\n",
       "Name: Company Location, dtype: object"
      ]
     },
     "execution_count": 128,
     "metadata": {},
     "output_type": "execute_result"
    }
   ],
   "source": [
    "# Fix at least two issues with the 'Company Location' data\n",
    "\n",
    "#Fix Niacragua to Nicaragua\n",
    "df.loc[df['Company Location'] == \"Niacragua\", 'Company Location'].apply(lambda x: \"Nicaragua\")\n",
    "\n",
    "#Fix Eucador to Ecuador\n",
    "df.loc[df['Company Location'] == \"Eucador\", 'Company Location'].apply(lambda x: \"Ecuador\")\n",
    "\n",
    "#Fix Domincan Republic to Dominican Republic\n",
    "df.loc[df['Company Location'] == \"Domincan Republic\", 'Company Location'].apply(lambda x: \"Dominican Republic\")\n",
    "\n",
    "#Fix Amsterdam (Capital city) to Netherlands (Country)\n",
    "df.loc[df['Company Location'] == \"Amsterdam\", 'Company Location'].apply(lambda x: \"Netherlands\")\n"
   ]
  },
  {
   "cell_type": "markdown",
   "metadata": {
    "id": "s5toiHcB-CvH"
   },
   "source": [
    "---"
   ]
  },
  {
   "cell_type": "markdown",
   "metadata": {
    "id": "nA_FefG8dtJQ"
   },
   "source": [
    "### Column: Bean Type"
   ]
  },
  {
   "cell_type": "markdown",
   "metadata": {
    "id": "4ibiKPxvCCoA"
   },
   "source": [
    "Now that our company data is looking a little better, let's move into data about the cocoa going into the chocolate bar itself. The first piece of data is the 'Bean Type'. 'Bean Type' is defined as \"*The variety (breed) of bean used, if provided*\". This hints that there will be some missing data. Let's check and see."
   ]
  },
  {
   "cell_type": "code",
   "execution_count": 129,
   "metadata": {
    "id": "ulcp5RH0CbJs"
   },
   "outputs": [
    {
     "data": {
      "text/plain": [
       "True"
      ]
     },
     "execution_count": 129,
     "metadata": {},
     "output_type": "execute_result"
    }
   ],
   "source": [
    "df['Bean Type'].isna().any()"
   ]
  },
  {
   "cell_type": "markdown",
   "metadata": {
    "id": "ER7siTrsCe4m"
   },
   "source": [
    "Indeed, we have missing data. Let's see how much is missing."
   ]
  },
  {
   "cell_type": "code",
   "execution_count": 130,
   "metadata": {
    "id": "NEqYfWsxCnlt"
   },
   "outputs": [
    {
     "data": {
      "text/plain": [
       "Company                 1\n",
       "Company Location        1\n",
       "Bean Type               0\n",
       "Specific Bean Origin    1\n",
       "Broad Bean Origin       1\n",
       "Cocoa Percent           1\n",
       "REF                     1\n",
       "Review Date             1\n",
       "Rating                  1\n",
       "dtype: int64"
      ]
     },
     "execution_count": 130,
     "metadata": {},
     "output_type": "execute_result"
    }
   ],
   "source": [
    "df[df['Bean Type'].isna()].count()"
   ]
  },
  {
   "cell_type": "markdown",
   "metadata": {
    "id": "CZwRD78JC6sK"
   },
   "source": [
    "Only one row of data is missing 'Bean Type'. Let's take a look at that row."
   ]
  },
  {
   "cell_type": "code",
   "execution_count": 131,
   "metadata": {
    "id": "ZvSyoal2DBCH"
   },
   "outputs": [
    {
     "data": {
      "text/html": [
       "<div>\n",
       "<style scoped>\n",
       "    .dataframe tbody tr th:only-of-type {\n",
       "        vertical-align: middle;\n",
       "    }\n",
       "\n",
       "    .dataframe tbody tr th {\n",
       "        vertical-align: top;\n",
       "    }\n",
       "\n",
       "    .dataframe thead th {\n",
       "        text-align: right;\n",
       "    }\n",
       "</style>\n",
       "<table border=\"1\" class=\"dataframe\">\n",
       "  <thead>\n",
       "    <tr style=\"text-align: right;\">\n",
       "      <th></th>\n",
       "      <th>Company</th>\n",
       "      <th>Company Location</th>\n",
       "      <th>Bean Type</th>\n",
       "      <th>Specific Bean Origin</th>\n",
       "      <th>Broad Bean Origin</th>\n",
       "      <th>Cocoa Percent</th>\n",
       "      <th>REF</th>\n",
       "      <th>Review Date</th>\n",
       "      <th>Rating</th>\n",
       "    </tr>\n",
       "  </thead>\n",
       "  <tbody>\n",
       "    <tr>\n",
       "      <td>1544</td>\n",
       "      <td>Soma</td>\n",
       "      <td>Canada</td>\n",
       "      <td>NaN</td>\n",
       "      <td>Three Amigos(Chuao, Wild Bolivia, D.R.)</td>\n",
       "      <td>Ven, Bolivia, D.R.</td>\n",
       "      <td>70%</td>\n",
       "      <td>676</td>\n",
       "      <td>2011</td>\n",
       "      <td>4.0</td>\n",
       "    </tr>\n",
       "  </tbody>\n",
       "</table>\n",
       "</div>"
      ],
      "text/plain": [
       "     Company Company Location Bean Type  \\\n",
       "1544    Soma           Canada       NaN   \n",
       "\n",
       "                         Specific Bean Origin   Broad Bean Origin  \\\n",
       "1544  Three Amigos(Chuao, Wild Bolivia, D.R.)  Ven, Bolivia, D.R.   \n",
       "\n",
       "     Cocoa Percent  REF  Review Date  Rating  \n",
       "1544           70%  676         2011     4.0  "
      ]
     },
     "execution_count": 131,
     "metadata": {},
     "output_type": "execute_result"
    }
   ],
   "source": [
    "df[df['Bean Type'].isna()]"
   ]
  },
  {
   "cell_type": "markdown",
   "metadata": {
    "id": "SWnKcJ5HDF5B"
   },
   "source": [
    "Now we have a choice to make about how to handle this missing data. Some options include:\n",
    "\n",
    "* Leave it as is\n",
    "* Remove the entire row\n",
    "* Fill in the data with some value\n",
    "\n",
    "Leaving undefined values lying around in our data can be problematic. Missing values are not counted and can be tricky to program around.\n",
    "\n",
    "Removing the entire row actually isn't a bad option in this case. Since it is only one row out of over 1,700, it likely won't have too much effect on any analysis that we do.\n",
    "\n",
    "As for filling in the row, we can:\n",
    "\n",
    "* Use 'Unknown' or some other placeholder value\n",
    "* Actually do research to find the true missing value\n",
    "* See if there is a reasonable value already in the data\n",
    "\n",
    "In this case, we are just going to replace the missing value with 'Unknown'."
   ]
  },
  {
   "cell_type": "code",
   "execution_count": 132,
   "metadata": {
    "id": "qCVeiD-2E3MN"
   },
   "outputs": [
    {
     "data": {
      "text/html": [
       "<div>\n",
       "<style scoped>\n",
       "    .dataframe tbody tr th:only-of-type {\n",
       "        vertical-align: middle;\n",
       "    }\n",
       "\n",
       "    .dataframe tbody tr th {\n",
       "        vertical-align: top;\n",
       "    }\n",
       "\n",
       "    .dataframe thead th {\n",
       "        text-align: right;\n",
       "    }\n",
       "</style>\n",
       "<table border=\"1\" class=\"dataframe\">\n",
       "  <thead>\n",
       "    <tr style=\"text-align: right;\">\n",
       "      <th></th>\n",
       "      <th>Company</th>\n",
       "      <th>Company Location</th>\n",
       "      <th>Bean Type</th>\n",
       "      <th>Specific Bean Origin</th>\n",
       "      <th>Broad Bean Origin</th>\n",
       "      <th>Cocoa Percent</th>\n",
       "      <th>REF</th>\n",
       "      <th>Review Date</th>\n",
       "      <th>Rating</th>\n",
       "    </tr>\n",
       "  </thead>\n",
       "  <tbody>\n",
       "  </tbody>\n",
       "</table>\n",
       "</div>"
      ],
      "text/plain": [
       "Empty DataFrame\n",
       "Columns: [Company, Company Location, Bean Type, Specific Bean Origin, Broad Bean Origin, Cocoa Percent, REF, Review Date, Rating]\n",
       "Index: []"
      ]
     },
     "execution_count": 132,
     "metadata": {},
     "output_type": "execute_result"
    }
   ],
   "source": [
    "df.loc[df['Bean Type'].isna(), 'Bean Type'] = 'Unknown'\n",
    "df[df['Bean Type'].isna()]\n",
    "#df[df['Bean Type']=='Unknown']"
   ]
  },
  {
   "cell_type": "markdown",
   "metadata": {
    "id": "jaoPvnZnHMjg"
   },
   "source": [
    "Now we can see how many unique bean types we have."
   ]
  },
  {
   "cell_type": "code",
   "execution_count": 133,
   "metadata": {
    "id": "dj_ttYmwFATj"
   },
   "outputs": [
    {
     "data": {
      "text/plain": [
       "42"
      ]
     },
     "execution_count": 133,
     "metadata": {},
     "output_type": "execute_result"
    }
   ],
   "source": [
    "df['Bean Type'].unique().size"
   ]
  },
  {
   "cell_type": "markdown",
   "metadata": {
    "id": "-PJNVBJAHUgK"
   },
   "source": [
    "Only 42, let's print them out."
   ]
  },
  {
   "cell_type": "code",
   "execution_count": 134,
   "metadata": {
    "id": "EGITpas9HXwH"
   },
   "outputs": [
    {
     "name": "stdout",
     "output_type": "stream",
     "text": [
      "Amazon\n",
      "Amazon mix\n",
      "Amazon, ICS\n",
      "Beniano\n",
      "Blend\n",
      "Blend-Forastero,Criollo\n",
      "CCN51\n",
      "Criollo\n",
      "Criollo (Amarru)\n",
      "Criollo (Ocumare 61)\n",
      "Criollo (Ocumare 67)\n",
      "Criollo (Ocumare 77)\n",
      "Criollo (Ocumare)\n",
      "Criollo (Porcelana)\n",
      "Criollo (Wild)\n",
      "Criollo, +\n",
      "Criollo, Forastero\n",
      "Criollo, Trinitario\n",
      "EET\n",
      "Forastero\n",
      "Forastero (Amelonado)\n",
      "Forastero (Arriba)\n",
      "Forastero (Arriba) ASS\n",
      "Forastero (Arriba) ASSS\n",
      "Forastero (Catongo)\n",
      "Forastero (Nacional)\n",
      "Forastero (Parazinho)\n",
      "Forastero(Arriba, CCN)\n",
      "Forastero, Trinitario\n",
      "Matina\n",
      "Nacional\n",
      "Nacional (Arriba)\n",
      "Trinitario\n",
      "Trinitario (85% Criollo)\n",
      "Trinitario (Amelonado)\n",
      "Trinitario (Scavina)\n",
      "Trinitario, Criollo\n",
      "Trinitario, Forastero\n",
      "Trinitario, Nacional\n",
      "Trinitario, TCGA\n",
      "Unknown\n",
      " \n"
     ]
    }
   ],
   "source": [
    "for t in sorted(df['Bean Type'].unique()):\n",
    "  print(t)"
   ]
  },
  {
   "cell_type": "markdown",
   "metadata": {
    "id": "BY0UqpgsHjTu"
   },
   "source": [
    "The data looks pretty good. But there is a small little problem. After 'Unknown' there seems to be an empty line. What is that?\n",
    "\n",
    "It turns out that it is a whitespace character. We thought we had only one missing value, but it looks like there are some values that are present but are white space. Let's see how many.\n",
    "\n",
    "White space can be tricky because there are many different encodings that render as white space. Let's find out exactly which space character this is.\n",
    "\n",
    "To get the space(s) we can sort the 'Bean Type' values again and get the last one, since we see the space last in the list. We can then print the space as hexadecimal characters."
   ]
  },
  {
   "cell_type": "code",
   "execution_count": 135,
   "metadata": {
    "id": "O2E_EcvCH-NH"
   },
   "outputs": [
    {
     "name": "stdout",
     "output_type": "stream",
     "text": [
      "0xa0\n"
     ]
    }
   ],
   "source": [
    "space = sorted(df['Bean Type'].unique())[-1]\n",
    "print(\", \".join(\"0x{:02x}\".format(ord(c)) for c in space))"
   ]
  },
  {
   "cell_type": "markdown",
   "metadata": {
    "id": "0TTbLvZSJUZw"
   },
   "source": [
    "We get `0xa0` which is the ASCII code for [non-breaking space](https://en.wikipedia.org/wiki/Non-breaking_space). This is different from the white space that you get when you hit the space bar. That space is encoded `0x20`.\n",
    "\n",
    "Let's see how many of these there are:"
   ]
  },
  {
   "cell_type": "code",
   "execution_count": 136,
   "metadata": {
    "id": "KDOkj9BTJspc"
   },
   "outputs": [
    {
     "data": {
      "text/html": [
       "<div>\n",
       "<style scoped>\n",
       "    .dataframe tbody tr th:only-of-type {\n",
       "        vertical-align: middle;\n",
       "    }\n",
       "\n",
       "    .dataframe tbody tr th {\n",
       "        vertical-align: top;\n",
       "    }\n",
       "\n",
       "    .dataframe thead th {\n",
       "        text-align: right;\n",
       "    }\n",
       "</style>\n",
       "<table border=\"1\" class=\"dataframe\">\n",
       "  <thead>\n",
       "    <tr style=\"text-align: right;\">\n",
       "      <th></th>\n",
       "      <th>Company</th>\n",
       "      <th>Company Location</th>\n",
       "      <th>Bean Type</th>\n",
       "      <th>Specific Bean Origin</th>\n",
       "      <th>Broad Bean Origin</th>\n",
       "      <th>Cocoa Percent</th>\n",
       "      <th>REF</th>\n",
       "      <th>Review Date</th>\n",
       "      <th>Rating</th>\n",
       "    </tr>\n",
       "  </thead>\n",
       "  <tbody>\n",
       "    <tr>\n",
       "      <td>0</td>\n",
       "      <td>A. Morin</td>\n",
       "      <td>France</td>\n",
       "      <td></td>\n",
       "      <td>Agua Grande</td>\n",
       "      <td>Sao Tome</td>\n",
       "      <td>63%</td>\n",
       "      <td>1876</td>\n",
       "      <td>2016</td>\n",
       "      <td>3.75</td>\n",
       "    </tr>\n",
       "    <tr>\n",
       "      <td>1</td>\n",
       "      <td>A. Morin</td>\n",
       "      <td>France</td>\n",
       "      <td></td>\n",
       "      <td>Kpime</td>\n",
       "      <td>Togo</td>\n",
       "      <td>70%</td>\n",
       "      <td>1676</td>\n",
       "      <td>2015</td>\n",
       "      <td>2.75</td>\n",
       "    </tr>\n",
       "    <tr>\n",
       "      <td>2</td>\n",
       "      <td>A. Morin</td>\n",
       "      <td>France</td>\n",
       "      <td></td>\n",
       "      <td>Atsane</td>\n",
       "      <td>Togo</td>\n",
       "      <td>70%</td>\n",
       "      <td>1676</td>\n",
       "      <td>2015</td>\n",
       "      <td>3.00</td>\n",
       "    </tr>\n",
       "    <tr>\n",
       "      <td>3</td>\n",
       "      <td>A. Morin</td>\n",
       "      <td>France</td>\n",
       "      <td></td>\n",
       "      <td>Akata</td>\n",
       "      <td>Togo</td>\n",
       "      <td>70%</td>\n",
       "      <td>1680</td>\n",
       "      <td>2015</td>\n",
       "      <td>3.50</td>\n",
       "    </tr>\n",
       "    <tr>\n",
       "      <td>4</td>\n",
       "      <td>A. Morin</td>\n",
       "      <td>France</td>\n",
       "      <td></td>\n",
       "      <td>Quilla</td>\n",
       "      <td>Peru</td>\n",
       "      <td>70%</td>\n",
       "      <td>1704</td>\n",
       "      <td>2015</td>\n",
       "      <td>3.50</td>\n",
       "    </tr>\n",
       "    <tr>\n",
       "      <td>...</td>\n",
       "      <td>...</td>\n",
       "      <td>...</td>\n",
       "      <td>...</td>\n",
       "      <td>...</td>\n",
       "      <td>...</td>\n",
       "      <td>...</td>\n",
       "      <td>...</td>\n",
       "      <td>...</td>\n",
       "      <td>...</td>\n",
       "    </tr>\n",
       "    <tr>\n",
       "      <td>1787</td>\n",
       "      <td>Zotter</td>\n",
       "      <td>Austria</td>\n",
       "      <td></td>\n",
       "      <td>Santo Domingo</td>\n",
       "      <td>Dominican Republic</td>\n",
       "      <td>70%</td>\n",
       "      <td>879</td>\n",
       "      <td>2012</td>\n",
       "      <td>3.75</td>\n",
       "    </tr>\n",
       "    <tr>\n",
       "      <td>1789</td>\n",
       "      <td>Zotter</td>\n",
       "      <td>Austria</td>\n",
       "      <td></td>\n",
       "      <td>Indianer, Raw</td>\n",
       "      <td></td>\n",
       "      <td>58%</td>\n",
       "      <td>883</td>\n",
       "      <td>2012</td>\n",
       "      <td>3.50</td>\n",
       "    </tr>\n",
       "    <tr>\n",
       "      <td>1790</td>\n",
       "      <td>Zotter</td>\n",
       "      <td>Austria</td>\n",
       "      <td></td>\n",
       "      <td>Peru</td>\n",
       "      <td>Peru</td>\n",
       "      <td>70%</td>\n",
       "      <td>647</td>\n",
       "      <td>2011</td>\n",
       "      <td>3.75</td>\n",
       "    </tr>\n",
       "    <tr>\n",
       "      <td>1793</td>\n",
       "      <td>Zotter</td>\n",
       "      <td>Austria</td>\n",
       "      <td></td>\n",
       "      <td>Kerala State</td>\n",
       "      <td>India</td>\n",
       "      <td>62%</td>\n",
       "      <td>781</td>\n",
       "      <td>2011</td>\n",
       "      <td>3.25</td>\n",
       "    </tr>\n",
       "    <tr>\n",
       "      <td>1794</td>\n",
       "      <td>Zotter</td>\n",
       "      <td>Austria</td>\n",
       "      <td></td>\n",
       "      <td>Brazil, Mitzi Blue</td>\n",
       "      <td>Brazil</td>\n",
       "      <td>65%</td>\n",
       "      <td>486</td>\n",
       "      <td>2010</td>\n",
       "      <td>3.00</td>\n",
       "    </tr>\n",
       "  </tbody>\n",
       "</table>\n",
       "<p>887 rows × 9 columns</p>\n",
       "</div>"
      ],
      "text/plain": [
       "       Company Company Location Bean Type Specific Bean Origin  \\\n",
       "0     A. Morin           France                    Agua Grande   \n",
       "1     A. Morin           France                          Kpime   \n",
       "2     A. Morin           France                         Atsane   \n",
       "3     A. Morin           France                          Akata   \n",
       "4     A. Morin           France                         Quilla   \n",
       "...        ...              ...       ...                  ...   \n",
       "1787    Zotter          Austria                  Santo Domingo   \n",
       "1789    Zotter          Austria                  Indianer, Raw   \n",
       "1790    Zotter          Austria                           Peru   \n",
       "1793    Zotter          Austria                   Kerala State   \n",
       "1794    Zotter          Austria             Brazil, Mitzi Blue   \n",
       "\n",
       "       Broad Bean Origin Cocoa Percent   REF  Review Date  Rating  \n",
       "0               Sao Tome           63%  1876         2016    3.75  \n",
       "1                   Togo           70%  1676         2015    2.75  \n",
       "2                   Togo           70%  1676         2015    3.00  \n",
       "3                   Togo           70%  1680         2015    3.50  \n",
       "4                   Peru           70%  1704         2015    3.50  \n",
       "...                  ...           ...   ...          ...     ...  \n",
       "1787  Dominican Republic           70%   879         2012    3.75  \n",
       "1789                               58%   883         2012    3.50  \n",
       "1790                Peru           70%   647         2011    3.75  \n",
       "1793               India           62%   781         2011    3.25  \n",
       "1794              Brazil           65%   486         2010    3.00  \n",
       "\n",
       "[887 rows x 9 columns]"
      ]
     },
     "execution_count": 136,
     "metadata": {},
     "output_type": "execute_result"
    }
   ],
   "source": [
    "df[df['Bean Type'] == chr(0xa0)]"
   ]
  },
  {
   "cell_type": "markdown",
   "metadata": {
    "id": "E6iQWvqCK9fM"
   },
   "source": [
    "Almost 900! Let's encode those as 'Unknown' also."
   ]
  },
  {
   "cell_type": "markdown",
   "metadata": {
    "id": "xkf_tZeLLECc"
   },
   "source": [
    "#### Exercise 3: Fixing Non-Breaking Space\n",
    "\n",
    "There are non-breaking space characters, `0xa0` in the 'Bean Type' column. Replace these values with the word 'Unknown'."
   ]
  },
  {
   "cell_type": "markdown",
   "metadata": {
    "id": "eSXdAvnuLSUT"
   },
   "source": [
    "**Student Solution**"
   ]
  },
  {
   "cell_type": "code",
   "execution_count": 137,
   "metadata": {
    "id": "8FGsZXdiLUYJ"
   },
   "outputs": [
    {
     "data": {
      "text/html": [
       "<div>\n",
       "<style scoped>\n",
       "    .dataframe tbody tr th:only-of-type {\n",
       "        vertical-align: middle;\n",
       "    }\n",
       "\n",
       "    .dataframe tbody tr th {\n",
       "        vertical-align: top;\n",
       "    }\n",
       "\n",
       "    .dataframe thead th {\n",
       "        text-align: right;\n",
       "    }\n",
       "</style>\n",
       "<table border=\"1\" class=\"dataframe\">\n",
       "  <thead>\n",
       "    <tr style=\"text-align: right;\">\n",
       "      <th></th>\n",
       "      <th>Company</th>\n",
       "      <th>Company Location</th>\n",
       "      <th>Bean Type</th>\n",
       "      <th>Specific Bean Origin</th>\n",
       "      <th>Broad Bean Origin</th>\n",
       "      <th>Cocoa Percent</th>\n",
       "      <th>REF</th>\n",
       "      <th>Review Date</th>\n",
       "      <th>Rating</th>\n",
       "    </tr>\n",
       "  </thead>\n",
       "  <tbody>\n",
       "    <tr>\n",
       "      <td>0</td>\n",
       "      <td>A. Morin</td>\n",
       "      <td>France</td>\n",
       "      <td>Unknown</td>\n",
       "      <td>Agua Grande</td>\n",
       "      <td>Sao Tome</td>\n",
       "      <td>63%</td>\n",
       "      <td>1876</td>\n",
       "      <td>2016</td>\n",
       "      <td>3.75</td>\n",
       "    </tr>\n",
       "    <tr>\n",
       "      <td>1</td>\n",
       "      <td>A. Morin</td>\n",
       "      <td>France</td>\n",
       "      <td>Unknown</td>\n",
       "      <td>Kpime</td>\n",
       "      <td>Togo</td>\n",
       "      <td>70%</td>\n",
       "      <td>1676</td>\n",
       "      <td>2015</td>\n",
       "      <td>2.75</td>\n",
       "    </tr>\n",
       "    <tr>\n",
       "      <td>2</td>\n",
       "      <td>A. Morin</td>\n",
       "      <td>France</td>\n",
       "      <td>Unknown</td>\n",
       "      <td>Atsane</td>\n",
       "      <td>Togo</td>\n",
       "      <td>70%</td>\n",
       "      <td>1676</td>\n",
       "      <td>2015</td>\n",
       "      <td>3.00</td>\n",
       "    </tr>\n",
       "    <tr>\n",
       "      <td>3</td>\n",
       "      <td>A. Morin</td>\n",
       "      <td>France</td>\n",
       "      <td>Unknown</td>\n",
       "      <td>Akata</td>\n",
       "      <td>Togo</td>\n",
       "      <td>70%</td>\n",
       "      <td>1680</td>\n",
       "      <td>2015</td>\n",
       "      <td>3.50</td>\n",
       "    </tr>\n",
       "    <tr>\n",
       "      <td>4</td>\n",
       "      <td>A. Morin</td>\n",
       "      <td>France</td>\n",
       "      <td>Unknown</td>\n",
       "      <td>Quilla</td>\n",
       "      <td>Peru</td>\n",
       "      <td>70%</td>\n",
       "      <td>1704</td>\n",
       "      <td>2015</td>\n",
       "      <td>3.50</td>\n",
       "    </tr>\n",
       "    <tr>\n",
       "      <td>...</td>\n",
       "      <td>...</td>\n",
       "      <td>...</td>\n",
       "      <td>...</td>\n",
       "      <td>...</td>\n",
       "      <td>...</td>\n",
       "      <td>...</td>\n",
       "      <td>...</td>\n",
       "      <td>...</td>\n",
       "      <td>...</td>\n",
       "    </tr>\n",
       "    <tr>\n",
       "      <td>1790</td>\n",
       "      <td>Zotter</td>\n",
       "      <td>Austria</td>\n",
       "      <td>Unknown</td>\n",
       "      <td>Peru</td>\n",
       "      <td>Peru</td>\n",
       "      <td>70%</td>\n",
       "      <td>647</td>\n",
       "      <td>2011</td>\n",
       "      <td>3.75</td>\n",
       "    </tr>\n",
       "    <tr>\n",
       "      <td>1791</td>\n",
       "      <td>Zotter</td>\n",
       "      <td>Austria</td>\n",
       "      <td>Forastero</td>\n",
       "      <td>Congo</td>\n",
       "      <td>Congo</td>\n",
       "      <td>65%</td>\n",
       "      <td>749</td>\n",
       "      <td>2011</td>\n",
       "      <td>3.00</td>\n",
       "    </tr>\n",
       "    <tr>\n",
       "      <td>1792</td>\n",
       "      <td>Zotter</td>\n",
       "      <td>Austria</td>\n",
       "      <td>Forastero</td>\n",
       "      <td>Kerala State</td>\n",
       "      <td>India</td>\n",
       "      <td>65%</td>\n",
       "      <td>749</td>\n",
       "      <td>2011</td>\n",
       "      <td>3.50</td>\n",
       "    </tr>\n",
       "    <tr>\n",
       "      <td>1793</td>\n",
       "      <td>Zotter</td>\n",
       "      <td>Austria</td>\n",
       "      <td>Unknown</td>\n",
       "      <td>Kerala State</td>\n",
       "      <td>India</td>\n",
       "      <td>62%</td>\n",
       "      <td>781</td>\n",
       "      <td>2011</td>\n",
       "      <td>3.25</td>\n",
       "    </tr>\n",
       "    <tr>\n",
       "      <td>1794</td>\n",
       "      <td>Zotter</td>\n",
       "      <td>Austria</td>\n",
       "      <td>Unknown</td>\n",
       "      <td>Brazil, Mitzi Blue</td>\n",
       "      <td>Brazil</td>\n",
       "      <td>65%</td>\n",
       "      <td>486</td>\n",
       "      <td>2010</td>\n",
       "      <td>3.00</td>\n",
       "    </tr>\n",
       "  </tbody>\n",
       "</table>\n",
       "<p>1795 rows × 9 columns</p>\n",
       "</div>"
      ],
      "text/plain": [
       "       Company Company Location  Bean Type Specific Bean Origin  \\\n",
       "0     A. Morin           France    Unknown          Agua Grande   \n",
       "1     A. Morin           France    Unknown                Kpime   \n",
       "2     A. Morin           France    Unknown               Atsane   \n",
       "3     A. Morin           France    Unknown                Akata   \n",
       "4     A. Morin           France    Unknown               Quilla   \n",
       "...        ...              ...        ...                  ...   \n",
       "1790    Zotter          Austria    Unknown                 Peru   \n",
       "1791    Zotter          Austria  Forastero                Congo   \n",
       "1792    Zotter          Austria  Forastero         Kerala State   \n",
       "1793    Zotter          Austria    Unknown         Kerala State   \n",
       "1794    Zotter          Austria    Unknown   Brazil, Mitzi Blue   \n",
       "\n",
       "     Broad Bean Origin Cocoa Percent   REF  Review Date  Rating  \n",
       "0             Sao Tome           63%  1876         2016    3.75  \n",
       "1                 Togo           70%  1676         2015    2.75  \n",
       "2                 Togo           70%  1676         2015    3.00  \n",
       "3                 Togo           70%  1680         2015    3.50  \n",
       "4                 Peru           70%  1704         2015    3.50  \n",
       "...                ...           ...   ...          ...     ...  \n",
       "1790              Peru           70%   647         2011    3.75  \n",
       "1791             Congo           65%   749         2011    3.00  \n",
       "1792             India           65%   749         2011    3.50  \n",
       "1793             India           62%   781         2011    3.25  \n",
       "1794            Brazil           65%   486         2010    3.00  \n",
       "\n",
       "[1795 rows x 9 columns]"
      ]
     },
     "execution_count": 137,
     "metadata": {},
     "output_type": "execute_result"
    }
   ],
   "source": [
    "# Your Code Goes Here\n",
    "df.loc[df['Bean Type'] == chr(0xa0), 'Bean Type'] = 'Unknown'\n",
    "df\n",
    "#Check\n",
    "#df[df['Bean Type'] == 'Unknown']\n",
    "#df['Bean Type'].unique().size"
   ]
  },
  {
   "cell_type": "markdown",
   "metadata": {
    "id": "iToRkZ8pLWb4"
   },
   "source": [
    "---"
   ]
  },
  {
   "cell_type": "markdown",
   "metadata": {
    "id": "f8c5MvFFHh_4"
   },
   "source": [
    "### Column: Specific Bean Origin"
   ]
  },
  {
   "cell_type": "markdown",
   "metadata": {
    "id": "6MAc6snPJ6LK"
   },
   "source": [
    "Let's look at our next column: 'Specific Bean Origin'. 'Specific Bean Origin' is a string column that contains the \"*specific geo-region of origin for the bar*.\"\n",
    "\n",
    "First, we'll see if we are missing any data in the 'Specific Bean Origin' column."
   ]
  },
  {
   "cell_type": "code",
   "execution_count": 138,
   "metadata": {
    "id": "e9Lk5uA_RKN5"
   },
   "outputs": [
    {
     "data": {
      "text/plain": [
       "False"
      ]
     },
     "execution_count": 138,
     "metadata": {},
     "output_type": "execute_result"
    }
   ],
   "source": [
    "df['Specific Bean Origin'].isna().any()"
   ]
  },
  {
   "cell_type": "markdown",
   "metadata": {
    "id": "DQh-ivg2RNfS"
   },
   "source": [
    "Good, we don't have any 'N/A' data. But we learned from the 'Bean' column that we also need to check string columns for being only white space.\n",
    "\n",
    "A good way to do this is to apply a function that strips leading and trailing white space from every value in a column, and see if the resulting string is zero-length."
   ]
  },
  {
   "cell_type": "code",
   "execution_count": 139,
   "metadata": {
    "id": "9-MLWbPgMxZm"
   },
   "outputs": [
    {
     "data": {
      "text/html": [
       "<div>\n",
       "<style scoped>\n",
       "    .dataframe tbody tr th:only-of-type {\n",
       "        vertical-align: middle;\n",
       "    }\n",
       "\n",
       "    .dataframe tbody tr th {\n",
       "        vertical-align: top;\n",
       "    }\n",
       "\n",
       "    .dataframe thead th {\n",
       "        text-align: right;\n",
       "    }\n",
       "</style>\n",
       "<table border=\"1\" class=\"dataframe\">\n",
       "  <thead>\n",
       "    <tr style=\"text-align: right;\">\n",
       "      <th></th>\n",
       "      <th>Company</th>\n",
       "      <th>Company Location</th>\n",
       "      <th>Bean Type</th>\n",
       "      <th>Specific Bean Origin</th>\n",
       "      <th>Broad Bean Origin</th>\n",
       "      <th>Cocoa Percent</th>\n",
       "      <th>REF</th>\n",
       "      <th>Review Date</th>\n",
       "      <th>Rating</th>\n",
       "    </tr>\n",
       "  </thead>\n",
       "  <tbody>\n",
       "  </tbody>\n",
       "</table>\n",
       "</div>"
      ],
      "text/plain": [
       "Empty DataFrame\n",
       "Columns: [Company, Company Location, Bean Type, Specific Bean Origin, Broad Bean Origin, Cocoa Percent, REF, Review Date, Rating]\n",
       "Index: []"
      ]
     },
     "execution_count": 139,
     "metadata": {},
     "output_type": "execute_result"
    }
   ],
   "source": [
    "df[df['Specific Bean Origin'].apply(lambda x: x.strip()).str.len() == 0]\n"
   ]
  },
  {
   "cell_type": "markdown",
   "metadata": {
    "id": "Oxyh7ZFKPEJY"
   },
   "source": [
    "Here we can see that no data was returned, so we don't have any 'Specific Bean Origin' values that are only spaces.\n",
    "\n",
    "If you run this function and get an error about numbers/floats not having a strip function, you likely have N/A values in your column. Always check `isna()` first.\n",
    "\n",
    "Now that we know that every row has a 'Specific Bean Origin' value, let's see how many unique values we have."
   ]
  },
  {
   "cell_type": "code",
   "execution_count": 140,
   "metadata": {
    "id": "MTfjVmwmLMZM"
   },
   "outputs": [
    {
     "data": {
      "text/plain": [
       "1039"
      ]
     },
     "execution_count": 140,
     "metadata": {},
     "output_type": "execute_result"
    }
   ],
   "source": [
    "df['Specific Bean Origin'].unique().size"
   ]
  },
  {
   "cell_type": "markdown",
   "metadata": {
    "id": "TxRFy8RnLXVk"
   },
   "source": [
    "Over 1,000 values! That is quite a bit of data to manually sift through. Let's look at the first bit of data, up until the first origin that starts with 'B'."
   ]
  },
  {
   "cell_type": "code",
   "execution_count": 141,
   "metadata": {
    "id": "ibDslHr2HrTw"
   },
   "outputs": [
    {
     "name": "stdout",
     "output_type": "stream",
     "text": [
      "\"heirloom\", Arriba Nacional\n",
      "100 percent\n",
      "2009 Hapa Nibby\n",
      "A case of the Xerces Blues, triple roast\n",
      "ABOCFA Coop\n",
      "Abinao\n",
      "Abstract S. w/ Jamaica nibs,batch abs60323.0\n",
      "Acarigua, w/ nibs\n",
      "Acopagro\n",
      "Acul-du-Nord, 2015\n",
      "Africa\n",
      "Africa meets Latina\n",
      "AgroCriso Plantation\n",
      "Agua Fria; Sucre region\n",
      "Agua Grande\n",
      "Akata\n",
      "Akesson Estate\n",
      "Akesson P.\n",
      "Akesson's E., Sambirano V.\n",
      "Akesson's Estate\n",
      "Akesson's, batch 4411\n",
      "Akessons Estate, Sambirano, 2013\n",
      "Akessons Estate, Sambirano, Ambanja\n",
      "Akosombo\n",
      "Almendra Blanca, batch 1004\n",
      "Alpaco\n",
      "Alta Verapaz, 2014\n",
      "Alto Beni\n",
      "Alto Beni, Covendo Region\n",
      "Alto Beni, Cru Savage\n",
      "Alto Beni, Palos Blanco\n",
      "Alto Beni, Palos Blancos\n",
      "Alto Beni, Upper Rio Beni, 2014\n",
      "Alto Beni, Upper Rio Beni, 2015\n",
      "Alto Beni, Wild Bolivian\n",
      "Alto Beni, Wild Harvest, Itenez R. 24hr c.\n",
      "Alto Beni, Wild Harvest, Itenez R., 60hr c.\n",
      "Alto Beni, Wild Harvest, Limited Ed.\n",
      "Amazon Basin Blend\n",
      "Amazonas\n",
      "Amazonas Frucht\n",
      "Amazonas w/ nibs\n",
      "Amazonia\n",
      "Ambanja, Sambirano Valley\n",
      "Ambanja, Tsara Valley\n",
      "Ambanja, batch 1 SRB\n",
      "Ambolikapiky\n",
      "Ambolikapiky P.\n",
      "Ambolikapkly P.\n",
      "Amina\n",
      "Andoa, Grand Cru blend\n",
      "Ankasa\n",
      "Anselmo Paraiso Estate\n",
      "Antigua, Special Reserve\n",
      "Antilles (Trin/Gren/DR/Ven)\n",
      "Apurimac\n",
      "Apurimac, El Quinacho Co-op\n",
      "Aragua, Trincheras\n",
      "Araguani\n",
      "Aranama\n",
      "Arauca\n",
      "Arawak\n",
      "Arhuacos\n",
      "Arriba\n",
      "Asajaya E, NW Borneo, b. #132/4500\n",
      "Asante\n",
      "Asochivite, batch 1005\n",
      "Atsane\n",
      "Australia\n",
      "Autumn, Primary Harvest, 2012\n",
      "Ayacucho, \"El Guinacho\"\n"
     ]
    }
   ],
   "source": [
    "for origin in sorted(df['Specific Bean Origin'].unique()):\n",
    "  if origin.startswith('B'):\n",
    "    break\n",
    "  print(origin)"
   ]
  },
  {
   "cell_type": "markdown",
   "metadata": {
    "id": "X7otjUTJMUhb"
   },
   "source": [
    "This is some pretty ugly data. Most (but not all) rows contain the bean's geographical origin, but some seem to include the year and/or batch numbers as well, and some seem to contain different information entirely (\"100 percent\").\n",
    "\n",
    "Looking at the data, we can also see some things that look odd. For instance, \"Akesson Estate\" and \"Akesson's Estate\" are likely the same origin. Also, \"Ambolikapkly P.\" clearly looks like a misspelling of \"Ambolikapiky P.\"\n",
    "\n",
    "We could make all of the \"Akesson\" origins look the same, but should we? First, let's look at the entire rows for the offending data."
   ]
  },
  {
   "cell_type": "code",
   "execution_count": 142,
   "metadata": {
    "id": "74DvVEDvNgXF"
   },
   "outputs": [
    {
     "data": {
      "text/html": [
       "<div>\n",
       "<style scoped>\n",
       "    .dataframe tbody tr th:only-of-type {\n",
       "        vertical-align: middle;\n",
       "    }\n",
       "\n",
       "    .dataframe tbody tr th {\n",
       "        vertical-align: top;\n",
       "    }\n",
       "\n",
       "    .dataframe thead th {\n",
       "        text-align: right;\n",
       "    }\n",
       "</style>\n",
       "<table border=\"1\" class=\"dataframe\">\n",
       "  <thead>\n",
       "    <tr style=\"text-align: right;\">\n",
       "      <th></th>\n",
       "      <th>Company</th>\n",
       "      <th>Company Location</th>\n",
       "      <th>Bean Type</th>\n",
       "      <th>Specific Bean Origin</th>\n",
       "      <th>Broad Bean Origin</th>\n",
       "      <th>Cocoa Percent</th>\n",
       "      <th>REF</th>\n",
       "      <th>Review Date</th>\n",
       "      <th>Rating</th>\n",
       "    </tr>\n",
       "  </thead>\n",
       "  <tbody>\n",
       "    <tr>\n",
       "      <td>807</td>\n",
       "      <td>Hogarth</td>\n",
       "      <td>New Zealand</td>\n",
       "      <td>Trinitario</td>\n",
       "      <td>Akesson's Estate</td>\n",
       "      <td>Madagascar</td>\n",
       "      <td>70%</td>\n",
       "      <td>1712</td>\n",
       "      <td>2016</td>\n",
       "      <td>2.75</td>\n",
       "    </tr>\n",
       "    <tr>\n",
       "      <td>1109</td>\n",
       "      <td>Metiisto</td>\n",
       "      <td>Sweden</td>\n",
       "      <td>Trinitario</td>\n",
       "      <td>Akesson Estate</td>\n",
       "      <td>Madagascar</td>\n",
       "      <td>72%</td>\n",
       "      <td>1267</td>\n",
       "      <td>2014</td>\n",
       "      <td>3.50</td>\n",
       "    </tr>\n",
       "    <tr>\n",
       "      <td>1301</td>\n",
       "      <td>Pitch Dark</td>\n",
       "      <td>U.S.A.</td>\n",
       "      <td>Trinitario</td>\n",
       "      <td>Akesson Estate</td>\n",
       "      <td>Madagascar</td>\n",
       "      <td>73%</td>\n",
       "      <td>1311</td>\n",
       "      <td>2014</td>\n",
       "      <td>3.25</td>\n",
       "    </tr>\n",
       "    <tr>\n",
       "      <td>1483</td>\n",
       "      <td>Smooth Chocolator, The</td>\n",
       "      <td>Australia</td>\n",
       "      <td>Trinitario</td>\n",
       "      <td>Akesson's Estate</td>\n",
       "      <td>Madagascar</td>\n",
       "      <td>65%</td>\n",
       "      <td>1618</td>\n",
       "      <td>2015</td>\n",
       "      <td>3.25</td>\n",
       "    </tr>\n",
       "    <tr>\n",
       "      <td>1484</td>\n",
       "      <td>Smooth Chocolator, The</td>\n",
       "      <td>Australia</td>\n",
       "      <td>Trinitario</td>\n",
       "      <td>Akesson's Estate</td>\n",
       "      <td>Madagascar</td>\n",
       "      <td>70%</td>\n",
       "      <td>1622</td>\n",
       "      <td>2015</td>\n",
       "      <td>3.50</td>\n",
       "    </tr>\n",
       "  </tbody>\n",
       "</table>\n",
       "</div>"
      ],
      "text/plain": [
       "                     Company Company Location   Bean Type  \\\n",
       "807                  Hogarth      New Zealand  Trinitario   \n",
       "1109                Metiisto           Sweden  Trinitario   \n",
       "1301              Pitch Dark           U.S.A.  Trinitario   \n",
       "1483  Smooth Chocolator, The        Australia  Trinitario   \n",
       "1484  Smooth Chocolator, The        Australia  Trinitario   \n",
       "\n",
       "     Specific Bean Origin Broad Bean Origin Cocoa Percent   REF  Review Date  \\\n",
       "807      Akesson's Estate        Madagascar           70%  1712         2016   \n",
       "1109       Akesson Estate        Madagascar           72%  1267         2014   \n",
       "1301       Akesson Estate        Madagascar           73%  1311         2014   \n",
       "1483     Akesson's Estate        Madagascar           65%  1618         2015   \n",
       "1484     Akesson's Estate        Madagascar           70%  1622         2015   \n",
       "\n",
       "      Rating  \n",
       "807     2.75  \n",
       "1109    3.50  \n",
       "1301    3.25  \n",
       "1483    3.25  \n",
       "1484    3.50  "
      ]
     },
     "execution_count": 142,
     "metadata": {},
     "output_type": "execute_result"
    }
   ],
   "source": [
    "df[(df['Specific Bean Origin'] == 'Akesson Estate') | \\\n",
    "   (df['Specific Bean Origin'] == \"Akesson's Estate\")]"
   ]
  },
  {
   "cell_type": "markdown",
   "metadata": {
    "id": "htWHPgw3OUJE"
   },
   "source": [
    "It is interesting that all of the bean types and origins are alike. It looks like Akesson('s) Estate serves many companies though.\n",
    "\n",
    "It is tempting to go ahead and change the \"Specific Bean Origin\" values to make them match, but it is better to do more research into the industry before making those sorts of changes. You might disagree with this decision, and that is perfectly fine. When working with datasets, you will often have to make difficult calls to deal with ambiguous data. Different people will make different decisions, and that's okay.\n",
    "\n",
    "The \"Ambolikapkly P.\" issue is a little more obvious and can be validated with a quick internet search. The \"Ambolikapkly\" spelling shows up very few times and always in the context of this data set. The other spelling is much more common. Let's go ahead and fix that."
   ]
  },
  {
   "cell_type": "code",
   "execution_count": 143,
   "metadata": {
    "id": "4XB8MPWLO0ZC"
   },
   "outputs": [],
   "source": [
    "df.loc[df['Specific Bean Origin'] == 'Ambolikapkly P.', \n",
    "       'Specific Bean Origin'] = 'Ambolikapiky P.'\n"
   ]
  },
  {
   "cell_type": "markdown",
   "metadata": {
    "id": "Lrm76h5vPORJ"
   },
   "source": [
    "#### Exercise 4: Finding and Repairing Bad Data\n",
    "\n",
    "There are a few more obvious errors in the 'Specific Bean Origin' column of the dataset. Print out the column, scan the output, and see if you can find any more errors. Write the code to fix the errors. Find at least one error to fix.\n",
    "\n",
    "The code to print the dataset is below."
   ]
  },
  {
   "cell_type": "code",
   "execution_count": 154,
   "metadata": {
    "id": "0yYMKfmIPqOh"
   },
   "outputs": [
    {
     "name": "stdout",
     "output_type": "stream",
     "text": [
      "Vale do Juliana E., Atlantic Forest\n",
      "Vale do Juliana, w/ nibs\n",
      "Vanua Levu\n",
      "Vanua Levu, Ami-Ami-CA\n",
      "Vanua Levu, Toto-A\n",
      "Vanuatu\n",
      "Vanuatu, batch 2410\n",
      "Venezuela\n",
      "Venezuela, Trinidad\n",
      "Venezuela, batch 122\n",
      "Venezuela; Barinos, Merida, Tachron\n",
      "Venzuela\n",
      "Vietnam\n",
      "Vietnam, Batch 50/100\n",
      "Vila Gracinda\n",
      "Villa Andina\n",
      "Vinces\n",
      "Virunga\n"
     ]
    }
   ],
   "source": [
    "for origin in sorted(df['Specific Bean Origin'].unique()):\n",
    "  if origin.startswith('V'):\n",
    "    print(origin)\n",
    "   \n",
    "  \n",
    "  \n",
    "\n",
    "#df[(df['Specific Bean Origin'] == 'Djakarta, Java and Ghana')]\n",
    "#df[(df['Specific Bean Origin'] == 'Eastern Promises')]\n",
    "#df[(df['Specific Bean Origin'] == 'French Laundry 20th Anniversary')]\n"
   ]
  },
  {
   "cell_type": "markdown",
   "metadata": {
    "id": "JhuNx5G5R47g"
   },
   "source": [
    "**Student Solution**"
   ]
  },
  {
   "cell_type": "code",
   "execution_count": 155,
   "metadata": {
    "id": "hxoy0g2iR79D"
   },
   "outputs": [
    {
     "data": {
      "text/html": [
       "<div>\n",
       "<style scoped>\n",
       "    .dataframe tbody tr th:only-of-type {\n",
       "        vertical-align: middle;\n",
       "    }\n",
       "\n",
       "    .dataframe tbody tr th {\n",
       "        vertical-align: top;\n",
       "    }\n",
       "\n",
       "    .dataframe thead th {\n",
       "        text-align: right;\n",
       "    }\n",
       "</style>\n",
       "<table border=\"1\" class=\"dataframe\">\n",
       "  <thead>\n",
       "    <tr style=\"text-align: right;\">\n",
       "      <th></th>\n",
       "      <th>Company</th>\n",
       "      <th>Company Location</th>\n",
       "      <th>Bean Type</th>\n",
       "      <th>Specific Bean Origin</th>\n",
       "      <th>Broad Bean Origin</th>\n",
       "      <th>Cocoa Percent</th>\n",
       "      <th>REF</th>\n",
       "      <th>Review Date</th>\n",
       "      <th>Rating</th>\n",
       "    </tr>\n",
       "  </thead>\n",
       "  <tbody>\n",
       "    <tr>\n",
       "      <td>0</td>\n",
       "      <td>A. Morin</td>\n",
       "      <td>France</td>\n",
       "      <td>Unknown</td>\n",
       "      <td>Agua Grande</td>\n",
       "      <td>Sao Tome</td>\n",
       "      <td>63%</td>\n",
       "      <td>1876</td>\n",
       "      <td>2016</td>\n",
       "      <td>3.75</td>\n",
       "    </tr>\n",
       "    <tr>\n",
       "      <td>1</td>\n",
       "      <td>A. Morin</td>\n",
       "      <td>France</td>\n",
       "      <td>Unknown</td>\n",
       "      <td>Kpime</td>\n",
       "      <td>Togo</td>\n",
       "      <td>70%</td>\n",
       "      <td>1676</td>\n",
       "      <td>2015</td>\n",
       "      <td>2.75</td>\n",
       "    </tr>\n",
       "    <tr>\n",
       "      <td>2</td>\n",
       "      <td>A. Morin</td>\n",
       "      <td>France</td>\n",
       "      <td>Unknown</td>\n",
       "      <td>Atsane</td>\n",
       "      <td>Togo</td>\n",
       "      <td>70%</td>\n",
       "      <td>1676</td>\n",
       "      <td>2015</td>\n",
       "      <td>3.00</td>\n",
       "    </tr>\n",
       "    <tr>\n",
       "      <td>3</td>\n",
       "      <td>A. Morin</td>\n",
       "      <td>France</td>\n",
       "      <td>Unknown</td>\n",
       "      <td>Akata</td>\n",
       "      <td>Togo</td>\n",
       "      <td>70%</td>\n",
       "      <td>1680</td>\n",
       "      <td>2015</td>\n",
       "      <td>3.50</td>\n",
       "    </tr>\n",
       "    <tr>\n",
       "      <td>4</td>\n",
       "      <td>A. Morin</td>\n",
       "      <td>France</td>\n",
       "      <td>Unknown</td>\n",
       "      <td>Quilla</td>\n",
       "      <td>Peru</td>\n",
       "      <td>70%</td>\n",
       "      <td>1704</td>\n",
       "      <td>2015</td>\n",
       "      <td>3.50</td>\n",
       "    </tr>\n",
       "    <tr>\n",
       "      <td>...</td>\n",
       "      <td>...</td>\n",
       "      <td>...</td>\n",
       "      <td>...</td>\n",
       "      <td>...</td>\n",
       "      <td>...</td>\n",
       "      <td>...</td>\n",
       "      <td>...</td>\n",
       "      <td>...</td>\n",
       "      <td>...</td>\n",
       "    </tr>\n",
       "    <tr>\n",
       "      <td>1790</td>\n",
       "      <td>Zotter</td>\n",
       "      <td>Austria</td>\n",
       "      <td>Unknown</td>\n",
       "      <td>Peru</td>\n",
       "      <td>Peru</td>\n",
       "      <td>70%</td>\n",
       "      <td>647</td>\n",
       "      <td>2011</td>\n",
       "      <td>3.75</td>\n",
       "    </tr>\n",
       "    <tr>\n",
       "      <td>1791</td>\n",
       "      <td>Zotter</td>\n",
       "      <td>Austria</td>\n",
       "      <td>Forastero</td>\n",
       "      <td>Congo</td>\n",
       "      <td>Congo</td>\n",
       "      <td>65%</td>\n",
       "      <td>749</td>\n",
       "      <td>2011</td>\n",
       "      <td>3.00</td>\n",
       "    </tr>\n",
       "    <tr>\n",
       "      <td>1792</td>\n",
       "      <td>Zotter</td>\n",
       "      <td>Austria</td>\n",
       "      <td>Forastero</td>\n",
       "      <td>Kerala State</td>\n",
       "      <td>India</td>\n",
       "      <td>65%</td>\n",
       "      <td>749</td>\n",
       "      <td>2011</td>\n",
       "      <td>3.50</td>\n",
       "    </tr>\n",
       "    <tr>\n",
       "      <td>1793</td>\n",
       "      <td>Zotter</td>\n",
       "      <td>Austria</td>\n",
       "      <td>Unknown</td>\n",
       "      <td>Kerala State</td>\n",
       "      <td>India</td>\n",
       "      <td>62%</td>\n",
       "      <td>781</td>\n",
       "      <td>2011</td>\n",
       "      <td>3.25</td>\n",
       "    </tr>\n",
       "    <tr>\n",
       "      <td>1794</td>\n",
       "      <td>Zotter</td>\n",
       "      <td>Austria</td>\n",
       "      <td>Unknown</td>\n",
       "      <td>Brazil, Mitzi Blue</td>\n",
       "      <td>Brazil</td>\n",
       "      <td>65%</td>\n",
       "      <td>486</td>\n",
       "      <td>2010</td>\n",
       "      <td>3.00</td>\n",
       "    </tr>\n",
       "  </tbody>\n",
       "</table>\n",
       "<p>1795 rows × 9 columns</p>\n",
       "</div>"
      ],
      "text/plain": [
       "       Company Company Location  Bean Type Specific Bean Origin  \\\n",
       "0     A. Morin           France    Unknown          Agua Grande   \n",
       "1     A. Morin           France    Unknown                Kpime   \n",
       "2     A. Morin           France    Unknown               Atsane   \n",
       "3     A. Morin           France    Unknown                Akata   \n",
       "4     A. Morin           France    Unknown               Quilla   \n",
       "...        ...              ...        ...                  ...   \n",
       "1790    Zotter          Austria    Unknown                 Peru   \n",
       "1791    Zotter          Austria  Forastero                Congo   \n",
       "1792    Zotter          Austria  Forastero         Kerala State   \n",
       "1793    Zotter          Austria    Unknown         Kerala State   \n",
       "1794    Zotter          Austria    Unknown   Brazil, Mitzi Blue   \n",
       "\n",
       "     Broad Bean Origin Cocoa Percent   REF  Review Date  Rating  \n",
       "0             Sao Tome           63%  1876         2016    3.75  \n",
       "1                 Togo           70%  1676         2015    2.75  \n",
       "2                 Togo           70%  1676         2015    3.00  \n",
       "3                 Togo           70%  1680         2015    3.50  \n",
       "4                 Peru           70%  1704         2015    3.50  \n",
       "...                ...           ...   ...          ...     ...  \n",
       "1790              Peru           70%   647         2011    3.75  \n",
       "1791             Congo           65%   749         2011    3.00  \n",
       "1792             India           65%   749         2011    3.50  \n",
       "1793             India           62%   781         2011    3.25  \n",
       "1794            Brazil           65%   486         2010    3.00  \n",
       "\n",
       "[1795 rows x 9 columns]"
      ]
     },
     "execution_count": 155,
     "metadata": {},
     "output_type": "execute_result"
    }
   ],
   "source": [
    "# Repair the data\n",
    "df.loc[df['Specific Bean Origin'] == 'Djakarta, Java and Ghana', \n",
    "       'Specific Bean Origin'] = 'Jakarta, Java and Ghana'\n",
    "\n",
    "df.loc[df['Specific Bean Origin'] == 'Djual Island', \n",
    "       'Specific Bean Origin'] = 'Djaul Island'\n",
    "\n",
    "df.loc[df['Specific Bean Origin'] == 'Eastern Promises', \n",
    "       'Specific Bean Origin'] = 'Unknown'\n",
    "\n",
    "df.loc[df['Specific Bean Origin'] == 'Venzuela', \n",
    "       'Specific Bean Origin'] = 'Venezuela'\n",
    "\n",
    "\n",
    "\n",
    "\n",
    "df"
   ]
  },
  {
   "cell_type": "markdown",
   "metadata": {
    "id": "YFZQoDvHR_Rb"
   },
   "source": [
    "---"
   ]
  },
  {
   "cell_type": "markdown",
   "metadata": {
    "id": "9dyeOcIASyBa"
   },
   "source": [
    "#### Exercise 5: Top Specific Bean Origins\n",
    "\n",
    "There are just over 1,000 unique specific bean origins and over 1,700 entries in the dataset. Write code to find the top five most repeated origins. Print the origins and the number of times that each appears in the dataset."
   ]
  },
  {
   "cell_type": "markdown",
   "metadata": {
    "id": "yLz75cOFTE_T"
   },
   "source": [
    "**Student Solution**"
   ]
  },
  {
   "cell_type": "code",
   "execution_count": 203,
   "metadata": {
    "id": "Ew8c5AknTHuQ"
   },
   "outputs": [
    {
     "data": {
      "text/plain": [
       "['Madagascar', 'Peru', 'Ecuador', 'Dominican Republic', 'Venezuela']"
      ]
     },
     "execution_count": 203,
     "metadata": {},
     "output_type": "execute_result"
    }
   ],
   "source": [
    "# Find the top 5 bar origins\n",
    "top_5_origin = df['Specific Bean Origin'].value_counts()[:5].index.tolist()\n",
    "top_5_origin"
   ]
  },
  {
   "cell_type": "markdown",
   "metadata": {
    "id": "0abZ4gATTGtJ"
   },
   "source": [
    "---"
   ]
  },
  {
   "cell_type": "markdown",
   "metadata": {
    "id": "OUPRZpCIdvT8"
   },
   "source": [
    "### Column: Broad Bean Origin"
   ]
  },
  {
   "cell_type": "markdown",
   "metadata": {
    "id": "lI5_PqH7Tqq3"
   },
   "source": [
    "The 'Broad Bean Origin' is the \"*broad geo-region of origin for the bean.*\" In theory, this should be broader regions than the 'Specific Bean Origin' that we just worked with.\n",
    "\n",
    "Let's dive in. First things first, let's check for N/A values."
   ]
  },
  {
   "cell_type": "code",
   "execution_count": 40,
   "metadata": {
    "id": "-xfNxS3NUVRw"
   },
   "outputs": [
    {
     "data": {
      "text/plain": [
       "Company                 1\n",
       "Company Location        1\n",
       "Bean Type               1\n",
       "Specific Bean Origin    1\n",
       "Broad Bean Origin       0\n",
       "Cocoa Percent           1\n",
       "REF                     1\n",
       "Review Date             1\n",
       "Rating                  1\n",
       "Spesific Bean Origin    0\n",
       "dtype: int64"
      ]
     },
     "execution_count": 40,
     "metadata": {},
     "output_type": "execute_result"
    }
   ],
   "source": [
    "df[df['Broad Bean Origin'].isna()].count()"
   ]
  },
  {
   "cell_type": "markdown",
   "metadata": {
    "id": "PDAtc4e6cmot"
   },
   "source": [
    "It looks like we are missing one origin. Let's take a look at the record."
   ]
  },
  {
   "cell_type": "code",
   "execution_count": 41,
   "metadata": {
    "id": "Yua9pGNhdOcP"
   },
   "outputs": [
    {
     "data": {
      "text/html": [
       "<div>\n",
       "<style scoped>\n",
       "    .dataframe tbody tr th:only-of-type {\n",
       "        vertical-align: middle;\n",
       "    }\n",
       "\n",
       "    .dataframe tbody tr th {\n",
       "        vertical-align: top;\n",
       "    }\n",
       "\n",
       "    .dataframe thead th {\n",
       "        text-align: right;\n",
       "    }\n",
       "</style>\n",
       "<table border=\"1\" class=\"dataframe\">\n",
       "  <thead>\n",
       "    <tr style=\"text-align: right;\">\n",
       "      <th></th>\n",
       "      <th>Company</th>\n",
       "      <th>Company Location</th>\n",
       "      <th>Bean Type</th>\n",
       "      <th>Specific Bean Origin</th>\n",
       "      <th>Broad Bean Origin</th>\n",
       "      <th>Cocoa Percent</th>\n",
       "      <th>REF</th>\n",
       "      <th>Review Date</th>\n",
       "      <th>Rating</th>\n",
       "      <th>Spesific Bean Origin</th>\n",
       "    </tr>\n",
       "  </thead>\n",
       "  <tbody>\n",
       "    <tr>\n",
       "      <td>1072</td>\n",
       "      <td>Mast Brothers</td>\n",
       "      <td>U.S.A.</td>\n",
       "      <td>Trinitario</td>\n",
       "      <td>Madagascar</td>\n",
       "      <td>NaN</td>\n",
       "      <td>72%</td>\n",
       "      <td>999</td>\n",
       "      <td>2012</td>\n",
       "      <td>2.5</td>\n",
       "      <td>NaN</td>\n",
       "    </tr>\n",
       "  </tbody>\n",
       "</table>\n",
       "</div>"
      ],
      "text/plain": [
       "            Company Company Location   Bean Type Specific Bean Origin  \\\n",
       "1072  Mast Brothers           U.S.A.  Trinitario           Madagascar   \n",
       "\n",
       "     Broad Bean Origin Cocoa Percent  REF  Review Date  Rating  \\\n",
       "1072               NaN           72%  999         2012     2.5   \n",
       "\n",
       "     Spesific Bean Origin  \n",
       "1072                  NaN  "
      ]
     },
     "execution_count": 41,
     "metadata": {},
     "output_type": "execute_result"
    }
   ],
   "source": [
    "df[df['Broad Bean Origin'].isna()]"
   ]
  },
  {
   "cell_type": "markdown",
   "metadata": {
    "id": "UUz2RFhHde9o"
   },
   "source": [
    "The one record has a 'Specific Bean Origin' of 'Madagascar'. Let's see if there are any other chocolates from that same specific origin."
   ]
  },
  {
   "cell_type": "code",
   "execution_count": 42,
   "metadata": {
    "id": "NWwhBGNGdRK7"
   },
   "outputs": [
    {
     "data": {
      "text/html": [
       "<div>\n",
       "<style scoped>\n",
       "    .dataframe tbody tr th:only-of-type {\n",
       "        vertical-align: middle;\n",
       "    }\n",
       "\n",
       "    .dataframe tbody tr th {\n",
       "        vertical-align: top;\n",
       "    }\n",
       "\n",
       "    .dataframe thead th {\n",
       "        text-align: right;\n",
       "    }\n",
       "</style>\n",
       "<table border=\"1\" class=\"dataframe\">\n",
       "  <thead>\n",
       "    <tr style=\"text-align: right;\">\n",
       "      <th></th>\n",
       "      <th>Company</th>\n",
       "      <th>Company Location</th>\n",
       "      <th>Bean Type</th>\n",
       "      <th>Specific Bean Origin</th>\n",
       "      <th>Broad Bean Origin</th>\n",
       "      <th>Cocoa Percent</th>\n",
       "      <th>REF</th>\n",
       "      <th>Review Date</th>\n",
       "      <th>Rating</th>\n",
       "      <th>Spesific Bean Origin</th>\n",
       "    </tr>\n",
       "  </thead>\n",
       "  <tbody>\n",
       "    <tr>\n",
       "      <td>11</td>\n",
       "      <td>A. Morin</td>\n",
       "      <td>France</td>\n",
       "      <td>Criollo</td>\n",
       "      <td>Madagascar</td>\n",
       "      <td>Madagascar</td>\n",
       "      <td>70%</td>\n",
       "      <td>1011</td>\n",
       "      <td>2013</td>\n",
       "      <td>3.00</td>\n",
       "      <td>NaN</td>\n",
       "    </tr>\n",
       "    <tr>\n",
       "      <td>37</td>\n",
       "      <td>Alain Ducasse</td>\n",
       "      <td>France</td>\n",
       "      <td>Trinitario</td>\n",
       "      <td>Madagascar</td>\n",
       "      <td>Madagascar</td>\n",
       "      <td>75%</td>\n",
       "      <td>1215</td>\n",
       "      <td>2014</td>\n",
       "      <td>3.00</td>\n",
       "      <td>NaN</td>\n",
       "    </tr>\n",
       "    <tr>\n",
       "      <td>60</td>\n",
       "      <td>Amano</td>\n",
       "      <td>U.S.A.</td>\n",
       "      <td>Trinitario</td>\n",
       "      <td>Madagascar</td>\n",
       "      <td>Madagascar</td>\n",
       "      <td>70%</td>\n",
       "      <td>129</td>\n",
       "      <td>2007</td>\n",
       "      <td>3.50</td>\n",
       "      <td>NaN</td>\n",
       "    </tr>\n",
       "    <tr>\n",
       "      <td>70</td>\n",
       "      <td>Ambrosia</td>\n",
       "      <td>Canada</td>\n",
       "      <td>Trinitario</td>\n",
       "      <td>Madagascar</td>\n",
       "      <td>Madagascar</td>\n",
       "      <td>66%</td>\n",
       "      <td>1494</td>\n",
       "      <td>2015</td>\n",
       "      <td>3.25</td>\n",
       "      <td>NaN</td>\n",
       "    </tr>\n",
       "    <tr>\n",
       "      <td>83</td>\n",
       "      <td>Amedei</td>\n",
       "      <td>Italy</td>\n",
       "      <td>Trinitario (85% Criollo)</td>\n",
       "      <td>Madagascar</td>\n",
       "      <td>Madagascar</td>\n",
       "      <td>70%</td>\n",
       "      <td>123</td>\n",
       "      <td>2007</td>\n",
       "      <td>4.00</td>\n",
       "      <td>NaN</td>\n",
       "    </tr>\n",
       "    <tr>\n",
       "      <td>95</td>\n",
       "      <td>Ara</td>\n",
       "      <td>France</td>\n",
       "      <td>Trinitario</td>\n",
       "      <td>Madagascar</td>\n",
       "      <td>Madagascar</td>\n",
       "      <td>75%</td>\n",
       "      <td>1375</td>\n",
       "      <td>2014</td>\n",
       "      <td>3.00</td>\n",
       "      <td>NaN</td>\n",
       "    </tr>\n",
       "    <tr>\n",
       "      <td>133</td>\n",
       "      <td>Artisan du Chocolat</td>\n",
       "      <td>U.K.</td>\n",
       "      <td>Criollo, Trinitario</td>\n",
       "      <td>Madagascar</td>\n",
       "      <td>Madagascar</td>\n",
       "      <td>80%</td>\n",
       "      <td>363</td>\n",
       "      <td>2009</td>\n",
       "      <td>3.00</td>\n",
       "      <td>NaN</td>\n",
       "    </tr>\n",
       "    <tr>\n",
       "      <td>183</td>\n",
       "      <td>Beschle (Felchlin)</td>\n",
       "      <td>Switzerland</td>\n",
       "      <td>Trinitario</td>\n",
       "      <td>Madagascar</td>\n",
       "      <td>Madagascar</td>\n",
       "      <td>64%</td>\n",
       "      <td>636</td>\n",
       "      <td>2011</td>\n",
       "      <td>3.00</td>\n",
       "      <td>NaN</td>\n",
       "    </tr>\n",
       "    <tr>\n",
       "      <td>220</td>\n",
       "      <td>Blue Bandana</td>\n",
       "      <td>U.S.A.</td>\n",
       "      <td>Trinitario</td>\n",
       "      <td>Madagascar</td>\n",
       "      <td>Madagascar</td>\n",
       "      <td>70%</td>\n",
       "      <td>911</td>\n",
       "      <td>2012</td>\n",
       "      <td>3.75</td>\n",
       "      <td>NaN</td>\n",
       "    </tr>\n",
       "    <tr>\n",
       "      <td>244</td>\n",
       "      <td>Bonnat</td>\n",
       "      <td>France</td>\n",
       "      <td>Trinitario</td>\n",
       "      <td>Madagascar</td>\n",
       "      <td>Madagascar</td>\n",
       "      <td>75%</td>\n",
       "      <td>75</td>\n",
       "      <td>2006</td>\n",
       "      <td>4.00</td>\n",
       "      <td>NaN</td>\n",
       "    </tr>\n",
       "    <tr>\n",
       "      <td>309</td>\n",
       "      <td>Cacao Sampaka</td>\n",
       "      <td>Spain</td>\n",
       "      <td>Trinitario</td>\n",
       "      <td>Madagascar</td>\n",
       "      <td>Madagascar</td>\n",
       "      <td>71%</td>\n",
       "      <td>508</td>\n",
       "      <td>2010</td>\n",
       "      <td>3.50</td>\n",
       "      <td>NaN</td>\n",
       "    </tr>\n",
       "    <tr>\n",
       "      <td>317</td>\n",
       "      <td>Cacao Store</td>\n",
       "      <td>Japan</td>\n",
       "      <td>Trinitario</td>\n",
       "      <td>Madagascar</td>\n",
       "      <td>Madagascar</td>\n",
       "      <td>70%</td>\n",
       "      <td>1684</td>\n",
       "      <td>2015</td>\n",
       "      <td>3.00</td>\n",
       "      <td>NaN</td>\n",
       "    </tr>\n",
       "    <tr>\n",
       "      <td>390</td>\n",
       "      <td>Chocola'te</td>\n",
       "      <td>U.S.A.</td>\n",
       "      <td>Trinitario</td>\n",
       "      <td>Madagascar</td>\n",
       "      <td>Madagascar</td>\n",
       "      <td>70%</td>\n",
       "      <td>647</td>\n",
       "      <td>2011</td>\n",
       "      <td>3.75</td>\n",
       "      <td>NaN</td>\n",
       "    </tr>\n",
       "    <tr>\n",
       "      <td>410</td>\n",
       "      <td>Chocolate Tree, The</td>\n",
       "      <td>Scotland</td>\n",
       "      <td>Criollo</td>\n",
       "      <td>Madagascar</td>\n",
       "      <td>Madagascar</td>\n",
       "      <td>72%</td>\n",
       "      <td>919</td>\n",
       "      <td>2012</td>\n",
       "      <td>3.25</td>\n",
       "      <td>NaN</td>\n",
       "    </tr>\n",
       "    <tr>\n",
       "      <td>451</td>\n",
       "      <td>Coppeneur</td>\n",
       "      <td>Germany</td>\n",
       "      <td>Trinitario</td>\n",
       "      <td>Madagascar</td>\n",
       "      <td>Madagascar</td>\n",
       "      <td>70%</td>\n",
       "      <td>959</td>\n",
       "      <td>2012</td>\n",
       "      <td>3.50</td>\n",
       "      <td>NaN</td>\n",
       "    </tr>\n",
       "    <tr>\n",
       "      <td>496</td>\n",
       "      <td>Dandelion</td>\n",
       "      <td>U.S.A.</td>\n",
       "      <td>Trinitario</td>\n",
       "      <td>Madagascar</td>\n",
       "      <td>Madagascar</td>\n",
       "      <td>70%</td>\n",
       "      <td>654</td>\n",
       "      <td>2011</td>\n",
       "      <td>3.25</td>\n",
       "      <td>NaN</td>\n",
       "    </tr>\n",
       "    <tr>\n",
       "      <td>511</td>\n",
       "      <td>Dark Forest</td>\n",
       "      <td>U.S.A.</td>\n",
       "      <td>Trinitario</td>\n",
       "      <td>Madagascar</td>\n",
       "      <td>Madagascar</td>\n",
       "      <td>70%</td>\n",
       "      <td>1550</td>\n",
       "      <td>2015</td>\n",
       "      <td>3.00</td>\n",
       "      <td>NaN</td>\n",
       "    </tr>\n",
       "    <tr>\n",
       "      <td>523</td>\n",
       "      <td>Dean and Deluca (Belcolade)</td>\n",
       "      <td>U.S.A.</td>\n",
       "      <td>Trinitario</td>\n",
       "      <td>Madagascar</td>\n",
       "      <td>Madagascar</td>\n",
       "      <td>66%</td>\n",
       "      <td>170</td>\n",
       "      <td>2007</td>\n",
       "      <td>2.50</td>\n",
       "      <td>NaN</td>\n",
       "    </tr>\n",
       "    <tr>\n",
       "      <td>569</td>\n",
       "      <td>Domori</td>\n",
       "      <td>Italy</td>\n",
       "      <td>Trinitario</td>\n",
       "      <td>Madagascar</td>\n",
       "      <td>Madagascar</td>\n",
       "      <td>70%</td>\n",
       "      <td>135</td>\n",
       "      <td>2007</td>\n",
       "      <td>3.50</td>\n",
       "      <td>NaN</td>\n",
       "    </tr>\n",
       "    <tr>\n",
       "      <td>595</td>\n",
       "      <td>Durand</td>\n",
       "      <td>France</td>\n",
       "      <td>Trinitario</td>\n",
       "      <td>Madagascar</td>\n",
       "      <td>Madagascar</td>\n",
       "      <td>82%</td>\n",
       "      <td>841</td>\n",
       "      <td>2012</td>\n",
       "      <td>2.75</td>\n",
       "      <td>NaN</td>\n",
       "    </tr>\n",
       "    <tr>\n",
       "      <td>602</td>\n",
       "      <td>East Van Roasters</td>\n",
       "      <td>Canada</td>\n",
       "      <td>Trinitario</td>\n",
       "      <td>Madagascar</td>\n",
       "      <td>Madagascar</td>\n",
       "      <td>70%</td>\n",
       "      <td>1343</td>\n",
       "      <td>2014</td>\n",
       "      <td>3.50</td>\n",
       "      <td>NaN</td>\n",
       "    </tr>\n",
       "    <tr>\n",
       "      <td>668</td>\n",
       "      <td>Frederic Blondeel</td>\n",
       "      <td>Belgium</td>\n",
       "      <td>Trinitario</td>\n",
       "      <td>Madagascar</td>\n",
       "      <td>Madagascar</td>\n",
       "      <td>65%</td>\n",
       "      <td>1351</td>\n",
       "      <td>2014</td>\n",
       "      <td>3.50</td>\n",
       "      <td>NaN</td>\n",
       "    </tr>\n",
       "    <tr>\n",
       "      <td>740</td>\n",
       "      <td>Green Bean to Bar</td>\n",
       "      <td>Japan</td>\n",
       "      <td>Unknown</td>\n",
       "      <td>Madagascar</td>\n",
       "      <td>Madagascar</td>\n",
       "      <td>70%</td>\n",
       "      <td>1896</td>\n",
       "      <td>2016</td>\n",
       "      <td>3.50</td>\n",
       "      <td>NaN</td>\n",
       "    </tr>\n",
       "    <tr>\n",
       "      <td>803</td>\n",
       "      <td>hexx</td>\n",
       "      <td>U.S.A.</td>\n",
       "      <td>Trinitario</td>\n",
       "      <td>Madagascar</td>\n",
       "      <td>Madagascar</td>\n",
       "      <td>74%</td>\n",
       "      <td>1546</td>\n",
       "      <td>2015</td>\n",
       "      <td>3.00</td>\n",
       "      <td>NaN</td>\n",
       "    </tr>\n",
       "    <tr>\n",
       "      <td>872</td>\n",
       "      <td>Isidro</td>\n",
       "      <td>U.S.A.</td>\n",
       "      <td>Trinitario</td>\n",
       "      <td>Madagascar</td>\n",
       "      <td>Madagascar</td>\n",
       "      <td>72%</td>\n",
       "      <td>1275</td>\n",
       "      <td>2014</td>\n",
       "      <td>3.50</td>\n",
       "      <td>NaN</td>\n",
       "    </tr>\n",
       "    <tr>\n",
       "      <td>879</td>\n",
       "      <td>Jordis</td>\n",
       "      <td>Czech Republic</td>\n",
       "      <td>Trinitario</td>\n",
       "      <td>Madagascar</td>\n",
       "      <td>Madagascar</td>\n",
       "      <td>63%</td>\n",
       "      <td>1534</td>\n",
       "      <td>2015</td>\n",
       "      <td>2.75</td>\n",
       "      <td>NaN</td>\n",
       "    </tr>\n",
       "    <tr>\n",
       "      <td>881</td>\n",
       "      <td>Just Good Chocolate</td>\n",
       "      <td>U.S.A.</td>\n",
       "      <td>Trinitario</td>\n",
       "      <td>Madagascar</td>\n",
       "      <td>Madagascar</td>\n",
       "      <td>70%</td>\n",
       "      <td>1375</td>\n",
       "      <td>2014</td>\n",
       "      <td>3.50</td>\n",
       "      <td>NaN</td>\n",
       "    </tr>\n",
       "    <tr>\n",
       "      <td>916</td>\n",
       "      <td>Kyya</td>\n",
       "      <td>U.S.A.</td>\n",
       "      <td>Trinitario</td>\n",
       "      <td>Madagascar</td>\n",
       "      <td>Madagascar</td>\n",
       "      <td>72.5%</td>\n",
       "      <td>1363</td>\n",
       "      <td>2014</td>\n",
       "      <td>3.00</td>\n",
       "      <td>NaN</td>\n",
       "    </tr>\n",
       "    <tr>\n",
       "      <td>924</td>\n",
       "      <td>L.A. Burdick (Felchlin)</td>\n",
       "      <td>U.S.A.</td>\n",
       "      <td>Trinitario</td>\n",
       "      <td>Madagascar</td>\n",
       "      <td>Madagascar</td>\n",
       "      <td>64%</td>\n",
       "      <td>431</td>\n",
       "      <td>2009</td>\n",
       "      <td>3.50</td>\n",
       "      <td>NaN</td>\n",
       "    </tr>\n",
       "    <tr>\n",
       "      <td>968</td>\n",
       "      <td>Lilla</td>\n",
       "      <td>Finland</td>\n",
       "      <td>Trinitario</td>\n",
       "      <td>Madagascar</td>\n",
       "      <td>Madagascar</td>\n",
       "      <td>70%</td>\n",
       "      <td>1856</td>\n",
       "      <td>2016</td>\n",
       "      <td>3.00</td>\n",
       "      <td>NaN</td>\n",
       "    </tr>\n",
       "    <tr>\n",
       "      <td>990</td>\n",
       "      <td>Madecasse (Cinagra)</td>\n",
       "      <td>Madagascar</td>\n",
       "      <td>Trinitario</td>\n",
       "      <td>Madagascar</td>\n",
       "      <td>Madagascar</td>\n",
       "      <td>67%</td>\n",
       "      <td>284</td>\n",
       "      <td>2008</td>\n",
       "      <td>3.50</td>\n",
       "      <td>NaN</td>\n",
       "    </tr>\n",
       "    <tr>\n",
       "      <td>991</td>\n",
       "      <td>Madecasse (Cinagra)</td>\n",
       "      <td>Madagascar</td>\n",
       "      <td>Trinitario</td>\n",
       "      <td>Madagascar</td>\n",
       "      <td>Madagascar</td>\n",
       "      <td>70%</td>\n",
       "      <td>284</td>\n",
       "      <td>2008</td>\n",
       "      <td>3.75</td>\n",
       "      <td>NaN</td>\n",
       "    </tr>\n",
       "    <tr>\n",
       "      <td>992</td>\n",
       "      <td>Madecasse (Cinagra)</td>\n",
       "      <td>Madagascar</td>\n",
       "      <td>Trinitario</td>\n",
       "      <td>Madagascar</td>\n",
       "      <td>Madagascar</td>\n",
       "      <td>63%</td>\n",
       "      <td>284</td>\n",
       "      <td>2008</td>\n",
       "      <td>4.00</td>\n",
       "      <td>NaN</td>\n",
       "    </tr>\n",
       "    <tr>\n",
       "      <td>993</td>\n",
       "      <td>Madecasse (Cinagra)</td>\n",
       "      <td>Madagascar</td>\n",
       "      <td>Trinitario</td>\n",
       "      <td>Madagascar</td>\n",
       "      <td>Madagascar</td>\n",
       "      <td>75%</td>\n",
       "      <td>288</td>\n",
       "      <td>2008</td>\n",
       "      <td>3.50</td>\n",
       "      <td>NaN</td>\n",
       "    </tr>\n",
       "    <tr>\n",
       "      <td>1072</td>\n",
       "      <td>Mast Brothers</td>\n",
       "      <td>U.S.A.</td>\n",
       "      <td>Trinitario</td>\n",
       "      <td>Madagascar</td>\n",
       "      <td>NaN</td>\n",
       "      <td>72%</td>\n",
       "      <td>999</td>\n",
       "      <td>2012</td>\n",
       "      <td>2.50</td>\n",
       "      <td>NaN</td>\n",
       "    </tr>\n",
       "    <tr>\n",
       "      <td>1100</td>\n",
       "      <td>Menakao (aka Cinagra)</td>\n",
       "      <td>Madagascar</td>\n",
       "      <td>Trinitario</td>\n",
       "      <td>Madagascar</td>\n",
       "      <td>Madagascar</td>\n",
       "      <td>80%</td>\n",
       "      <td>837</td>\n",
       "      <td>2012</td>\n",
       "      <td>2.50</td>\n",
       "      <td>NaN</td>\n",
       "    </tr>\n",
       "    <tr>\n",
       "      <td>1101</td>\n",
       "      <td>Menakao (aka Cinagra)</td>\n",
       "      <td>Madagascar</td>\n",
       "      <td>Trinitario</td>\n",
       "      <td>Madagascar</td>\n",
       "      <td>Madagascar</td>\n",
       "      <td>72%</td>\n",
       "      <td>841</td>\n",
       "      <td>2012</td>\n",
       "      <td>2.50</td>\n",
       "      <td>NaN</td>\n",
       "    </tr>\n",
       "    <tr>\n",
       "      <td>1171</td>\n",
       "      <td>Nathan Miller</td>\n",
       "      <td>U.S.A.</td>\n",
       "      <td>Trinitario</td>\n",
       "      <td>Madagascar</td>\n",
       "      <td>Madagascar</td>\n",
       "      <td>73.5%</td>\n",
       "      <td>1403</td>\n",
       "      <td>2014</td>\n",
       "      <td>2.50</td>\n",
       "      <td>NaN</td>\n",
       "    </tr>\n",
       "    <tr>\n",
       "      <td>1224</td>\n",
       "      <td>Omnom</td>\n",
       "      <td>Iceland</td>\n",
       "      <td>Trinitario</td>\n",
       "      <td>Madagascar</td>\n",
       "      <td>Madagascar</td>\n",
       "      <td>66%</td>\n",
       "      <td>1247</td>\n",
       "      <td>2014</td>\n",
       "      <td>3.50</td>\n",
       "      <td>NaN</td>\n",
       "    </tr>\n",
       "    <tr>\n",
       "      <td>1273</td>\n",
       "      <td>Patric</td>\n",
       "      <td>U.S.A.</td>\n",
       "      <td>Trinitario</td>\n",
       "      <td>Madagascar</td>\n",
       "      <td>Madagascar</td>\n",
       "      <td>75%</td>\n",
       "      <td>331</td>\n",
       "      <td>2009</td>\n",
       "      <td>4.00</td>\n",
       "      <td>NaN</td>\n",
       "    </tr>\n",
       "    <tr>\n",
       "      <td>1274</td>\n",
       "      <td>Patric</td>\n",
       "      <td>U.S.A.</td>\n",
       "      <td>Trinitario</td>\n",
       "      <td>Madagascar</td>\n",
       "      <td>Madagascar</td>\n",
       "      <td>67%</td>\n",
       "      <td>439</td>\n",
       "      <td>2009</td>\n",
       "      <td>3.50</td>\n",
       "      <td>NaN</td>\n",
       "    </tr>\n",
       "    <tr>\n",
       "      <td>1276</td>\n",
       "      <td>Patric</td>\n",
       "      <td>U.S.A.</td>\n",
       "      <td>Trinitario</td>\n",
       "      <td>Madagascar</td>\n",
       "      <td>Madagascar</td>\n",
       "      <td>70%</td>\n",
       "      <td>196</td>\n",
       "      <td>2007</td>\n",
       "      <td>4.00</td>\n",
       "      <td>NaN</td>\n",
       "    </tr>\n",
       "    <tr>\n",
       "      <td>1358</td>\n",
       "      <td>Raaka</td>\n",
       "      <td>U.S.A.</td>\n",
       "      <td>Trinitario</td>\n",
       "      <td>Madagascar</td>\n",
       "      <td>Madagascar</td>\n",
       "      <td>75%</td>\n",
       "      <td>959</td>\n",
       "      <td>2012</td>\n",
       "      <td>3.25</td>\n",
       "      <td>NaN</td>\n",
       "    </tr>\n",
       "    <tr>\n",
       "      <td>1384</td>\n",
       "      <td>Robert (aka Chocolaterie Robert)</td>\n",
       "      <td>Madagascar</td>\n",
       "      <td>Trinitario</td>\n",
       "      <td>Madagascar</td>\n",
       "      <td>Madagascar</td>\n",
       "      <td>75%</td>\n",
       "      <td>1061</td>\n",
       "      <td>2013</td>\n",
       "      <td>3.25</td>\n",
       "      <td>NaN</td>\n",
       "    </tr>\n",
       "    <tr>\n",
       "      <td>1493</td>\n",
       "      <td>Snake &amp; Butterfly</td>\n",
       "      <td>U.S.A.</td>\n",
       "      <td>Trinitario</td>\n",
       "      <td>Madagascar</td>\n",
       "      <td>Madagascar</td>\n",
       "      <td>68%</td>\n",
       "      <td>502</td>\n",
       "      <td>2010</td>\n",
       "      <td>3.00</td>\n",
       "      <td>NaN</td>\n",
       "    </tr>\n",
       "    <tr>\n",
       "      <td>1496</td>\n",
       "      <td>Sol Cacao</td>\n",
       "      <td>U.S.A.</td>\n",
       "      <td>Trinitario</td>\n",
       "      <td>Madagascar</td>\n",
       "      <td>Madagascar</td>\n",
       "      <td>72%</td>\n",
       "      <td>1518</td>\n",
       "      <td>2015</td>\n",
       "      <td>3.00</td>\n",
       "      <td>NaN</td>\n",
       "    </tr>\n",
       "    <tr>\n",
       "      <td>1552</td>\n",
       "      <td>Soma</td>\n",
       "      <td>Canada</td>\n",
       "      <td>Criollo</td>\n",
       "      <td>Madagascar</td>\n",
       "      <td>Madagascar</td>\n",
       "      <td>70%</td>\n",
       "      <td>387</td>\n",
       "      <td>2009</td>\n",
       "      <td>3.75</td>\n",
       "      <td>NaN</td>\n",
       "    </tr>\n",
       "    <tr>\n",
       "      <td>1557</td>\n",
       "      <td>Soul</td>\n",
       "      <td>Canada</td>\n",
       "      <td>Unknown</td>\n",
       "      <td>Madagascar</td>\n",
       "      <td>Madagascar</td>\n",
       "      <td>70%</td>\n",
       "      <td>1936</td>\n",
       "      <td>2017</td>\n",
       "      <td>3.50</td>\n",
       "      <td>NaN</td>\n",
       "    </tr>\n",
       "    <tr>\n",
       "      <td>1646</td>\n",
       "      <td>Terroir</td>\n",
       "      <td>U.S.A.</td>\n",
       "      <td>Trinitario</td>\n",
       "      <td>Madagascar</td>\n",
       "      <td>Madagascar</td>\n",
       "      <td>70%</td>\n",
       "      <td>1478</td>\n",
       "      <td>2015</td>\n",
       "      <td>3.75</td>\n",
       "      <td>NaN</td>\n",
       "    </tr>\n",
       "    <tr>\n",
       "      <td>1651</td>\n",
       "      <td>Terroir</td>\n",
       "      <td>U.S.A.</td>\n",
       "      <td>Trinitario</td>\n",
       "      <td>Madagascar</td>\n",
       "      <td>Madagascar</td>\n",
       "      <td>67%</td>\n",
       "      <td>1323</td>\n",
       "      <td>2014</td>\n",
       "      <td>3.75</td>\n",
       "      <td>NaN</td>\n",
       "    </tr>\n",
       "    <tr>\n",
       "      <td>1655</td>\n",
       "      <td>Theo</td>\n",
       "      <td>U.S.A.</td>\n",
       "      <td>Trinitario</td>\n",
       "      <td>Madagascar</td>\n",
       "      <td>Madagascar</td>\n",
       "      <td>65%</td>\n",
       "      <td>162</td>\n",
       "      <td>2007</td>\n",
       "      <td>3.50</td>\n",
       "      <td>NaN</td>\n",
       "    </tr>\n",
       "    <tr>\n",
       "      <td>1671</td>\n",
       "      <td>twenty-four blackbirds</td>\n",
       "      <td>U.S.A.</td>\n",
       "      <td>Trinitario</td>\n",
       "      <td>Madagascar</td>\n",
       "      <td>Madagascar</td>\n",
       "      <td>75%</td>\n",
       "      <td>1235</td>\n",
       "      <td>2014</td>\n",
       "      <td>3.50</td>\n",
       "      <td>NaN</td>\n",
       "    </tr>\n",
       "    <tr>\n",
       "      <td>1705</td>\n",
       "      <td>Vao Vao (Chocolaterie Robert)</td>\n",
       "      <td>Madagascar</td>\n",
       "      <td>Trinitario</td>\n",
       "      <td>Madagascar</td>\n",
       "      <td>Madagascar</td>\n",
       "      <td>72%</td>\n",
       "      <td>404</td>\n",
       "      <td>2009</td>\n",
       "      <td>2.75</td>\n",
       "      <td>NaN</td>\n",
       "    </tr>\n",
       "    <tr>\n",
       "      <td>1706</td>\n",
       "      <td>Vao Vao (Chocolaterie Robert)</td>\n",
       "      <td>Madagascar</td>\n",
       "      <td>Trinitario</td>\n",
       "      <td>Madagascar</td>\n",
       "      <td>Madagascar</td>\n",
       "      <td>76%</td>\n",
       "      <td>404</td>\n",
       "      <td>2009</td>\n",
       "      <td>2.75</td>\n",
       "      <td>NaN</td>\n",
       "    </tr>\n",
       "    <tr>\n",
       "      <td>1707</td>\n",
       "      <td>Vao Vao (Chocolaterie Robert)</td>\n",
       "      <td>Madagascar</td>\n",
       "      <td>Trinitario</td>\n",
       "      <td>Madagascar</td>\n",
       "      <td>Madagascar</td>\n",
       "      <td>80%</td>\n",
       "      <td>404</td>\n",
       "      <td>2009</td>\n",
       "      <td>2.75</td>\n",
       "      <td>NaN</td>\n",
       "    </tr>\n",
       "    <tr>\n",
       "      <td>1708</td>\n",
       "      <td>Vao Vao (Chocolaterie Robert)</td>\n",
       "      <td>Madagascar</td>\n",
       "      <td>Trinitario</td>\n",
       "      <td>Madagascar</td>\n",
       "      <td>Madagascar</td>\n",
       "      <td>70%</td>\n",
       "      <td>404</td>\n",
       "      <td>2009</td>\n",
       "      <td>3.00</td>\n",
       "      <td>NaN</td>\n",
       "    </tr>\n",
       "    <tr>\n",
       "      <td>1710</td>\n",
       "      <td>Vao Vao (Chocolaterie Robert)</td>\n",
       "      <td>Madagascar</td>\n",
       "      <td>Trinitario</td>\n",
       "      <td>Madagascar</td>\n",
       "      <td>Madagascar</td>\n",
       "      <td>64%</td>\n",
       "      <td>404</td>\n",
       "      <td>2009</td>\n",
       "      <td>3.25</td>\n",
       "      <td>NaN</td>\n",
       "    </tr>\n",
       "  </tbody>\n",
       "</table>\n",
       "</div>"
      ],
      "text/plain": [
       "                               Company Company Location  \\\n",
       "11                            A. Morin           France   \n",
       "37                       Alain Ducasse           France   \n",
       "60                               Amano           U.S.A.   \n",
       "70                            Ambrosia           Canada   \n",
       "83                              Amedei            Italy   \n",
       "95                                 Ara           France   \n",
       "133                Artisan du Chocolat             U.K.   \n",
       "183                 Beschle (Felchlin)      Switzerland   \n",
       "220                       Blue Bandana           U.S.A.   \n",
       "244                             Bonnat           France   \n",
       "309                      Cacao Sampaka            Spain   \n",
       "317                        Cacao Store            Japan   \n",
       "390                         Chocola'te           U.S.A.   \n",
       "410                Chocolate Tree, The         Scotland   \n",
       "451                          Coppeneur          Germany   \n",
       "496                          Dandelion           U.S.A.   \n",
       "511                        Dark Forest           U.S.A.   \n",
       "523        Dean and Deluca (Belcolade)           U.S.A.   \n",
       "569                             Domori            Italy   \n",
       "595                             Durand           France   \n",
       "602                  East Van Roasters           Canada   \n",
       "668                  Frederic Blondeel          Belgium   \n",
       "740                  Green Bean to Bar            Japan   \n",
       "803                               hexx           U.S.A.   \n",
       "872                             Isidro           U.S.A.   \n",
       "879                             Jordis   Czech Republic   \n",
       "881                Just Good Chocolate           U.S.A.   \n",
       "916                               Kyya           U.S.A.   \n",
       "924            L.A. Burdick (Felchlin)           U.S.A.   \n",
       "968                              Lilla          Finland   \n",
       "990                Madecasse (Cinagra)       Madagascar   \n",
       "991                Madecasse (Cinagra)       Madagascar   \n",
       "992                Madecasse (Cinagra)       Madagascar   \n",
       "993                Madecasse (Cinagra)       Madagascar   \n",
       "1072                     Mast Brothers           U.S.A.   \n",
       "1100             Menakao (aka Cinagra)       Madagascar   \n",
       "1101             Menakao (aka Cinagra)       Madagascar   \n",
       "1171                     Nathan Miller           U.S.A.   \n",
       "1224                             Omnom          Iceland   \n",
       "1273                            Patric           U.S.A.   \n",
       "1274                            Patric           U.S.A.   \n",
       "1276                            Patric           U.S.A.   \n",
       "1358                             Raaka           U.S.A.   \n",
       "1384  Robert (aka Chocolaterie Robert)       Madagascar   \n",
       "1493                 Snake & Butterfly           U.S.A.   \n",
       "1496                         Sol Cacao           U.S.A.   \n",
       "1552                              Soma           Canada   \n",
       "1557                              Soul           Canada   \n",
       "1646                           Terroir           U.S.A.   \n",
       "1651                           Terroir           U.S.A.   \n",
       "1655                              Theo           U.S.A.   \n",
       "1671            twenty-four blackbirds           U.S.A.   \n",
       "1705     Vao Vao (Chocolaterie Robert)       Madagascar   \n",
       "1706     Vao Vao (Chocolaterie Robert)       Madagascar   \n",
       "1707     Vao Vao (Chocolaterie Robert)       Madagascar   \n",
       "1708     Vao Vao (Chocolaterie Robert)       Madagascar   \n",
       "1710     Vao Vao (Chocolaterie Robert)       Madagascar   \n",
       "\n",
       "                     Bean Type Specific Bean Origin Broad Bean Origin  \\\n",
       "11                     Criollo           Madagascar        Madagascar   \n",
       "37                  Trinitario           Madagascar        Madagascar   \n",
       "60                  Trinitario           Madagascar        Madagascar   \n",
       "70                  Trinitario           Madagascar        Madagascar   \n",
       "83    Trinitario (85% Criollo)           Madagascar        Madagascar   \n",
       "95                  Trinitario           Madagascar        Madagascar   \n",
       "133        Criollo, Trinitario           Madagascar        Madagascar   \n",
       "183                 Trinitario           Madagascar        Madagascar   \n",
       "220                 Trinitario           Madagascar        Madagascar   \n",
       "244                 Trinitario           Madagascar        Madagascar   \n",
       "309                 Trinitario           Madagascar        Madagascar   \n",
       "317                 Trinitario           Madagascar        Madagascar   \n",
       "390                 Trinitario           Madagascar        Madagascar   \n",
       "410                    Criollo           Madagascar        Madagascar   \n",
       "451                 Trinitario           Madagascar        Madagascar   \n",
       "496                 Trinitario           Madagascar        Madagascar   \n",
       "511                 Trinitario           Madagascar        Madagascar   \n",
       "523                 Trinitario           Madagascar        Madagascar   \n",
       "569                 Trinitario           Madagascar        Madagascar   \n",
       "595                 Trinitario           Madagascar        Madagascar   \n",
       "602                 Trinitario           Madagascar        Madagascar   \n",
       "668                 Trinitario           Madagascar        Madagascar   \n",
       "740                    Unknown           Madagascar        Madagascar   \n",
       "803                 Trinitario           Madagascar        Madagascar   \n",
       "872                 Trinitario           Madagascar        Madagascar   \n",
       "879                 Trinitario           Madagascar        Madagascar   \n",
       "881                 Trinitario           Madagascar        Madagascar   \n",
       "916                 Trinitario           Madagascar        Madagascar   \n",
       "924                 Trinitario           Madagascar        Madagascar   \n",
       "968                 Trinitario           Madagascar        Madagascar   \n",
       "990                 Trinitario           Madagascar        Madagascar   \n",
       "991                 Trinitario           Madagascar        Madagascar   \n",
       "992                 Trinitario           Madagascar        Madagascar   \n",
       "993                 Trinitario           Madagascar        Madagascar   \n",
       "1072                Trinitario           Madagascar               NaN   \n",
       "1100                Trinitario           Madagascar        Madagascar   \n",
       "1101                Trinitario           Madagascar        Madagascar   \n",
       "1171                Trinitario           Madagascar        Madagascar   \n",
       "1224                Trinitario           Madagascar        Madagascar   \n",
       "1273                Trinitario           Madagascar        Madagascar   \n",
       "1274                Trinitario           Madagascar        Madagascar   \n",
       "1276                Trinitario           Madagascar        Madagascar   \n",
       "1358                Trinitario           Madagascar        Madagascar   \n",
       "1384                Trinitario           Madagascar        Madagascar   \n",
       "1493                Trinitario           Madagascar        Madagascar   \n",
       "1496                Trinitario           Madagascar        Madagascar   \n",
       "1552                   Criollo           Madagascar        Madagascar   \n",
       "1557                   Unknown           Madagascar        Madagascar   \n",
       "1646                Trinitario           Madagascar        Madagascar   \n",
       "1651                Trinitario           Madagascar        Madagascar   \n",
       "1655                Trinitario           Madagascar        Madagascar   \n",
       "1671                Trinitario           Madagascar        Madagascar   \n",
       "1705                Trinitario           Madagascar        Madagascar   \n",
       "1706                Trinitario           Madagascar        Madagascar   \n",
       "1707                Trinitario           Madagascar        Madagascar   \n",
       "1708                Trinitario           Madagascar        Madagascar   \n",
       "1710                Trinitario           Madagascar        Madagascar   \n",
       "\n",
       "     Cocoa Percent   REF  Review Date  Rating Spesific Bean Origin  \n",
       "11             70%  1011         2013    3.00                  NaN  \n",
       "37             75%  1215         2014    3.00                  NaN  \n",
       "60             70%   129         2007    3.50                  NaN  \n",
       "70             66%  1494         2015    3.25                  NaN  \n",
       "83             70%   123         2007    4.00                  NaN  \n",
       "95             75%  1375         2014    3.00                  NaN  \n",
       "133            80%   363         2009    3.00                  NaN  \n",
       "183            64%   636         2011    3.00                  NaN  \n",
       "220            70%   911         2012    3.75                  NaN  \n",
       "244            75%    75         2006    4.00                  NaN  \n",
       "309            71%   508         2010    3.50                  NaN  \n",
       "317            70%  1684         2015    3.00                  NaN  \n",
       "390            70%   647         2011    3.75                  NaN  \n",
       "410            72%   919         2012    3.25                  NaN  \n",
       "451            70%   959         2012    3.50                  NaN  \n",
       "496            70%   654         2011    3.25                  NaN  \n",
       "511            70%  1550         2015    3.00                  NaN  \n",
       "523            66%   170         2007    2.50                  NaN  \n",
       "569            70%   135         2007    3.50                  NaN  \n",
       "595            82%   841         2012    2.75                  NaN  \n",
       "602            70%  1343         2014    3.50                  NaN  \n",
       "668            65%  1351         2014    3.50                  NaN  \n",
       "740            70%  1896         2016    3.50                  NaN  \n",
       "803            74%  1546         2015    3.00                  NaN  \n",
       "872            72%  1275         2014    3.50                  NaN  \n",
       "879            63%  1534         2015    2.75                  NaN  \n",
       "881            70%  1375         2014    3.50                  NaN  \n",
       "916          72.5%  1363         2014    3.00                  NaN  \n",
       "924            64%   431         2009    3.50                  NaN  \n",
       "968            70%  1856         2016    3.00                  NaN  \n",
       "990            67%   284         2008    3.50                  NaN  \n",
       "991            70%   284         2008    3.75                  NaN  \n",
       "992            63%   284         2008    4.00                  NaN  \n",
       "993            75%   288         2008    3.50                  NaN  \n",
       "1072           72%   999         2012    2.50                  NaN  \n",
       "1100           80%   837         2012    2.50                  NaN  \n",
       "1101           72%   841         2012    2.50                  NaN  \n",
       "1171         73.5%  1403         2014    2.50                  NaN  \n",
       "1224           66%  1247         2014    3.50                  NaN  \n",
       "1273           75%   331         2009    4.00                  NaN  \n",
       "1274           67%   439         2009    3.50                  NaN  \n",
       "1276           70%   196         2007    4.00                  NaN  \n",
       "1358           75%   959         2012    3.25                  NaN  \n",
       "1384           75%  1061         2013    3.25                  NaN  \n",
       "1493           68%   502         2010    3.00                  NaN  \n",
       "1496           72%  1518         2015    3.00                  NaN  \n",
       "1552           70%   387         2009    3.75                  NaN  \n",
       "1557           70%  1936         2017    3.50                  NaN  \n",
       "1646           70%  1478         2015    3.75                  NaN  \n",
       "1651           67%  1323         2014    3.75                  NaN  \n",
       "1655           65%   162         2007    3.50                  NaN  \n",
       "1671           75%  1235         2014    3.50                  NaN  \n",
       "1705           72%   404         2009    2.75                  NaN  \n",
       "1706           76%   404         2009    2.75                  NaN  \n",
       "1707           80%   404         2009    2.75                  NaN  \n",
       "1708           70%   404         2009    3.00                  NaN  \n",
       "1710           64%   404         2009    3.25                  NaN  "
      ]
     },
     "execution_count": 42,
     "metadata": {},
     "output_type": "execute_result"
    }
   ],
   "source": [
    "df[df['Specific Bean Origin'] == 'Madagascar']"
   ]
  },
  {
   "cell_type": "markdown",
   "metadata": {
    "id": "N2dcIgIqdr__"
   },
   "source": [
    "Quite a few! And they all have a 'Broad Bean Origin' of 'Madagascar', except for our one missing value. It is probably safe to just set the missing value to 'Madagascar' also."
   ]
  },
  {
   "cell_type": "code",
   "execution_count": 167,
   "metadata": {
    "id": "4QYJkAFOd8sn"
   },
   "outputs": [
    {
     "data": {
      "text/html": [
       "<div>\n",
       "<style scoped>\n",
       "    .dataframe tbody tr th:only-of-type {\n",
       "        vertical-align: middle;\n",
       "    }\n",
       "\n",
       "    .dataframe tbody tr th {\n",
       "        vertical-align: top;\n",
       "    }\n",
       "\n",
       "    .dataframe thead th {\n",
       "        text-align: right;\n",
       "    }\n",
       "</style>\n",
       "<table border=\"1\" class=\"dataframe\">\n",
       "  <thead>\n",
       "    <tr style=\"text-align: right;\">\n",
       "      <th></th>\n",
       "      <th>Company</th>\n",
       "      <th>Company Location</th>\n",
       "      <th>Bean Type</th>\n",
       "      <th>Specific Bean Origin</th>\n",
       "      <th>Broad Bean Origin</th>\n",
       "      <th>Cocoa Percent</th>\n",
       "      <th>REF</th>\n",
       "      <th>Review Date</th>\n",
       "      <th>Rating</th>\n",
       "    </tr>\n",
       "  </thead>\n",
       "  <tbody>\n",
       "  </tbody>\n",
       "</table>\n",
       "</div>"
      ],
      "text/plain": [
       "Empty DataFrame\n",
       "Columns: [Company, Company Location, Bean Type, Specific Bean Origin, Broad Bean Origin, Cocoa Percent, REF, Review Date, Rating]\n",
       "Index: []"
      ]
     },
     "execution_count": 167,
     "metadata": {},
     "output_type": "execute_result"
    }
   ],
   "source": [
    "df.loc[(df['Specific Bean Origin'] == 'Madagascar') &\n",
    "       (df['Broad Bean Origin'].isna()),\n",
    "       'Broad Bean Origin'] = 'Madagascar'\n",
    "\n",
    "df[df['Broad Bean Origin'].isna()]"
   ]
  },
  {
   "cell_type": "markdown",
   "metadata": {
    "id": "q9hd_1sUePTY"
   },
   "source": [
    "Now that we have all of the N/A values handled, let's see if we have an issue with spaces."
   ]
  },
  {
   "cell_type": "code",
   "execution_count": 168,
   "metadata": {
    "id": "fbeQTVRYeUpK"
   },
   "outputs": [
    {
     "data": {
      "text/html": [
       "<div>\n",
       "<style scoped>\n",
       "    .dataframe tbody tr th:only-of-type {\n",
       "        vertical-align: middle;\n",
       "    }\n",
       "\n",
       "    .dataframe tbody tr th {\n",
       "        vertical-align: top;\n",
       "    }\n",
       "\n",
       "    .dataframe thead th {\n",
       "        text-align: right;\n",
       "    }\n",
       "</style>\n",
       "<table border=\"1\" class=\"dataframe\">\n",
       "  <thead>\n",
       "    <tr style=\"text-align: right;\">\n",
       "      <th></th>\n",
       "      <th>Company</th>\n",
       "      <th>Company Location</th>\n",
       "      <th>Bean Type</th>\n",
       "      <th>Specific Bean Origin</th>\n",
       "      <th>Broad Bean Origin</th>\n",
       "      <th>Cocoa Percent</th>\n",
       "      <th>REF</th>\n",
       "      <th>Review Date</th>\n",
       "      <th>Rating</th>\n",
       "    </tr>\n",
       "  </thead>\n",
       "  <tbody>\n",
       "  </tbody>\n",
       "</table>\n",
       "</div>"
      ],
      "text/plain": [
       "Empty DataFrame\n",
       "Columns: [Company, Company Location, Bean Type, Specific Bean Origin, Broad Bean Origin, Cocoa Percent, REF, Review Date, Rating]\n",
       "Index: []"
      ]
     },
     "execution_count": 168,
     "metadata": {},
     "output_type": "execute_result"
    }
   ],
   "source": [
    "df[df['Broad Bean Origin'].apply(lambda x: x.strip()).str.len() == 0]"
   ]
  },
  {
   "cell_type": "markdown",
   "metadata": {
    "id": "aH6kvNxEeb3T"
   },
   "source": [
    "There are spaces in 73 rows of the data. Let's see what those space values are."
   ]
  },
  {
   "cell_type": "code",
   "execution_count": 45,
   "metadata": {
    "id": "GNT-nh6sehTp"
   },
   "outputs": [
    {
     "name": "stdout",
     "output_type": "stream",
     "text": [
      "0xa0\n"
     ]
    }
   ],
   "source": [
    "spaces_df = df[df['Broad Bean Origin'].apply(\n",
    "    lambda x: x.strip()).str.len() == 0]\n",
    "\n",
    "for space in spaces_df['Broad Bean Origin'].unique():\n",
    "  print(\", \".join(\"0x{:02x}\".format(ord(c)) for c in space))"
   ]
  },
  {
   "cell_type": "markdown",
   "metadata": {
    "id": "DHekK-OUe9sm"
   },
   "source": [
    "It is that pesky `0xa0` again.\n",
    "\n",
    "We can fix this by replacing all of the `0xa0` values with 'Unknown'. However, an even better fix would be if we could find similar chocolates with the same 'Specific Bean Origin' and then derive the 'Broad Bean Origin' from that.\n",
    "\n",
    "Let's see if it is even possible. To do that we can find all of the 'Specific Bean Origin' values for rows with 'Broad Bean Origin' and those without. Then we can use `pd.merge()` to combine the two. If you remember, `pd.merge()` returns only the values which appear in both of the given Series. This means that the return value will show us which values appear both in columns with 'Broad Bean Origin' values and those without."
   ]
  },
  {
   "cell_type": "code",
   "execution_count": 46,
   "metadata": {
    "id": "3QFKBDMMr-kz"
   },
   "outputs": [
    {
     "data": {
      "text/html": [
       "<div>\n",
       "<style scoped>\n",
       "    .dataframe tbody tr th:only-of-type {\n",
       "        vertical-align: middle;\n",
       "    }\n",
       "\n",
       "    .dataframe tbody tr th {\n",
       "        vertical-align: top;\n",
       "    }\n",
       "\n",
       "    .dataframe thead th {\n",
       "        text-align: right;\n",
       "    }\n",
       "</style>\n",
       "<table border=\"1\" class=\"dataframe\">\n",
       "  <thead>\n",
       "    <tr style=\"text-align: right;\">\n",
       "      <th></th>\n",
       "      <th>Specific Bean Origin</th>\n",
       "    </tr>\n",
       "  </thead>\n",
       "  <tbody>\n",
       "    <tr>\n",
       "      <td>0</td>\n",
       "      <td>Signature Blend</td>\n",
       "    </tr>\n",
       "    <tr>\n",
       "      <td>1</td>\n",
       "      <td>Blend</td>\n",
       "    </tr>\n",
       "    <tr>\n",
       "      <td>2</td>\n",
       "      <td>Blend</td>\n",
       "    </tr>\n",
       "    <tr>\n",
       "      <td>3</td>\n",
       "      <td>Blend</td>\n",
       "    </tr>\n",
       "    <tr>\n",
       "      <td>4</td>\n",
       "      <td>Amazonas</td>\n",
       "    </tr>\n",
       "    <tr>\n",
       "      <td>5</td>\n",
       "      <td>Amazonas</td>\n",
       "    </tr>\n",
       "    <tr>\n",
       "      <td>6</td>\n",
       "      <td>Amazonas</td>\n",
       "    </tr>\n",
       "    <tr>\n",
       "      <td>7</td>\n",
       "      <td>Amazonas</td>\n",
       "    </tr>\n",
       "    <tr>\n",
       "      <td>8</td>\n",
       "      <td>Dark</td>\n",
       "    </tr>\n",
       "    <tr>\n",
       "      <td>9</td>\n",
       "      <td>Dark</td>\n",
       "    </tr>\n",
       "    <tr>\n",
       "      <td>10</td>\n",
       "      <td>Dark</td>\n",
       "    </tr>\n",
       "    <tr>\n",
       "      <td>11</td>\n",
       "      <td>Dark</td>\n",
       "    </tr>\n",
       "    <tr>\n",
       "      <td>12</td>\n",
       "      <td>Raw</td>\n",
       "    </tr>\n",
       "    <tr>\n",
       "      <td>13</td>\n",
       "      <td>Raw</td>\n",
       "    </tr>\n",
       "    <tr>\n",
       "      <td>14</td>\n",
       "      <td>Raw</td>\n",
       "    </tr>\n",
       "    <tr>\n",
       "      <td>15</td>\n",
       "      <td>Raw</td>\n",
       "    </tr>\n",
       "    <tr>\n",
       "      <td>16</td>\n",
       "      <td>Orinoco</td>\n",
       "    </tr>\n",
       "  </tbody>\n",
       "</table>\n",
       "</div>"
      ],
      "text/plain": [
       "   Specific Bean Origin\n",
       "0       Signature Blend\n",
       "1                 Blend\n",
       "2                 Blend\n",
       "3                 Blend\n",
       "4              Amazonas\n",
       "5              Amazonas\n",
       "6              Amazonas\n",
       "7              Amazonas\n",
       "8                  Dark\n",
       "9                  Dark\n",
       "10                 Dark\n",
       "11                 Dark\n",
       "12                  Raw\n",
       "13                  Raw\n",
       "14                  Raw\n",
       "15                  Raw\n",
       "16              Orinoco"
      ]
     },
     "execution_count": 46,
     "metadata": {},
     "output_type": "execute_result"
    }
   ],
   "source": [
    "has_bbo_idx = df['Broad Bean Origin'].apply(lambda x: x.strip()).str.len() > 0\n",
    "\n",
    "sbo_bbo = df[has_bbo_idx]['Specific Bean Origin']\n",
    "sbo_no_bbo = df[~has_bbo_idx]['Specific Bean Origin']\n",
    "\n",
    "pd.merge(sbo_bbo, sbo_no_bbo)"
   ]
  },
  {
   "cell_type": "markdown",
   "metadata": {
    "id": "pv2qhp-stnDK"
   },
   "source": [
    "We have overlap, which is good. In theory, we could use the 'Broad Bean Origin' values from bars that *have* that value to fill in the 'Broad Bean Origin' for bars from the same specific region that *don't have* it.\n",
    "\n",
    "But look closely at those 'Specific Bean Origin' values. Dark? Raw? Blend?\n",
    "\n",
    "Those are specific origins. The only two origins that seem even close to regions are 'Amazonas' and 'Orinoco'. Let's look closer at the data for those regions."
   ]
  },
  {
   "cell_type": "code",
   "execution_count": 80,
   "metadata": {
    "id": "E4Rwap-emG7I"
   },
   "outputs": [
    {
     "data": {
      "text/html": [
       "<div>\n",
       "<style scoped>\n",
       "    .dataframe tbody tr th:only-of-type {\n",
       "        vertical-align: middle;\n",
       "    }\n",
       "\n",
       "    .dataframe tbody tr th {\n",
       "        vertical-align: top;\n",
       "    }\n",
       "\n",
       "    .dataframe thead th {\n",
       "        text-align: right;\n",
       "    }\n",
       "</style>\n",
       "<table border=\"1\" class=\"dataframe\">\n",
       "  <thead>\n",
       "    <tr style=\"text-align: right;\">\n",
       "      <th></th>\n",
       "      <th>Company</th>\n",
       "      <th>Company Location</th>\n",
       "      <th>Bean Type</th>\n",
       "      <th>Specific Bean Origin</th>\n",
       "      <th>Broad Bean Origin</th>\n",
       "      <th>Cocoa Percent</th>\n",
       "      <th>REF</th>\n",
       "      <th>Review Date</th>\n",
       "      <th>Rating</th>\n",
       "      <th>Spesific Bean Origin</th>\n",
       "    </tr>\n",
       "  </thead>\n",
       "  <tbody>\n",
       "    <tr>\n",
       "      <td>777</td>\n",
       "      <td>Habitual</td>\n",
       "      <td>Canada</td>\n",
       "      <td>Unknown</td>\n",
       "      <td>Amazonas</td>\n",
       "      <td>Unknown</td>\n",
       "      <td>80.0</td>\n",
       "      <td>1201</td>\n",
       "      <td>2014</td>\n",
       "      <td>3.00</td>\n",
       "      <td>NaN</td>\n",
       "    </tr>\n",
       "    <tr>\n",
       "      <td>855</td>\n",
       "      <td>Hummingbird</td>\n",
       "      <td>Canada</td>\n",
       "      <td>Forastero</td>\n",
       "      <td>Amazonas</td>\n",
       "      <td>Venezuela</td>\n",
       "      <td>70.0</td>\n",
       "      <td>1097</td>\n",
       "      <td>2013</td>\n",
       "      <td>3.75</td>\n",
       "      <td>NaN</td>\n",
       "    </tr>\n",
       "    <tr>\n",
       "      <td>938</td>\n",
       "      <td>La Maison du Chocolat (Valrhona)</td>\n",
       "      <td>France</td>\n",
       "      <td>Unknown</td>\n",
       "      <td>Orinoco</td>\n",
       "      <td>Unknown</td>\n",
       "      <td>60.0</td>\n",
       "      <td>445</td>\n",
       "      <td>2009</td>\n",
       "      <td>3.75</td>\n",
       "      <td>NaN</td>\n",
       "    </tr>\n",
       "    <tr>\n",
       "      <td>1503</td>\n",
       "      <td>Solstice</td>\n",
       "      <td>U.S.A.</td>\n",
       "      <td>Unknown</td>\n",
       "      <td>Amazonas</td>\n",
       "      <td>Venezuela</td>\n",
       "      <td>70.0</td>\n",
       "      <td>1157</td>\n",
       "      <td>2013</td>\n",
       "      <td>3.00</td>\n",
       "      <td>NaN</td>\n",
       "    </tr>\n",
       "    <tr>\n",
       "      <td>1531</td>\n",
       "      <td>Soma</td>\n",
       "      <td>Canada</td>\n",
       "      <td>Forastero</td>\n",
       "      <td>Orinoco</td>\n",
       "      <td>Venezuela</td>\n",
       "      <td>70.0</td>\n",
       "      <td>1173</td>\n",
       "      <td>2013</td>\n",
       "      <td>3.25</td>\n",
       "      <td>NaN</td>\n",
       "    </tr>\n",
       "    <tr>\n",
       "      <td>1735</td>\n",
       "      <td>Wilkie's Organic</td>\n",
       "      <td>Ireland</td>\n",
       "      <td>Criollo</td>\n",
       "      <td>Amazonas</td>\n",
       "      <td>Peru</td>\n",
       "      <td>75.0</td>\n",
       "      <td>1169</td>\n",
       "      <td>2013</td>\n",
       "      <td>2.50</td>\n",
       "      <td>NaN</td>\n",
       "    </tr>\n",
       "    <tr>\n",
       "      <td>1736</td>\n",
       "      <td>Wilkie's Organic</td>\n",
       "      <td>Ireland</td>\n",
       "      <td>Criollo</td>\n",
       "      <td>Amazonas</td>\n",
       "      <td>Peru</td>\n",
       "      <td>89.0</td>\n",
       "      <td>1169</td>\n",
       "      <td>2013</td>\n",
       "      <td>2.75</td>\n",
       "      <td>NaN</td>\n",
       "    </tr>\n",
       "  </tbody>\n",
       "</table>\n",
       "</div>"
      ],
      "text/plain": [
       "                               Company Company Location  Bean Type  \\\n",
       "777                           Habitual           Canada    Unknown   \n",
       "855                        Hummingbird           Canada  Forastero   \n",
       "938   La Maison du Chocolat (Valrhona)           France    Unknown   \n",
       "1503                          Solstice           U.S.A.    Unknown   \n",
       "1531                              Soma           Canada  Forastero   \n",
       "1735                  Wilkie's Organic          Ireland    Criollo   \n",
       "1736                  Wilkie's Organic          Ireland    Criollo   \n",
       "\n",
       "     Specific Bean Origin Broad Bean Origin  Cocoa Percent   REF  Review Date  \\\n",
       "777              Amazonas           Unknown           80.0  1201         2014   \n",
       "855              Amazonas         Venezuela           70.0  1097         2013   \n",
       "938               Orinoco           Unknown           60.0   445         2009   \n",
       "1503             Amazonas         Venezuela           70.0  1157         2013   \n",
       "1531              Orinoco         Venezuela           70.0  1173         2013   \n",
       "1735             Amazonas              Peru           75.0  1169         2013   \n",
       "1736             Amazonas              Peru           89.0  1169         2013   \n",
       "\n",
       "      Rating Spesific Bean Origin  \n",
       "777     3.00                  NaN  \n",
       "855     3.75                  NaN  \n",
       "938     3.75                  NaN  \n",
       "1503    3.00                  NaN  \n",
       "1531    3.25                  NaN  \n",
       "1735    2.50                  NaN  \n",
       "1736    2.75                  NaN  "
      ]
     },
     "execution_count": 80,
     "metadata": {},
     "output_type": "execute_result"
    }
   ],
   "source": [
    "df[(df['Specific Bean Origin'] == 'Orinoco') | \n",
    "   (df['Specific Bean Origin'] == 'Amazonas')]"
   ]
  },
  {
   "cell_type": "markdown",
   "metadata": {
    "id": "OLd2P63Cur58"
   },
   "source": [
    "Yuck! Amazonas turns out to be a very common location. There are states called Amazonas in Brazil, Venezuela, and Peru. Orinoco is a river that runs through both Venezuela and Columbia.\n",
    "\n",
    "In neither case do we have definitive data to make the call about the 'Broad Bean Origin' for these rows.\n",
    "\n",
    "Unfortunately that is how it goes when working with data. You get imperfect data into your system, and then you try to research and find the best fix. But you sometimes just have to accept that you are missing data."
   ]
  },
  {
   "cell_type": "markdown",
   "metadata": {
    "id": "rp4vPDsrvXOd"
   },
   "source": [
    "#### Exercise 6: Unknown Broad Bean Origins\n",
    "\n",
    "We have a few 'Broad Bean Origin' values of `0xa0`. Change those values to the literal string 'Unknown'."
   ]
  },
  {
   "cell_type": "markdown",
   "metadata": {
    "id": "Am8-XSgUvnTV"
   },
   "source": [
    "**Student Solution**"
   ]
  },
  {
   "cell_type": "code",
   "execution_count": 166,
   "metadata": {
    "id": "w-1nztOJvqU0"
   },
   "outputs": [],
   "source": [
    "# Your Code Goes Here\n",
    "\n",
    "df.loc[df['Broad Bean Origin'] == chr(0xa0), 'Broad Bean Origin'] = 'Unknown'\n",
    "#df[df['Broad Bean Origin'].apply(lambda x: x.strip()).str.len() == 0]\n"
   ]
  },
  {
   "cell_type": "markdown",
   "metadata": {
    "id": "eTGo8qRPvpTY"
   },
   "source": [
    "---"
   ]
  },
  {
   "cell_type": "markdown",
   "metadata": {
    "id": "u62i8AyedjYS"
   },
   "source": [
    "### Column: Cocoa Percent"
   ]
  },
  {
   "cell_type": "markdown",
   "metadata": {
    "id": "R9yoBTgVn2FC"
   },
   "source": [
    "Next we will check out the 'Cocoa Percent' column. Remember that 'Cocoa Percent' is \"*Cocoa percentage (darkness) of the chocolate bar*.\"\n",
    "\n",
    "As usual, we'll first see if there is any missing data:"
   ]
  },
  {
   "cell_type": "code",
   "execution_count": 169,
   "metadata": {
    "id": "yf9ZR67MO2On"
   },
   "outputs": [
    {
     "data": {
      "text/plain": [
       "False"
      ]
     },
     "execution_count": 169,
     "metadata": {},
     "output_type": "execute_result"
    }
   ],
   "source": [
    "df['Cocoa Percent'].isna().any()\n"
   ]
  },
  {
   "cell_type": "markdown",
   "metadata": {
    "id": "obWQn5v_O6Y8"
   },
   "source": [
    "Nothing missing. Great!\n",
    "\n",
    "Next, we should probably check to make sure that the percentages fall within a valid range: 0-100 or 0.0-1.0. You might recall that 'Cocoa Percent' isn't actually a numeric column, though, so we can't easily find the range. If we sample the data, we see that it looks like percentages from 0 to 100, but they are stored as strings with '%' symbols appended."
   ]
  },
  {
   "cell_type": "code",
   "execution_count": 170,
   "metadata": {
    "id": "PpefxWtCPSLg"
   },
   "outputs": [
    {
     "data": {
      "text/plain": [
       "1648    70%\n",
       "326     70%\n",
       "760     70%\n",
       "1682    63%\n",
       "672     68%\n",
       "1100    80%\n",
       "1343    75%\n",
       "1459    67%\n",
       "811     80%\n",
       "493     70%\n",
       "Name: Cocoa Percent, dtype: object"
      ]
     },
     "execution_count": 170,
     "metadata": {},
     "output_type": "execute_result"
    }
   ],
   "source": [
    "df['Cocoa Percent'].sample(10)"
   ]
  },
  {
   "cell_type": "markdown",
   "metadata": {
    "id": "0pM0VQeZPw7K"
   },
   "source": [
    "We need to remove those percentage signs and convert the digits that remain into numbers. There are a few ways that we can accomplish this.\n",
    "\n",
    "One is to apply a lambda to each value. The lambda can slice all but the last character of each value and then convert it to a float using core Python syntax."
   ]
  },
  {
   "cell_type": "code",
   "execution_count": 171,
   "metadata": {
    "id": "0Ck7RSOBP4eV"
   },
   "outputs": [
    {
     "data": {
      "text/plain": [
       "0       63.0\n",
       "1       70.0\n",
       "2       70.0\n",
       "3       70.0\n",
       "4       70.0\n",
       "        ... \n",
       "1790    70.0\n",
       "1791    65.0\n",
       "1792    65.0\n",
       "1793    62.0\n",
       "1794    65.0\n",
       "Name: Cocoa Percent, Length: 1795, dtype: float64"
      ]
     },
     "execution_count": 171,
     "metadata": {},
     "output_type": "execute_result"
    }
   ],
   "source": [
    "df['Cocoa Percent'].apply(lambda s: float(s[:-1]))\n"
   ]
  },
  {
   "cell_type": "markdown",
   "metadata": {
    "id": "xbgR_ICHRGxA"
   },
   "source": [
    "An alternative is to use `.str.strip('%')` on the `Series` to remove the percentage sign and then pass the resultant `Series` to `pd.to_numeric()` in order to convert the string values to numbers."
   ]
  },
  {
   "cell_type": "code",
   "execution_count": 172,
   "metadata": {
    "id": "73zhUkgbPRL_"
   },
   "outputs": [
    {
     "data": {
      "text/plain": [
       "0       63.0\n",
       "1       70.0\n",
       "2       70.0\n",
       "3       70.0\n",
       "4       70.0\n",
       "        ... \n",
       "1790    70.0\n",
       "1791    65.0\n",
       "1792    65.0\n",
       "1793    62.0\n",
       "1794    65.0\n",
       "Name: Cocoa Percent, Length: 1795, dtype: float64"
      ]
     },
     "execution_count": 172,
     "metadata": {},
     "output_type": "execute_result"
    }
   ],
   "source": [
    "pd.to_numeric(df['Cocoa Percent'].str.strip('%'))"
   ]
  },
  {
   "cell_type": "markdown",
   "metadata": {
    "id": "DEka63nyRWLG"
   },
   "source": [
    "Is one way better than the other? Not necessarily. Feel free to choose whichever feels more natural to you.\n",
    "\n",
    "Either way, we need to do the conversion and save the new values to 'Cocoa Percent'."
   ]
  },
  {
   "cell_type": "code",
   "execution_count": 173,
   "metadata": {
    "id": "PDHkS3d_Rpyq"
   },
   "outputs": [
    {
     "data": {
      "text/plain": [
       "count    1795.000000\n",
       "mean       71.698329\n",
       "std         6.323118\n",
       "min        42.000000\n",
       "25%        70.000000\n",
       "50%        70.000000\n",
       "75%        75.000000\n",
       "max       100.000000\n",
       "Name: Cocoa Percent, dtype: float64"
      ]
     },
     "execution_count": 173,
     "metadata": {},
     "output_type": "execute_result"
    }
   ],
   "source": [
    "df['Cocoa Percent'] = df['Cocoa Percent'].apply(lambda s: float(s[:-1]))\n",
    "df['Cocoa Percent'].describe()"
   ]
  },
  {
   "cell_type": "markdown",
   "metadata": {
    "id": "K0v69PWOmpBp"
   },
   "source": [
    "We have now converted our 'Cocoa Percent' column from a string to a floating point number. We can see in the output of the call to `describe()` that the minimum cocoa percentage that we have is 42% and that the maximum is 100%. Both seem like reasonable values for cocoa content in a chocolate bar, so our work here is done."
   ]
  },
  {
   "cell_type": "markdown",
   "metadata": {
    "id": "tdmZTO2KTexy"
   },
   "source": [
    "### Column: REF"
   ]
  },
  {
   "cell_type": "markdown",
   "metadata": {
    "id": "OTwhzLEZTyi8"
   },
   "source": [
    "The 'REF' column is \"*A value linked to when the review was entered in the database. Higher = more recent*.\" Let's take a look at it.\n",
    "\n",
    "As always, we should check and see if there are any values missing."
   ]
  },
  {
   "cell_type": "code",
   "execution_count": 174,
   "metadata": {
    "id": "1wHAtxeCVAqD"
   },
   "outputs": [
    {
     "data": {
      "text/plain": [
       "False"
      ]
     },
     "execution_count": 174,
     "metadata": {},
     "output_type": "execute_result"
    }
   ],
   "source": [
    "df['REF'].isna().any()"
   ]
  },
  {
   "cell_type": "markdown",
   "metadata": {
    "id": "ecfkqlT8VRcY"
   },
   "source": [
    "We can `describe()` the data to see some basic statistics about it."
   ]
  },
  {
   "cell_type": "code",
   "execution_count": 175,
   "metadata": {
    "id": "Qknt0ahdVH4W"
   },
   "outputs": [
    {
     "data": {
      "text/plain": [
       "count    1795.000000\n",
       "mean     1035.904735\n",
       "std       552.886365\n",
       "min         5.000000\n",
       "25%       576.000000\n",
       "50%      1069.000000\n",
       "75%      1502.000000\n",
       "max      1952.000000\n",
       "Name: REF, dtype: float64"
      ]
     },
     "execution_count": 175,
     "metadata": {},
     "output_type": "execute_result"
    }
   ],
   "source": [
    "df['REF'].describe()"
   ]
  },
  {
   "cell_type": "markdown",
   "metadata": {
    "id": "0tufVwglVVwY"
   },
   "source": [
    "Here we can see that the data ranges from 5 through 1952 and that the mean is pretty high.\n",
    "\n",
    "Are the values unique?"
   ]
  },
  {
   "cell_type": "code",
   "execution_count": 176,
   "metadata": {
    "id": "i-6iGJD0VyBf"
   },
   "outputs": [
    {
     "data": {
      "text/plain": [
       "440"
      ]
     },
     "execution_count": 176,
     "metadata": {},
     "output_type": "execute_result"
    }
   ],
   "source": [
    "df['REF'].unique().size"
   ]
  },
  {
   "cell_type": "markdown",
   "metadata": {
    "id": "b0W32mH0WP8u"
   },
   "source": [
    "Not unique. So 'REF' isn't a unique identifier for our rows of data."
   ]
  },
  {
   "cell_type": "markdown",
   "metadata": {
    "id": "s2qh6_MGWdQ4"
   },
   "source": [
    "There isn't much more that we can do with this column. We might want to visualize it to see if we can find any meaning. The numbers themselves aren't particularly interesting, but the quantity of each number might be. Let's find and plot the count of each 'REF'."
   ]
  },
  {
   "cell_type": "code",
   "execution_count": 177,
   "metadata": {
    "id": "b9zw2eTHWxJB"
   },
   "outputs": [
    {
     "data": {
      "image/png": "[encoded data removed]",
      "text/plain": [
       "<Figure size 1440x720 with 1 Axes>"
      ]
     },
     "metadata": {
      "needs_background": "light"
     },
     "output_type": "display_data"
    }
   ],
   "source": [
    "import matplotlib.pyplot as plt\n",
    "\n",
    "ref_counts = df['REF'].groupby(df['REF']).count()\n",
    "plt.figure(figsize=(20,10))\n",
    "plt.bar(ref_counts.index.values, ref_counts)\n",
    "plt.show()"
   ]
  },
  {
   "cell_type": "markdown",
   "metadata": {
    "id": "_j-xZZC_XcY7"
   },
   "source": [
    "From this chart we can see that 'REF' values repeat between 1 and 9 times with 4 being the most common. Overall, there isn't much interesting data or data repair for this column."
   ]
  },
  {
   "cell_type": "markdown",
   "metadata": {
    "id": "ceaB_NaubW1x"
   },
   "source": [
    "### Column: Review Date"
   ]
  },
  {
   "cell_type": "markdown",
   "metadata": {
    "id": "nOgnWofebcQx"
   },
   "source": [
    "Review date is the date that the review for a given row was actually published. It is a numeric column.\n",
    "\n",
    "First, let's see if any data is missing."
   ]
  },
  {
   "cell_type": "code",
   "execution_count": 178,
   "metadata": {
    "id": "Bx71DI97brba"
   },
   "outputs": [
    {
     "data": {
      "text/plain": [
       "False"
      ]
     },
     "execution_count": 178,
     "metadata": {},
     "output_type": "execute_result"
    }
   ],
   "source": [
    "df['Review Date'].isna().any()"
   ]
  },
  {
   "cell_type": "markdown",
   "metadata": {
    "id": "357tRDRpb1v3"
   },
   "source": [
    "No missing data. Good.\n",
    "\n",
    "Now we can check some basic statistics about the data."
   ]
  },
  {
   "cell_type": "code",
   "execution_count": 179,
   "metadata": {
    "id": "nTjNEeYub6np"
   },
   "outputs": [
    {
     "data": {
      "text/plain": [
       "count    1795.000000\n",
       "mean     2012.325348\n",
       "std         2.927210\n",
       "min      2006.000000\n",
       "25%      2010.000000\n",
       "50%      2013.000000\n",
       "75%      2015.000000\n",
       "max      2017.000000\n",
       "Name: Review Date, dtype: float64"
      ]
     },
     "execution_count": 179,
     "metadata": {},
     "output_type": "execute_result"
    }
   ],
   "source": [
    "df['Review Date'].describe()"
   ]
  },
  {
   "cell_type": "markdown",
   "metadata": {
    "id": "e8t6UURbb9QW"
   },
   "source": [
    "We can see publication dates ranging from 2006 through 2017, which seems like reasonable years. If we had seen dates from the 1800s or the future, we should be worried. This range seems well within reason, though.\n",
    "\n",
    "There isn't much else that we need to do for this column. Since we only have a few years when reviews were posted, we can create a visualization showing how many reviews were posted each year."
   ]
  },
  {
   "cell_type": "markdown",
   "metadata": {
    "id": "ftNn3yb5cj2e"
   },
   "source": [
    "#### Exercise 7: Reviews Per Year\n",
    "\n",
    "Create a visualization that shows the number of reviews that were created each year."
   ]
  },
  {
   "cell_type": "markdown",
   "metadata": {
    "id": "h9b2S5Dkct1w"
   },
   "source": [
    "**Student Solution**"
   ]
  },
  {
   "cell_type": "code",
   "execution_count": 183,
   "metadata": {
    "id": "YGsp-igoczGx"
   },
   "outputs": [
    {
     "data": {
      "text/plain": [
       "<matplotlib.axes._subplots.AxesSubplot at 0x127a5d890>"
      ]
     },
     "execution_count": 183,
     "metadata": {},
     "output_type": "execute_result"
    },
    {
     "data": {
      "image/png": "[encoded data removed]",
      "text/plain": [
       "<Figure size 432x288 with 1 Axes>"
      ]
     },
     "metadata": {
      "needs_background": "light"
     },
     "output_type": "display_data"
    }
   ],
   "source": [
    "# Reviews Per Year Visualization\n",
    "df['Review Date'].hist()"
   ]
  },
  {
   "cell_type": "markdown",
   "metadata": {
    "id": "T-or1La-c6y7"
   },
   "source": [
    "---"
   ]
  },
  {
   "cell_type": "markdown",
   "metadata": {
    "id": "mX_nMXjMdrVT"
   },
   "source": [
    "### Column: Rating"
   ]
  },
  {
   "cell_type": "markdown",
   "metadata": {
    "id": "k_GIPUeC08Gz"
   },
   "source": [
    "We have now made it to the rating column. The rating is the \"*expert rating for the bar*.\"  From the [documentation](https://www.kaggle.com/rtatman/chocolate-bar-ratings), the possible ratings are:\n",
    "\n",
    "Rating | Meaning\n",
    "-------|---------\n",
    "5 | Elite (Transcending beyond the ordinary limits)\n",
    "4 | Premium (Superior flavor development, character and style)\n",
    "3 | Satisfactory (3.0) to praiseworthy(3.75) (well made with special qualities)\n",
    "2 | Disappointing (Passable but contains at least one significant flaw)\n",
    "1 | Unpleasant (mostly unpalatable)\n",
    "\n",
    "Let's take a look at ratings. First off, are any missing?"
   ]
  },
  {
   "cell_type": "code",
   "execution_count": 184,
   "metadata": {
    "id": "mbpdYmLt3vam"
   },
   "outputs": [
    {
     "data": {
      "text/plain": [
       "False"
      ]
     },
     "execution_count": 184,
     "metadata": {},
     "output_type": "execute_result"
    }
   ],
   "source": [
    "df['Rating'].isna().any()"
   ]
  },
  {
   "cell_type": "markdown",
   "metadata": {
    "id": "Vgj0-juX30CC"
   },
   "source": [
    "Nothing missing. Let's describe the column of data."
   ]
  },
  {
   "cell_type": "code",
   "execution_count": 185,
   "metadata": {
    "id": "ux0NkE4X33A-"
   },
   "outputs": [
    {
     "data": {
      "text/plain": [
       "count    1795.000000\n",
       "mean        3.185933\n",
       "std         0.478062\n",
       "min         1.000000\n",
       "25%         2.875000\n",
       "50%         3.250000\n",
       "75%         3.500000\n",
       "max         5.000000\n",
       "Name: Rating, dtype: float64"
      ]
     },
     "execution_count": 185,
     "metadata": {},
     "output_type": "execute_result"
    }
   ],
   "source": [
    "df['Rating'].describe()"
   ]
  },
  {
   "cell_type": "markdown",
   "metadata": {
    "id": "I8bbhS454MRY"
   },
   "source": [
    "It looks like our ratings are indeed floating point values and that they range from 1.0 to 5.0. But are they really continuous?"
   ]
  },
  {
   "cell_type": "code",
   "execution_count": 63,
   "metadata": {
    "id": "M8Sh68jo4TPO"
   },
   "outputs": [
    {
     "data": {
      "text/plain": [
       "[1.0, 1.5, 1.75, 2.0, 2.25, 2.5, 2.75, 3.0, 3.25, 3.5, 3.75, 4.0, 5.0]"
      ]
     },
     "execution_count": 63,
     "metadata": {},
     "output_type": "execute_result"
    }
   ],
   "source": [
    "sorted(df['Rating'].unique())"
   ]
  },
  {
   "cell_type": "markdown",
   "metadata": {
    "id": "06Xu3zAoyI1R"
   },
   "source": [
    "Interestingly enough, the values don't seem to be continuous, but instead seem to be divided into quarters. Instead of infinite possible values between 1.0 and 5.0, we really have 17 possible values: 1.0, 1.25, 1.5, 1.75, 2.0, 2.25, 2.5, 2.75, 3.0, 3.25, 3.5, 3.75, 4.0, 4.25, 4.5, 4.75, 5.0.\n",
    "\n",
    "What does this mean for us?\n",
    "\n",
    "It means that downstream we might be able to use a regression or categorical model in order to predict these values.\n",
    "\n",
    "If we think about the ratings numbers, their relative position matters. For example, a 4.0 chocolate is better than a 2.0 chocolate. But does the magnitude matter? Is a 4.0 chocolate twice as good as a 2.0 chocolate? What does that even mean?\n",
    "\n",
    "Let's set our modelers up for success and create a new column that they can use to potentially build models for our data."
   ]
  },
  {
   "cell_type": "markdown",
   "metadata": {
    "id": "31Ca5wI4zqA_"
   },
   "source": [
    "#### Exercise 8: Ratings as Categories\n",
    "\n",
    "In this exercise we are going to create a new column called 'Grade'. Grade is a categorical rating system that maps the following ratings to grades:\n",
    "\n",
    "Rating | Grade\n",
    "-------|------\n",
    "5.00   | A\n",
    "4.75   | B\n",
    "4.50   | C\n",
    "4.25   | D\n",
    "4.00   | E\n",
    "3.75   | F\n",
    "3.50   | G\n",
    "3.25   | H\n",
    "3.00   | I\n",
    "2.75   | J\n",
    "2.50   | K\n",
    "2.25   | L\n",
    "2.00   | M\n",
    "1.75   | N\n",
    "1.50   | O\n",
    "1.25   | P\n",
    "1.00   | Q\n",
    "\n",
    "Create the 'Grade' column and add it to our chocolate bar `DataFrame`."
   ]
  },
  {
   "cell_type": "markdown",
   "metadata": {
    "id": "l8taMl3U0cv2"
   },
   "source": [
    "**Student Solution**"
   ]
  },
  {
   "cell_type": "code",
   "execution_count": 161,
   "metadata": {},
   "outputs": [
    {
     "data": {
      "text/html": [
       "<div>\n",
       "<style scoped>\n",
       "    .dataframe tbody tr th:only-of-type {\n",
       "        vertical-align: middle;\n",
       "    }\n",
       "\n",
       "    .dataframe tbody tr th {\n",
       "        vertical-align: top;\n",
       "    }\n",
       "\n",
       "    .dataframe thead th {\n",
       "        text-align: right;\n",
       "    }\n",
       "</style>\n",
       "<table border=\"1\" class=\"dataframe\">\n",
       "  <thead>\n",
       "    <tr style=\"text-align: right;\">\n",
       "      <th></th>\n",
       "      <th>Company</th>\n",
       "      <th>Company Location</th>\n",
       "      <th>Bean Type</th>\n",
       "      <th>Specific Bean Origin</th>\n",
       "      <th>Broad Bean Origin</th>\n",
       "      <th>Cocoa Percent</th>\n",
       "      <th>REF</th>\n",
       "      <th>Review Date</th>\n",
       "      <th>Rating</th>\n",
       "    </tr>\n",
       "  </thead>\n",
       "  <tbody>\n",
       "    <tr>\n",
       "      <td>0</td>\n",
       "      <td>A. Morin</td>\n",
       "      <td>France</td>\n",
       "      <td>Unknown</td>\n",
       "      <td>Agua Grande</td>\n",
       "      <td>Sao Tome</td>\n",
       "      <td>63%</td>\n",
       "      <td>1876</td>\n",
       "      <td>2016</td>\n",
       "      <td>3.75</td>\n",
       "    </tr>\n",
       "    <tr>\n",
       "      <td>1</td>\n",
       "      <td>A. Morin</td>\n",
       "      <td>France</td>\n",
       "      <td>Unknown</td>\n",
       "      <td>Kpime</td>\n",
       "      <td>Togo</td>\n",
       "      <td>70%</td>\n",
       "      <td>1676</td>\n",
       "      <td>2015</td>\n",
       "      <td>2.75</td>\n",
       "    </tr>\n",
       "    <tr>\n",
       "      <td>2</td>\n",
       "      <td>A. Morin</td>\n",
       "      <td>France</td>\n",
       "      <td>Unknown</td>\n",
       "      <td>Atsane</td>\n",
       "      <td>Togo</td>\n",
       "      <td>70%</td>\n",
       "      <td>1676</td>\n",
       "      <td>2015</td>\n",
       "      <td>3.00</td>\n",
       "    </tr>\n",
       "    <tr>\n",
       "      <td>3</td>\n",
       "      <td>A. Morin</td>\n",
       "      <td>France</td>\n",
       "      <td>Unknown</td>\n",
       "      <td>Akata</td>\n",
       "      <td>Togo</td>\n",
       "      <td>70%</td>\n",
       "      <td>1680</td>\n",
       "      <td>2015</td>\n",
       "      <td>3.50</td>\n",
       "    </tr>\n",
       "    <tr>\n",
       "      <td>4</td>\n",
       "      <td>A. Morin</td>\n",
       "      <td>France</td>\n",
       "      <td>Unknown</td>\n",
       "      <td>Quilla</td>\n",
       "      <td>Peru</td>\n",
       "      <td>70%</td>\n",
       "      <td>1704</td>\n",
       "      <td>2015</td>\n",
       "      <td>3.50</td>\n",
       "    </tr>\n",
       "    <tr>\n",
       "      <td>5</td>\n",
       "      <td>A. Morin</td>\n",
       "      <td>France</td>\n",
       "      <td>Criollo</td>\n",
       "      <td>Carenero</td>\n",
       "      <td>Venezuela</td>\n",
       "      <td>70%</td>\n",
       "      <td>1315</td>\n",
       "      <td>2014</td>\n",
       "      <td>2.75</td>\n",
       "    </tr>\n",
       "    <tr>\n",
       "      <td>6</td>\n",
       "      <td>A. Morin</td>\n",
       "      <td>France</td>\n",
       "      <td>Unknown</td>\n",
       "      <td>Cuba</td>\n",
       "      <td>Cuba</td>\n",
       "      <td>70%</td>\n",
       "      <td>1315</td>\n",
       "      <td>2014</td>\n",
       "      <td>3.50</td>\n",
       "    </tr>\n",
       "    <tr>\n",
       "      <td>7</td>\n",
       "      <td>A. Morin</td>\n",
       "      <td>France</td>\n",
       "      <td>Criollo</td>\n",
       "      <td>Sur del Lago</td>\n",
       "      <td>Venezuela</td>\n",
       "      <td>70%</td>\n",
       "      <td>1315</td>\n",
       "      <td>2014</td>\n",
       "      <td>3.50</td>\n",
       "    </tr>\n",
       "    <tr>\n",
       "      <td>8</td>\n",
       "      <td>A. Morin</td>\n",
       "      <td>France</td>\n",
       "      <td>Criollo</td>\n",
       "      <td>Puerto Cabello</td>\n",
       "      <td>Venezuela</td>\n",
       "      <td>70%</td>\n",
       "      <td>1319</td>\n",
       "      <td>2014</td>\n",
       "      <td>3.75</td>\n",
       "    </tr>\n",
       "    <tr>\n",
       "      <td>9</td>\n",
       "      <td>A. Morin</td>\n",
       "      <td>France</td>\n",
       "      <td>Unknown</td>\n",
       "      <td>Pablino</td>\n",
       "      <td>Peru</td>\n",
       "      <td>70%</td>\n",
       "      <td>1319</td>\n",
       "      <td>2014</td>\n",
       "      <td>4.00</td>\n",
       "    </tr>\n",
       "    <tr>\n",
       "      <td>10</td>\n",
       "      <td>A. Morin</td>\n",
       "      <td>France</td>\n",
       "      <td>Unknown</td>\n",
       "      <td>Panama</td>\n",
       "      <td>Panama</td>\n",
       "      <td>70%</td>\n",
       "      <td>1011</td>\n",
       "      <td>2013</td>\n",
       "      <td>2.75</td>\n",
       "    </tr>\n",
       "    <tr>\n",
       "      <td>11</td>\n",
       "      <td>A. Morin</td>\n",
       "      <td>France</td>\n",
       "      <td>Criollo</td>\n",
       "      <td>Madagascar</td>\n",
       "      <td>Madagascar</td>\n",
       "      <td>70%</td>\n",
       "      <td>1011</td>\n",
       "      <td>2013</td>\n",
       "      <td>3.00</td>\n",
       "    </tr>\n",
       "    <tr>\n",
       "      <td>12</td>\n",
       "      <td>A. Morin</td>\n",
       "      <td>France</td>\n",
       "      <td>Unknown</td>\n",
       "      <td>Brazil</td>\n",
       "      <td>Brazil</td>\n",
       "      <td>70%</td>\n",
       "      <td>1011</td>\n",
       "      <td>2013</td>\n",
       "      <td>3.25</td>\n",
       "    </tr>\n",
       "    <tr>\n",
       "      <td>13</td>\n",
       "      <td>A. Morin</td>\n",
       "      <td>France</td>\n",
       "      <td>Unknown</td>\n",
       "      <td>Equateur</td>\n",
       "      <td>Ecuador</td>\n",
       "      <td>70%</td>\n",
       "      <td>1011</td>\n",
       "      <td>2013</td>\n",
       "      <td>3.75</td>\n",
       "    </tr>\n",
       "    <tr>\n",
       "      <td>14</td>\n",
       "      <td>A. Morin</td>\n",
       "      <td>France</td>\n",
       "      <td>Unknown</td>\n",
       "      <td>Colombie</td>\n",
       "      <td>Colombia</td>\n",
       "      <td>70%</td>\n",
       "      <td>1015</td>\n",
       "      <td>2013</td>\n",
       "      <td>2.75</td>\n",
       "    </tr>\n",
       "    <tr>\n",
       "      <td>15</td>\n",
       "      <td>A. Morin</td>\n",
       "      <td>France</td>\n",
       "      <td>Unknown</td>\n",
       "      <td>Birmanie</td>\n",
       "      <td>Burma</td>\n",
       "      <td>70%</td>\n",
       "      <td>1015</td>\n",
       "      <td>2013</td>\n",
       "      <td>3.00</td>\n",
       "    </tr>\n",
       "    <tr>\n",
       "      <td>16</td>\n",
       "      <td>A. Morin</td>\n",
       "      <td>France</td>\n",
       "      <td>Unknown</td>\n",
       "      <td>Papua New Guinea</td>\n",
       "      <td>Papua New Guinea</td>\n",
       "      <td>70%</td>\n",
       "      <td>1015</td>\n",
       "      <td>2013</td>\n",
       "      <td>3.25</td>\n",
       "    </tr>\n",
       "    <tr>\n",
       "      <td>17</td>\n",
       "      <td>A. Morin</td>\n",
       "      <td>France</td>\n",
       "      <td>Trinitario</td>\n",
       "      <td>Chuao</td>\n",
       "      <td>Venezuela</td>\n",
       "      <td>70%</td>\n",
       "      <td>1015</td>\n",
       "      <td>2013</td>\n",
       "      <td>4.00</td>\n",
       "    </tr>\n",
       "    <tr>\n",
       "      <td>18</td>\n",
       "      <td>A. Morin</td>\n",
       "      <td>France</td>\n",
       "      <td>Unknown</td>\n",
       "      <td>Piura</td>\n",
       "      <td>Peru</td>\n",
       "      <td>70%</td>\n",
       "      <td>1019</td>\n",
       "      <td>2013</td>\n",
       "      <td>3.25</td>\n",
       "    </tr>\n",
       "    <tr>\n",
       "      <td>19</td>\n",
       "      <td>A. Morin</td>\n",
       "      <td>France</td>\n",
       "      <td>Unknown</td>\n",
       "      <td>Chanchamayo Province</td>\n",
       "      <td>Peru</td>\n",
       "      <td>70%</td>\n",
       "      <td>1019</td>\n",
       "      <td>2013</td>\n",
       "      <td>3.50</td>\n",
       "    </tr>\n",
       "  </tbody>\n",
       "</table>\n",
       "</div>"
      ],
      "text/plain": [
       "     Company Company Location   Bean Type  Specific Bean Origin  \\\n",
       "0   A. Morin           France     Unknown           Agua Grande   \n",
       "1   A. Morin           France     Unknown                 Kpime   \n",
       "2   A. Morin           France     Unknown                Atsane   \n",
       "3   A. Morin           France     Unknown                 Akata   \n",
       "4   A. Morin           France     Unknown                Quilla   \n",
       "5   A. Morin           France     Criollo              Carenero   \n",
       "6   A. Morin           France     Unknown                  Cuba   \n",
       "7   A. Morin           France     Criollo          Sur del Lago   \n",
       "8   A. Morin           France     Criollo        Puerto Cabello   \n",
       "9   A. Morin           France     Unknown               Pablino   \n",
       "10  A. Morin           France     Unknown                Panama   \n",
       "11  A. Morin           France     Criollo            Madagascar   \n",
       "12  A. Morin           France     Unknown                Brazil   \n",
       "13  A. Morin           France     Unknown              Equateur   \n",
       "14  A. Morin           France     Unknown              Colombie   \n",
       "15  A. Morin           France     Unknown              Birmanie   \n",
       "16  A. Morin           France     Unknown      Papua New Guinea   \n",
       "17  A. Morin           France  Trinitario                 Chuao   \n",
       "18  A. Morin           France     Unknown                 Piura   \n",
       "19  A. Morin           France     Unknown  Chanchamayo Province   \n",
       "\n",
       "   Broad Bean Origin Cocoa Percent   REF  Review Date  Rating  \n",
       "0           Sao Tome           63%  1876         2016    3.75  \n",
       "1               Togo           70%  1676         2015    2.75  \n",
       "2               Togo           70%  1676         2015    3.00  \n",
       "3               Togo           70%  1680         2015    3.50  \n",
       "4               Peru           70%  1704         2015    3.50  \n",
       "5          Venezuela           70%  1315         2014    2.75  \n",
       "6               Cuba           70%  1315         2014    3.50  \n",
       "7          Venezuela           70%  1315         2014    3.50  \n",
       "8          Venezuela           70%  1319         2014    3.75  \n",
       "9               Peru           70%  1319         2014    4.00  \n",
       "10            Panama           70%  1011         2013    2.75  \n",
       "11        Madagascar           70%  1011         2013    3.00  \n",
       "12            Brazil           70%  1011         2013    3.25  \n",
       "13           Ecuador           70%  1011         2013    3.75  \n",
       "14          Colombia           70%  1015         2013    2.75  \n",
       "15             Burma           70%  1015         2013    3.00  \n",
       "16  Papua New Guinea           70%  1015         2013    3.25  \n",
       "17         Venezuela           70%  1015         2013    4.00  \n",
       "18              Peru           70%  1019         2013    3.25  \n",
       "19              Peru           70%  1019         2013    3.50  "
      ]
     },
     "execution_count": 161,
     "metadata": {},
     "output_type": "execute_result"
    }
   ],
   "source": [
    "list_x = []\n",
    "list_grade = []\n",
    "x = 5.00\n",
    "\n",
    "for i in range(17):  \n",
    "    list_x.append(x)\n",
    "    x = x - 0.25\n",
    "\n",
    "for i in range(17):  \n",
    "    list_grade.append(string.ascii_uppercase[i])\n",
    "\n",
    "data = {'Rating':list_x,'Grade':list_grade}\n",
    "\n",
    "df_grade =  pd.DataFrame(data)\n",
    "df.head(20)"
   ]
  },
  {
   "cell_type": "code",
   "execution_count": 159,
   "metadata": {},
   "outputs": [
    {
     "data": {
      "text/html": [
       "<div>\n",
       "<style scoped>\n",
       "    .dataframe tbody tr th:only-of-type {\n",
       "        vertical-align: middle;\n",
       "    }\n",
       "\n",
       "    .dataframe tbody tr th {\n",
       "        vertical-align: top;\n",
       "    }\n",
       "\n",
       "    .dataframe thead th {\n",
       "        text-align: right;\n",
       "    }\n",
       "</style>\n",
       "<table border=\"1\" class=\"dataframe\">\n",
       "  <thead>\n",
       "    <tr style=\"text-align: right;\">\n",
       "      <th></th>\n",
       "      <th>Company</th>\n",
       "      <th>Company Location</th>\n",
       "      <th>Bean Type</th>\n",
       "      <th>Specific Bean Origin</th>\n",
       "      <th>Broad Bean Origin</th>\n",
       "      <th>Cocoa Percent</th>\n",
       "      <th>REF</th>\n",
       "      <th>Review Date</th>\n",
       "      <th>Rating</th>\n",
       "      <th>Grade</th>\n",
       "    </tr>\n",
       "  </thead>\n",
       "  <tbody>\n",
       "    <tr>\n",
       "      <td>0</td>\n",
       "      <td>A. Morin</td>\n",
       "      <td>France</td>\n",
       "      <td>Unknown</td>\n",
       "      <td>Agua Grande</td>\n",
       "      <td>Sao Tome</td>\n",
       "      <td>63%</td>\n",
       "      <td>1876</td>\n",
       "      <td>2016</td>\n",
       "      <td>3.75</td>\n",
       "      <td>F</td>\n",
       "    </tr>\n",
       "    <tr>\n",
       "      <td>1</td>\n",
       "      <td>A. Morin</td>\n",
       "      <td>France</td>\n",
       "      <td>Unknown</td>\n",
       "      <td>Kpime</td>\n",
       "      <td>Togo</td>\n",
       "      <td>70%</td>\n",
       "      <td>1676</td>\n",
       "      <td>2015</td>\n",
       "      <td>2.75</td>\n",
       "      <td>J</td>\n",
       "    </tr>\n",
       "    <tr>\n",
       "      <td>2</td>\n",
       "      <td>A. Morin</td>\n",
       "      <td>France</td>\n",
       "      <td>Unknown</td>\n",
       "      <td>Atsane</td>\n",
       "      <td>Togo</td>\n",
       "      <td>70%</td>\n",
       "      <td>1676</td>\n",
       "      <td>2015</td>\n",
       "      <td>3.00</td>\n",
       "      <td>I</td>\n",
       "    </tr>\n",
       "    <tr>\n",
       "      <td>3</td>\n",
       "      <td>A. Morin</td>\n",
       "      <td>France</td>\n",
       "      <td>Unknown</td>\n",
       "      <td>Akata</td>\n",
       "      <td>Togo</td>\n",
       "      <td>70%</td>\n",
       "      <td>1680</td>\n",
       "      <td>2015</td>\n",
       "      <td>3.50</td>\n",
       "      <td>G</td>\n",
       "    </tr>\n",
       "    <tr>\n",
       "      <td>4</td>\n",
       "      <td>A. Morin</td>\n",
       "      <td>France</td>\n",
       "      <td>Unknown</td>\n",
       "      <td>Quilla</td>\n",
       "      <td>Peru</td>\n",
       "      <td>70%</td>\n",
       "      <td>1704</td>\n",
       "      <td>2015</td>\n",
       "      <td>3.50</td>\n",
       "      <td>G</td>\n",
       "    </tr>\n",
       "    <tr>\n",
       "      <td>5</td>\n",
       "      <td>A. Morin</td>\n",
       "      <td>France</td>\n",
       "      <td>Criollo</td>\n",
       "      <td>Carenero</td>\n",
       "      <td>Venezuela</td>\n",
       "      <td>70%</td>\n",
       "      <td>1315</td>\n",
       "      <td>2014</td>\n",
       "      <td>2.75</td>\n",
       "      <td>J</td>\n",
       "    </tr>\n",
       "    <tr>\n",
       "      <td>6</td>\n",
       "      <td>A. Morin</td>\n",
       "      <td>France</td>\n",
       "      <td>Unknown</td>\n",
       "      <td>Cuba</td>\n",
       "      <td>Cuba</td>\n",
       "      <td>70%</td>\n",
       "      <td>1315</td>\n",
       "      <td>2014</td>\n",
       "      <td>3.50</td>\n",
       "      <td>G</td>\n",
       "    </tr>\n",
       "    <tr>\n",
       "      <td>7</td>\n",
       "      <td>A. Morin</td>\n",
       "      <td>France</td>\n",
       "      <td>Criollo</td>\n",
       "      <td>Sur del Lago</td>\n",
       "      <td>Venezuela</td>\n",
       "      <td>70%</td>\n",
       "      <td>1315</td>\n",
       "      <td>2014</td>\n",
       "      <td>3.50</td>\n",
       "      <td>G</td>\n",
       "    </tr>\n",
       "    <tr>\n",
       "      <td>8</td>\n",
       "      <td>A. Morin</td>\n",
       "      <td>France</td>\n",
       "      <td>Criollo</td>\n",
       "      <td>Puerto Cabello</td>\n",
       "      <td>Venezuela</td>\n",
       "      <td>70%</td>\n",
       "      <td>1319</td>\n",
       "      <td>2014</td>\n",
       "      <td>3.75</td>\n",
       "      <td>F</td>\n",
       "    </tr>\n",
       "    <tr>\n",
       "      <td>9</td>\n",
       "      <td>A. Morin</td>\n",
       "      <td>France</td>\n",
       "      <td>Unknown</td>\n",
       "      <td>Pablino</td>\n",
       "      <td>Peru</td>\n",
       "      <td>70%</td>\n",
       "      <td>1319</td>\n",
       "      <td>2014</td>\n",
       "      <td>4.00</td>\n",
       "      <td>E</td>\n",
       "    </tr>\n",
       "    <tr>\n",
       "      <td>10</td>\n",
       "      <td>A. Morin</td>\n",
       "      <td>France</td>\n",
       "      <td>Unknown</td>\n",
       "      <td>Panama</td>\n",
       "      <td>Panama</td>\n",
       "      <td>70%</td>\n",
       "      <td>1011</td>\n",
       "      <td>2013</td>\n",
       "      <td>2.75</td>\n",
       "      <td>J</td>\n",
       "    </tr>\n",
       "    <tr>\n",
       "      <td>11</td>\n",
       "      <td>A. Morin</td>\n",
       "      <td>France</td>\n",
       "      <td>Criollo</td>\n",
       "      <td>Madagascar</td>\n",
       "      <td>Madagascar</td>\n",
       "      <td>70%</td>\n",
       "      <td>1011</td>\n",
       "      <td>2013</td>\n",
       "      <td>3.00</td>\n",
       "      <td>I</td>\n",
       "    </tr>\n",
       "    <tr>\n",
       "      <td>12</td>\n",
       "      <td>A. Morin</td>\n",
       "      <td>France</td>\n",
       "      <td>Unknown</td>\n",
       "      <td>Brazil</td>\n",
       "      <td>Brazil</td>\n",
       "      <td>70%</td>\n",
       "      <td>1011</td>\n",
       "      <td>2013</td>\n",
       "      <td>3.25</td>\n",
       "      <td>H</td>\n",
       "    </tr>\n",
       "    <tr>\n",
       "      <td>13</td>\n",
       "      <td>A. Morin</td>\n",
       "      <td>France</td>\n",
       "      <td>Unknown</td>\n",
       "      <td>Equateur</td>\n",
       "      <td>Ecuador</td>\n",
       "      <td>70%</td>\n",
       "      <td>1011</td>\n",
       "      <td>2013</td>\n",
       "      <td>3.75</td>\n",
       "      <td>F</td>\n",
       "    </tr>\n",
       "    <tr>\n",
       "      <td>14</td>\n",
       "      <td>A. Morin</td>\n",
       "      <td>France</td>\n",
       "      <td>Unknown</td>\n",
       "      <td>Colombie</td>\n",
       "      <td>Colombia</td>\n",
       "      <td>70%</td>\n",
       "      <td>1015</td>\n",
       "      <td>2013</td>\n",
       "      <td>2.75</td>\n",
       "      <td>J</td>\n",
       "    </tr>\n",
       "    <tr>\n",
       "      <td>15</td>\n",
       "      <td>A. Morin</td>\n",
       "      <td>France</td>\n",
       "      <td>Unknown</td>\n",
       "      <td>Birmanie</td>\n",
       "      <td>Burma</td>\n",
       "      <td>70%</td>\n",
       "      <td>1015</td>\n",
       "      <td>2013</td>\n",
       "      <td>3.00</td>\n",
       "      <td>I</td>\n",
       "    </tr>\n",
       "    <tr>\n",
       "      <td>16</td>\n",
       "      <td>A. Morin</td>\n",
       "      <td>France</td>\n",
       "      <td>Unknown</td>\n",
       "      <td>Papua New Guinea</td>\n",
       "      <td>Papua New Guinea</td>\n",
       "      <td>70%</td>\n",
       "      <td>1015</td>\n",
       "      <td>2013</td>\n",
       "      <td>3.25</td>\n",
       "      <td>H</td>\n",
       "    </tr>\n",
       "    <tr>\n",
       "      <td>17</td>\n",
       "      <td>A. Morin</td>\n",
       "      <td>France</td>\n",
       "      <td>Trinitario</td>\n",
       "      <td>Chuao</td>\n",
       "      <td>Venezuela</td>\n",
       "      <td>70%</td>\n",
       "      <td>1015</td>\n",
       "      <td>2013</td>\n",
       "      <td>4.00</td>\n",
       "      <td>E</td>\n",
       "    </tr>\n",
       "    <tr>\n",
       "      <td>18</td>\n",
       "      <td>A. Morin</td>\n",
       "      <td>France</td>\n",
       "      <td>Unknown</td>\n",
       "      <td>Piura</td>\n",
       "      <td>Peru</td>\n",
       "      <td>70%</td>\n",
       "      <td>1019</td>\n",
       "      <td>2013</td>\n",
       "      <td>3.25</td>\n",
       "      <td>H</td>\n",
       "    </tr>\n",
       "    <tr>\n",
       "      <td>19</td>\n",
       "      <td>A. Morin</td>\n",
       "      <td>France</td>\n",
       "      <td>Unknown</td>\n",
       "      <td>Chanchamayo Province</td>\n",
       "      <td>Peru</td>\n",
       "      <td>70%</td>\n",
       "      <td>1019</td>\n",
       "      <td>2013</td>\n",
       "      <td>3.50</td>\n",
       "      <td>G</td>\n",
       "    </tr>\n",
       "  </tbody>\n",
       "</table>\n",
       "</div>"
      ],
      "text/plain": [
       "     Company Company Location   Bean Type  Specific Bean Origin  \\\n",
       "0   A. Morin           France     Unknown           Agua Grande   \n",
       "1   A. Morin           France     Unknown                 Kpime   \n",
       "2   A. Morin           France     Unknown                Atsane   \n",
       "3   A. Morin           France     Unknown                 Akata   \n",
       "4   A. Morin           France     Unknown                Quilla   \n",
       "5   A. Morin           France     Criollo              Carenero   \n",
       "6   A. Morin           France     Unknown                  Cuba   \n",
       "7   A. Morin           France     Criollo          Sur del Lago   \n",
       "8   A. Morin           France     Criollo        Puerto Cabello   \n",
       "9   A. Morin           France     Unknown               Pablino   \n",
       "10  A. Morin           France     Unknown                Panama   \n",
       "11  A. Morin           France     Criollo            Madagascar   \n",
       "12  A. Morin           France     Unknown                Brazil   \n",
       "13  A. Morin           France     Unknown              Equateur   \n",
       "14  A. Morin           France     Unknown              Colombie   \n",
       "15  A. Morin           France     Unknown              Birmanie   \n",
       "16  A. Morin           France     Unknown      Papua New Guinea   \n",
       "17  A. Morin           France  Trinitario                 Chuao   \n",
       "18  A. Morin           France     Unknown                 Piura   \n",
       "19  A. Morin           France     Unknown  Chanchamayo Province   \n",
       "\n",
       "   Broad Bean Origin Cocoa Percent   REF  Review Date  Rating Grade  \n",
       "0           Sao Tome           63%  1876         2016    3.75     F  \n",
       "1               Togo           70%  1676         2015    2.75     J  \n",
       "2               Togo           70%  1676         2015    3.00     I  \n",
       "3               Togo           70%  1680         2015    3.50     G  \n",
       "4               Peru           70%  1704         2015    3.50     G  \n",
       "5          Venezuela           70%  1315         2014    2.75     J  \n",
       "6               Cuba           70%  1315         2014    3.50     G  \n",
       "7          Venezuela           70%  1315         2014    3.50     G  \n",
       "8          Venezuela           70%  1319         2014    3.75     F  \n",
       "9               Peru           70%  1319         2014    4.00     E  \n",
       "10            Panama           70%  1011         2013    2.75     J  \n",
       "11        Madagascar           70%  1011         2013    3.00     I  \n",
       "12            Brazil           70%  1011         2013    3.25     H  \n",
       "13           Ecuador           70%  1011         2013    3.75     F  \n",
       "14          Colombia           70%  1015         2013    2.75     J  \n",
       "15             Burma           70%  1015         2013    3.00     I  \n",
       "16  Papua New Guinea           70%  1015         2013    3.25     H  \n",
       "17         Venezuela           70%  1015         2013    4.00     E  \n",
       "18              Peru           70%  1019         2013    3.25     H  \n",
       "19              Peru           70%  1019         2013    3.50     G  "
      ]
     },
     "execution_count": 159,
     "metadata": {},
     "output_type": "execute_result"
    }
   ],
   "source": [
    "df_new=pd.merge(df, df_grade,how=\"left\")\n",
    "df_new.head(20)"
   ]
  },
  {
   "cell_type": "markdown",
   "metadata": {
    "id": "sOKQItqF0gR3"
   },
   "source": [
    "---"
   ]
  },
  {
   "cell_type": "markdown",
   "metadata": {
    "id": "e0E6_seMAPNg"
   },
   "source": [
    "## Onward\n",
    "\n",
    "We've now explored every column in our dataset. We have filled in missing values and repaired obviously bad data.\n",
    "\n",
    "As you can imagine, you can spend near infinite time trying to get a dataset into shape for analysis and modeling. It is common to hear that up to 60% to 80% of a data scientist's time is spent working on the data before it is fed to a model!\n",
    "\n",
    "In this lab, we only tried to get the data into the state that it was intended to be in. Once we get into modeling, we will learn even more data manipulation techniques that need to be used in order to get models to train well on the data.\n",
    "\n",
    "But we aren't quite ready for model building yet. There is still more Exploratory Data Analysis (EDA) to do. In part 2 of this unit, we will look more closely at the relationships between the columns."
   ]
  }
 ],
 "metadata": {
  "colab": {
   "collapsed_sections": [
    "copyright",
    "xi_YNmlW-Cm0",
    "VJtC2KkqLXHL",
    "PEb_Kz9MSAeQ",
    "j8pEWWVjTLNJ",
    "zU1-9OnmvsLd",
    "uRWrqLn_c3lF"
   ],
   "name": "Exploratory-Data-Analysis-1.ipynb",
   "private_outputs": true,
   "provenance": []
  },
  "kernelspec": {
   "display_name": "Python 3",
   "language": "python",
   "name": "python3"
  },
  "language_info": {
   "codemirror_mode": {
    "name": "ipython",
    "version": 3
   },
   "file_extension": ".py",
   "mimetype": "text/x-python",
   "name": "python",
   "nbconvert_exporter": "python",
   "pygments_lexer": "ipython3",
   "version": "3.7.4"
  }
 },
 "nbformat": 4,
 "nbformat_minor": 1
}
