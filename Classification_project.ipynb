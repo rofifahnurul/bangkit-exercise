{
  "nbformat": 4,
  "nbformat_minor": 0,
  "metadata": {
    "colab": {
      "name": "Classification-project.ipynb",
      "private_outputs": true,
      "provenance": [],
      "collapsed_sections": [
        "copyright",
        "xSJsNKccqC15",
        "exercise-1-key-1",
        "exercise-2-key-1",
        "exercise-3-key-1"
      ],
      "toc_visible": true
    },
    "kernelspec": {
      "display_name": "Python 3",
      "name": "python3"
    }
  },
  "cells": [
    {
      "cell_type": "markdown",
      "metadata": {
        "id": "view-in-github"
      },
      "source": [
        "<a href=\"https://colab.research.google.com/github/google/applied-machine-learning-intensive/blob/master/content/04_classification/04_classification_project/colab.ipynb\" target=\"_parent\"><img src=\"https://colab.research.google.com/assets/colab-badge.svg\" alt=\"Open In Colab\"/></a>"
      ]
    },
    {
      "cell_type": "markdown",
      "metadata": {
        "id": "copyright"
      },
      "source": [
        "#### Copyright 2020 Google LLC."
      ]
    },
    {
      "cell_type": "code",
      "metadata": {
        "id": "-Xt6PXeVjxQN"
      },
      "source": [
        "# Licensed under the Apache License, Version 2.0 (the \"License\");\n",
        "# you may not use this file except in compliance with the License.\n",
        "# You may obtain a copy of the License at\n",
        "#\n",
        "# https://www.apache.org/licenses/LICENSE-2.0\n",
        "#\n",
        "# Unless required by applicable law or agreed to in writing, software\n",
        "# distributed under the License is distributed on an \"AS IS\" BASIS,\n",
        "# WITHOUT WARRANTIES OR CONDITIONS OF ANY KIND, either express or implied.\n",
        "# See the License for the specific language governing permissions and\n",
        "# limitations under the License."
      ],
      "execution_count": null,
      "outputs": []
    },
    {
      "cell_type": "markdown",
      "metadata": {
        "id": "c2hPzRb6j_CA"
      },
      "source": [
        "# Classification Project"
      ]
    },
    {
      "cell_type": "markdown",
      "metadata": {
        "id": "-Xt6PXeVjxQX"
      },
      "source": [
        "In this project you will apply what you have learned about classification and TensorFlow to complete a project from Kaggle. The challenge is to achieve a high accuracy score while trying to predict which passengers survived the Titanic ship crash. After building your model, you will upload your predictions to Kaggle and submit the score that you get."
      ]
    },
    {
      "cell_type": "markdown",
      "metadata": {
        "id": "HDzCkRNv8Kmz"
      },
      "source": [
        "## The Titanic Dataset\n",
        "\n",
        "[Kaggle](https://www.kaggle.com) has a [dataset](https://www.kaggle.com/c/titanic/data) containing the passenger list on the Titanic. The data contains passenger features such as age, gender, ticket class, as well as whether or not they survived.\n",
        "\n",
        "Your job is to create a binary classifier using TensorFlow to determine if a passenger survived or not. The `Survived` column lets you know if the person survived. Then, upload your predictions to Kaggle and submit your accuracy score at the end of this Colab, along with a brief conclusion.\n"
      ]
    },
    {
      "cell_type": "markdown",
      "metadata": {
        "id": "z4IG3YojoVmk"
      },
      "source": [
        "To get the dataset, you'll need to accept the competition's rules by clicking the \"I understand and accept\" button on the [competition rules page](https://www.kaggle.com/c/titanic/rules). Then upload your `kaggle.json` file and run the code below."
      ]
    },
    {
      "cell_type": "code",
      "metadata": {
        "id": "IeVKtKt9oTmI"
      },
      "source": [
        "! chmod 600 kaggle.json && (ls ~/.kaggle 2>/dev/null || mkdir ~/.kaggle) && cp kaggle.json ~/.kaggle/ && echo 'Done'\n",
        "! kaggle competitions download -c titanic\n",
        "! ls"
      ],
      "execution_count": null,
      "outputs": []
    },
    {
      "cell_type": "markdown",
      "metadata": {
        "id": "v4VxbBaUpnB6"
      },
      "source": [
        "**Note: If you see a \"403 - Forbidden\" error above, you still need to click \"I understand and accept\" on the [competition rules page](https://www.kaggle.com/c/titanic/rules).**\n",
        "\n",
        "Three files are downloaded:\n",
        "\n",
        "1. `train.csv`: training data (contains features and targets)\n",
        "1. `test.csv`: feature data used to make predictions to send to Kaggle\n",
        "1. `gender_submission.csv`: an example competition submission file"
      ]
    },
    {
      "cell_type": "markdown",
      "metadata": {
        "id": "-U_zk4L_HpWJ"
      },
      "source": [
        "## Step 1: Exploratory Data Analysis"
      ]
    },
    {
      "cell_type": "markdown",
      "metadata": {
        "id": "4QzpYWY7o0L4"
      },
      "source": [
        "Perform exploratory data analysis and data preprocessing. Use as many text and code blocks as you need to explore the data. Note any findings. Repair any data issues you find."
      ]
    },
    {
      "cell_type": "markdown",
      "metadata": {
        "id": "DhhX2RJEyADd"
      },
      "source": [
        "**Student Solution**"
      ]
    },
    {
      "cell_type": "code",
      "metadata": {
        "id": "jR0P7qrDx-n9"
      },
      "source": [
        "# Your code goes here"
      ],
      "execution_count": null,
      "outputs": []
    },
    {
      "cell_type": "markdown",
      "metadata": {
        "id": "GRiOrGGW6wW6"
      },
      "source": [
        "---"
      ]
    },
    {
      "cell_type": "markdown",
      "metadata": {
        "id": "sxmnIepvmdCx"
      },
      "source": [
        "## Step 2: The Model\n",
        "\n",
        "Build, fit, and evaluate a classification model. Perform any model-specific data processing that you need to perform. If the toolkit you use supports it, create visualizations for loss and accuracy improvements. Use as many text and code blocks as you need to explore the data. Note any findings."
      ]
    },
    {
      "cell_type": "markdown",
      "metadata": {
        "id": "LO8x9d6GHwgQ"
      },
      "source": [
        "**Student Solution**"
      ]
    },
    {
      "cell_type": "code",
      "metadata": {
        "id": "zKgNoBuEm2h0"
      },
      "source": [
        "# Your code goes here"
      ],
      "execution_count": null,
      "outputs": []
    },
    {
      "cell_type": "markdown",
      "metadata": {
        "id": "ZT46j3S26sE2"
      },
      "source": [
        "---"
      ]
    },
    {
      "cell_type": "markdown",
      "metadata": {
        "id": "yXJCSsAdz-f0"
      },
      "source": [
        "## Step 3: Make Predictions and Upload To Kaggle\n",
        "\n",
        "In this step you will make predictions on the features found in the `test.csv` file and upload them to Kaggle using the [Kaggle API](https://github.com/Kaggle/kaggle-api). Use as many text and code blocks as you need to explore the data. Note any findings."
      ]
    },
    {
      "cell_type": "markdown",
      "metadata": {
        "id": "fijeUn4tIFCo"
      },
      "source": [
        "**Student Solution**"
      ]
    },
    {
      "cell_type": "code",
      "metadata": {
        "id": "dEWZUCnT9UkK"
      },
      "source": [
        "# Your code goes here\n"
      ],
      "execution_count": null,
      "outputs": []
    },
    {
      "cell_type": "markdown",
      "metadata": {
        "id": "fRZni-CBVjFV"
      },
      "source": [
        "What was your Kaggle score?"
      ]
    },
    {
      "cell_type": "markdown",
      "metadata": {
        "id": "jjN-tBAP6kM7"
      },
      "source": [
        "> *Record your score here*"
      ]
    },
    {
      "cell_type": "markdown",
      "metadata": {
        "id": "fSw1rDKv6nOO"
      },
      "source": [
        "---"
      ]
    },
    {
      "cell_type": "markdown",
      "metadata": {
        "id": "9KdtnUJP2Uen"
      },
      "source": [
        "## Step 4: Iterate on Your Model\n",
        "\n",
        "In this step you're encouraged to play around with your model settings and to even try different models. See if you can get a better score. Use as many text and code blocks as you need to explore the data. Note any findings."
      ]
    },
    {
      "cell_type": "markdown",
      "metadata": {
        "id": "w5rYKVkgT8NL"
      },
      "source": [
        "**Student Solution**"
      ]
    },
    {
      "cell_type": "code",
      "metadata": {
        "id": "MDEErS0f8oi7"
      },
      "source": [
        "# Your code goes here"
      ],
      "execution_count": null,
      "outputs": []
    },
    {
      "cell_type": "markdown",
      "metadata": {
        "id": "QkyT_lz6_K7E"
      },
      "source": [
        "---"
      ]
    }
  ]
}